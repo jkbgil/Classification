{
 "cells": [
  {
   "cell_type": "markdown",
   "metadata": {},
   "source": [
    "<a id='start'></a>"
   ]
  },
  {
   "cell_type": "markdown",
   "metadata": {},
   "source": [
    "# Classification Project - Adult Dataset"
   ]
  },
  {
   "cell_type": "markdown",
   "metadata": {},
   "source": [
    "**Description**\n",
    "\n",
    "Based on a set of features like age, workclass, education, race etc. determine whether a person makes over 50K a year or less than that. \n",
    "\n",
    "**Files**\n",
    "\n",
    "https://archive.ics.uci.edu/ml/datasets/Adult\n",
    "\n",
    "**Project author:**\n",
    "\n",
    "Jakub Gil"
   ]
  },
  {
   "cell_type": "markdown",
   "metadata": {},
   "source": [
    "This project is split into several segments. If you wish to access any particular one, click on one of the links below.\n",
    "\n",
    "01. Start [here](#start)\n",
    "\n",
    "02. Exploratory Data Analysis [here](#eda)\n",
    "\n",
    "03. Data preprocessing [here](#preprocess)\n",
    "\n",
    "04. Train test split [here](#train_test)\n",
    "\n",
    "04. Selecting the best ML algorithm [here](#selecting)\n",
    "\n",
    "05. Hyperparameter tuning [here](#tuning)\n",
    "\n",
    "06. Ensemble Learning [here](#ensemble)\n",
    "\n",
    "06. Final evaluation [here](#final)\n",
    "\n",
    "07. Feature importance [here](#feature_importance)\n",
    "\n",
    "07. Is it possible to improve the model? And how? [here](#possible)"
   ]
  },
  {
   "cell_type": "code",
   "execution_count": 76,
   "metadata": {},
   "outputs": [],
   "source": [
    "# Importing the required libraries\n",
    "import pandas as pd\n",
    "import numpy as np\n",
    "import matplotlib as mpl\n",
    "import matplotlib.pyplot as plt\n",
    "import seaborn as sns\n",
    "import warnings\n",
    "import xgboost\n",
    "\n",
    "# Preprocessing - categorical data\n",
    "from sklearn.preprocessing import OrdinalEncoder, OneHotEncoder, LabelEncoder\n",
    "from sklearn.compose import ColumnTransformer\n",
    "\n",
    "# Preprocessing - numerical data\n",
    "from sklearn.preprocessing import StandardScaler\n",
    "\n",
    "# Train-test split\n",
    "from sklearn.model_selection import train_test_split\n",
    "\n",
    "# Model selection\n",
    "from sklearn.linear_model import LogisticRegression, SGDClassifier\n",
    "from sklearn.neighbors import KNeighborsClassifier\n",
    "from sklearn.tree import DecisionTreeClassifier\n",
    "from sklearn.ensemble import RandomForestClassifier, GradientBoostingClassifier\n",
    "from xgboost import XGBClassifier\n",
    "\n",
    "# Model evaluation\n",
    "from sklearn.metrics import classification_report, confusion_matrix\n",
    "from sklearn.metrics import plot_roc_curve, roc_curve, roc_auc_score, accuracy_score\n",
    "from sklearn.model_selection import cross_val_score\n",
    "\n",
    "# Hyperparameter tuning\n",
    "from sklearn.model_selection import RandomizedSearchCV, GridSearchCV\n",
    "\n",
    "# Ensemble learning\n",
    "from sklearn.ensemble import VotingClassifier\n",
    "\n",
    "# Making graphs visible in Jupyter notebook\n",
    "%matplotlib inline\n",
    "\n",
    "# Disable warnings\n",
    "warnings.filterwarnings('ignore')"
   ]
  },
  {
   "cell_type": "code",
   "execution_count": 77,
   "metadata": {},
   "outputs": [],
   "source": [
    "# Column names\n",
    "\n",
    "cols = ('Age',\n",
    "        'Workclass',\n",
    "        'fnlwgt',\n",
    "        'Education',\n",
    "        'Education-num',\n",
    "        'Marital-status',\n",
    "        'Occupation',\n",
    "        'Relationship',\n",
    "        'Race',\n",
    "        'Sex',\n",
    "        'Capital-gain',\n",
    "        'Capital-loss',\n",
    "        'Hours-per-week',\n",
    "        'Native-country',\n",
    "        'Income')"
   ]
  },
  {
   "cell_type": "code",
   "execution_count": 78,
   "metadata": {},
   "outputs": [
    {
     "data": {
      "text/html": [
       "<div>\n",
       "<style scoped>\n",
       "    .dataframe tbody tr th:only-of-type {\n",
       "        vertical-align: middle;\n",
       "    }\n",
       "\n",
       "    .dataframe tbody tr th {\n",
       "        vertical-align: top;\n",
       "    }\n",
       "\n",
       "    .dataframe thead th {\n",
       "        text-align: right;\n",
       "    }\n",
       "</style>\n",
       "<table border=\"1\" class=\"dataframe\">\n",
       "  <thead>\n",
       "    <tr style=\"text-align: right;\">\n",
       "      <th></th>\n",
       "      <th>Age</th>\n",
       "      <th>Workclass</th>\n",
       "      <th>fnlwgt</th>\n",
       "      <th>Education</th>\n",
       "      <th>Education-num</th>\n",
       "      <th>Marital-status</th>\n",
       "      <th>Occupation</th>\n",
       "      <th>Relationship</th>\n",
       "      <th>Race</th>\n",
       "      <th>Sex</th>\n",
       "      <th>Capital-gain</th>\n",
       "      <th>Capital-loss</th>\n",
       "      <th>Hours-per-week</th>\n",
       "      <th>Native-country</th>\n",
       "      <th>Income</th>\n",
       "    </tr>\n",
       "  </thead>\n",
       "  <tbody>\n",
       "    <tr>\n",
       "      <th>0</th>\n",
       "      <td>39</td>\n",
       "      <td>State-gov</td>\n",
       "      <td>77516</td>\n",
       "      <td>Bachelors</td>\n",
       "      <td>13</td>\n",
       "      <td>Never-married</td>\n",
       "      <td>Adm-clerical</td>\n",
       "      <td>Not-in-family</td>\n",
       "      <td>White</td>\n",
       "      <td>Male</td>\n",
       "      <td>2174</td>\n",
       "      <td>0</td>\n",
       "      <td>40</td>\n",
       "      <td>United-States</td>\n",
       "      <td>&lt;=50K</td>\n",
       "    </tr>\n",
       "    <tr>\n",
       "      <th>1</th>\n",
       "      <td>50</td>\n",
       "      <td>Self-emp-not-inc</td>\n",
       "      <td>83311</td>\n",
       "      <td>Bachelors</td>\n",
       "      <td>13</td>\n",
       "      <td>Married-civ-spouse</td>\n",
       "      <td>Exec-managerial</td>\n",
       "      <td>Husband</td>\n",
       "      <td>White</td>\n",
       "      <td>Male</td>\n",
       "      <td>0</td>\n",
       "      <td>0</td>\n",
       "      <td>13</td>\n",
       "      <td>United-States</td>\n",
       "      <td>&lt;=50K</td>\n",
       "    </tr>\n",
       "    <tr>\n",
       "      <th>2</th>\n",
       "      <td>38</td>\n",
       "      <td>Private</td>\n",
       "      <td>215646</td>\n",
       "      <td>HS-grad</td>\n",
       "      <td>9</td>\n",
       "      <td>Divorced</td>\n",
       "      <td>Handlers-cleaners</td>\n",
       "      <td>Not-in-family</td>\n",
       "      <td>White</td>\n",
       "      <td>Male</td>\n",
       "      <td>0</td>\n",
       "      <td>0</td>\n",
       "      <td>40</td>\n",
       "      <td>United-States</td>\n",
       "      <td>&lt;=50K</td>\n",
       "    </tr>\n",
       "    <tr>\n",
       "      <th>3</th>\n",
       "      <td>53</td>\n",
       "      <td>Private</td>\n",
       "      <td>234721</td>\n",
       "      <td>11th</td>\n",
       "      <td>7</td>\n",
       "      <td>Married-civ-spouse</td>\n",
       "      <td>Handlers-cleaners</td>\n",
       "      <td>Husband</td>\n",
       "      <td>Black</td>\n",
       "      <td>Male</td>\n",
       "      <td>0</td>\n",
       "      <td>0</td>\n",
       "      <td>40</td>\n",
       "      <td>United-States</td>\n",
       "      <td>&lt;=50K</td>\n",
       "    </tr>\n",
       "    <tr>\n",
       "      <th>4</th>\n",
       "      <td>28</td>\n",
       "      <td>Private</td>\n",
       "      <td>338409</td>\n",
       "      <td>Bachelors</td>\n",
       "      <td>13</td>\n",
       "      <td>Married-civ-spouse</td>\n",
       "      <td>Prof-specialty</td>\n",
       "      <td>Wife</td>\n",
       "      <td>Black</td>\n",
       "      <td>Female</td>\n",
       "      <td>0</td>\n",
       "      <td>0</td>\n",
       "      <td>40</td>\n",
       "      <td>Cuba</td>\n",
       "      <td>&lt;=50K</td>\n",
       "    </tr>\n",
       "  </tbody>\n",
       "</table>\n",
       "</div>"
      ],
      "text/plain": [
       "   Age          Workclass  fnlwgt   Education  Education-num  \\\n",
       "0   39          State-gov   77516   Bachelors             13   \n",
       "1   50   Self-emp-not-inc   83311   Bachelors             13   \n",
       "2   38            Private  215646     HS-grad              9   \n",
       "3   53            Private  234721        11th              7   \n",
       "4   28            Private  338409   Bachelors             13   \n",
       "\n",
       "        Marital-status          Occupation    Relationship    Race      Sex  \\\n",
       "0        Never-married        Adm-clerical   Not-in-family   White     Male   \n",
       "1   Married-civ-spouse     Exec-managerial         Husband   White     Male   \n",
       "2             Divorced   Handlers-cleaners   Not-in-family   White     Male   \n",
       "3   Married-civ-spouse   Handlers-cleaners         Husband   Black     Male   \n",
       "4   Married-civ-spouse      Prof-specialty            Wife   Black   Female   \n",
       "\n",
       "   Capital-gain  Capital-loss  Hours-per-week  Native-country  Income  \n",
       "0          2174             0              40   United-States   <=50K  \n",
       "1             0             0              13   United-States   <=50K  \n",
       "2             0             0              40   United-States   <=50K  \n",
       "3             0             0              40   United-States   <=50K  \n",
       "4             0             0              40            Cuba   <=50K  "
      ]
     },
     "execution_count": 78,
     "metadata": {},
     "output_type": "execute_result"
    }
   ],
   "source": [
    "# Importing the train set\n",
    "\n",
    "train = pd.read_csv('datasets/adult.data', names=cols)\n",
    "train.head()"
   ]
  },
  {
   "cell_type": "code",
   "execution_count": 79,
   "metadata": {},
   "outputs": [
    {
     "data": {
      "text/html": [
       "<div>\n",
       "<style scoped>\n",
       "    .dataframe tbody tr th:only-of-type {\n",
       "        vertical-align: middle;\n",
       "    }\n",
       "\n",
       "    .dataframe tbody tr th {\n",
       "        vertical-align: top;\n",
       "    }\n",
       "\n",
       "    .dataframe thead th {\n",
       "        text-align: right;\n",
       "    }\n",
       "</style>\n",
       "<table border=\"1\" class=\"dataframe\">\n",
       "  <thead>\n",
       "    <tr style=\"text-align: right;\">\n",
       "      <th></th>\n",
       "      <th>Age</th>\n",
       "      <th>Workclass</th>\n",
       "      <th>fnlwgt</th>\n",
       "      <th>Education</th>\n",
       "      <th>Education-num</th>\n",
       "      <th>Marital-status</th>\n",
       "      <th>Occupation</th>\n",
       "      <th>Relationship</th>\n",
       "      <th>Race</th>\n",
       "      <th>Sex</th>\n",
       "      <th>Capital-gain</th>\n",
       "      <th>Capital-loss</th>\n",
       "      <th>Hours-per-week</th>\n",
       "      <th>Native-country</th>\n",
       "      <th>Income</th>\n",
       "    </tr>\n",
       "  </thead>\n",
       "  <tbody>\n",
       "    <tr>\n",
       "      <th>1</th>\n",
       "      <td>25</td>\n",
       "      <td>Private</td>\n",
       "      <td>226802.0</td>\n",
       "      <td>11th</td>\n",
       "      <td>7.0</td>\n",
       "      <td>Never-married</td>\n",
       "      <td>Machine-op-inspct</td>\n",
       "      <td>Own-child</td>\n",
       "      <td>Black</td>\n",
       "      <td>Male</td>\n",
       "      <td>0.0</td>\n",
       "      <td>0.0</td>\n",
       "      <td>40.0</td>\n",
       "      <td>United-States</td>\n",
       "      <td>&lt;=50K.</td>\n",
       "    </tr>\n",
       "    <tr>\n",
       "      <th>2</th>\n",
       "      <td>38</td>\n",
       "      <td>Private</td>\n",
       "      <td>89814.0</td>\n",
       "      <td>HS-grad</td>\n",
       "      <td>9.0</td>\n",
       "      <td>Married-civ-spouse</td>\n",
       "      <td>Farming-fishing</td>\n",
       "      <td>Husband</td>\n",
       "      <td>White</td>\n",
       "      <td>Male</td>\n",
       "      <td>0.0</td>\n",
       "      <td>0.0</td>\n",
       "      <td>50.0</td>\n",
       "      <td>United-States</td>\n",
       "      <td>&lt;=50K.</td>\n",
       "    </tr>\n",
       "    <tr>\n",
       "      <th>3</th>\n",
       "      <td>28</td>\n",
       "      <td>Local-gov</td>\n",
       "      <td>336951.0</td>\n",
       "      <td>Assoc-acdm</td>\n",
       "      <td>12.0</td>\n",
       "      <td>Married-civ-spouse</td>\n",
       "      <td>Protective-serv</td>\n",
       "      <td>Husband</td>\n",
       "      <td>White</td>\n",
       "      <td>Male</td>\n",
       "      <td>0.0</td>\n",
       "      <td>0.0</td>\n",
       "      <td>40.0</td>\n",
       "      <td>United-States</td>\n",
       "      <td>&gt;50K.</td>\n",
       "    </tr>\n",
       "    <tr>\n",
       "      <th>4</th>\n",
       "      <td>44</td>\n",
       "      <td>Private</td>\n",
       "      <td>160323.0</td>\n",
       "      <td>Some-college</td>\n",
       "      <td>10.0</td>\n",
       "      <td>Married-civ-spouse</td>\n",
       "      <td>Machine-op-inspct</td>\n",
       "      <td>Husband</td>\n",
       "      <td>Black</td>\n",
       "      <td>Male</td>\n",
       "      <td>7688.0</td>\n",
       "      <td>0.0</td>\n",
       "      <td>40.0</td>\n",
       "      <td>United-States</td>\n",
       "      <td>&gt;50K.</td>\n",
       "    </tr>\n",
       "    <tr>\n",
       "      <th>5</th>\n",
       "      <td>18</td>\n",
       "      <td>?</td>\n",
       "      <td>103497.0</td>\n",
       "      <td>Some-college</td>\n",
       "      <td>10.0</td>\n",
       "      <td>Never-married</td>\n",
       "      <td>?</td>\n",
       "      <td>Own-child</td>\n",
       "      <td>White</td>\n",
       "      <td>Female</td>\n",
       "      <td>0.0</td>\n",
       "      <td>0.0</td>\n",
       "      <td>30.0</td>\n",
       "      <td>United-States</td>\n",
       "      <td>&lt;=50K.</td>\n",
       "    </tr>\n",
       "  </tbody>\n",
       "</table>\n",
       "</div>"
      ],
      "text/plain": [
       "  Age   Workclass    fnlwgt      Education  Education-num  \\\n",
       "1  25     Private  226802.0           11th            7.0   \n",
       "2  38     Private   89814.0        HS-grad            9.0   \n",
       "3  28   Local-gov  336951.0     Assoc-acdm           12.0   \n",
       "4  44     Private  160323.0   Some-college           10.0   \n",
       "5  18           ?  103497.0   Some-college           10.0   \n",
       "\n",
       "        Marital-status          Occupation Relationship    Race      Sex  \\\n",
       "1        Never-married   Machine-op-inspct    Own-child   Black     Male   \n",
       "2   Married-civ-spouse     Farming-fishing      Husband   White     Male   \n",
       "3   Married-civ-spouse     Protective-serv      Husband   White     Male   \n",
       "4   Married-civ-spouse   Machine-op-inspct      Husband   Black     Male   \n",
       "5        Never-married                   ?    Own-child   White   Female   \n",
       "\n",
       "   Capital-gain  Capital-loss  Hours-per-week  Native-country   Income  \n",
       "1           0.0           0.0            40.0   United-States   <=50K.  \n",
       "2           0.0           0.0            50.0   United-States   <=50K.  \n",
       "3           0.0           0.0            40.0   United-States    >50K.  \n",
       "4        7688.0           0.0            40.0   United-States    >50K.  \n",
       "5           0.0           0.0            30.0   United-States   <=50K.  "
      ]
     },
     "execution_count": 79,
     "metadata": {},
     "output_type": "execute_result"
    }
   ],
   "source": [
    "# Importing the test set\n",
    "\n",
    "test = pd.read_csv('datasets/adult.test', names=cols)\n",
    "test = test[1:]\n",
    "test.head()"
   ]
  },
  {
   "cell_type": "code",
   "execution_count": 80,
   "metadata": {},
   "outputs": [],
   "source": [
    "# Merging the train and test set for the sake of Exploratory Data Analysis and data preparation\n",
    "\n",
    "train_test = pd.concat([train,test],axis=0)"
   ]
  },
  {
   "cell_type": "code",
   "execution_count": 81,
   "metadata": {},
   "outputs": [
    {
     "data": {
      "text/plain": [
       "<matplotlib.axes._subplots.AxesSubplot at 0x1ba17928700>"
      ]
     },
     "execution_count": 81,
     "metadata": {},
     "output_type": "execute_result"
    },
    {
     "data": {
      "image/png": "[encoded data removed]",
      "text/plain": [
       "<Figure size 432x288 with 1 Axes>"
      ]
     },
     "metadata": {
      "needs_background": "light"
     },
     "output_type": "display_data"
    }
   ],
   "source": [
    "sns.countplot(train_test['Income'])"
   ]
  },
  {
   "cell_type": "markdown",
   "metadata": {},
   "source": [
    "As we can see above, the income category is a bit messy. In the train set, it's either ' <=50K' or ' >50K', while in the test set: ' <=50K.' or ' >50K.' (with full stops). "
   ]
  },
  {
   "cell_type": "code",
   "execution_count": 82,
   "metadata": {},
   "outputs": [],
   "source": [
    "# Cleaning up the Income category\n",
    "\n",
    "train_test.loc[train_test['Income'] == ' <=50K.', 'Income'] = ' <=50K'\n",
    "train_test.loc[train_test['Income'] == ' >50K.', 'Income'] = ' >50K'\n",
    "train_test.loc[train_test['Income'] == '>50K', 'Income'] = ' >50K'"
   ]
  },
  {
   "cell_type": "markdown",
   "metadata": {},
   "source": [
    "<a id='eda'></a>"
   ]
  },
  {
   "cell_type": "markdown",
   "metadata": {},
   "source": [
    "# EDA - Exploratory Data Analysis"
   ]
  },
  {
   "cell_type": "markdown",
   "metadata": {},
   "source": [
    "## How long do men and women work?"
   ]
  },
  {
   "cell_type": "code",
   "execution_count": 83,
   "metadata": {},
   "outputs": [
    {
     "data": {
      "text/plain": [
       "<matplotlib.legend.Legend at 0x1ba15979e50>"
      ]
     },
     "execution_count": 83,
     "metadata": {},
     "output_type": "execute_result"
    },
    {
     "data": {
      "image/png": "[encoded data removed]",
      "text/plain": [
       "<Figure size 864x720 with 1 Axes>"
      ]
     },
     "metadata": {
      "needs_background": "light"
     },
     "output_type": "display_data"
    }
   ],
   "source": [
    "plt.figure(figsize=(12,10))\n",
    "plt.title('Men and Women hours/week - Comparison',fontsize=16)\n",
    "plt.hist(train_test[train_test['Sex']==' Male']['Hours-per-week'],bins=20,color='blue',alpha=0.5,label='Men')\n",
    "plt.hist(train_test[train_test['Sex']==' Female']['Hours-per-week'],bins=20,color='red',alpha=0.5,label='Women')\n",
    "\n",
    "plt.legend(fontsize=14)"
   ]
  },
  {
   "cell_type": "markdown",
   "metadata": {},
   "source": [
    "In the vast majority of cases, both men and women work a little less than 40 hours per week. When it comes to the 40-70-hour working week, more men tend to work that much, however in the areas of 10-40 hours, it is women who more usually fall under that category. \n",
    "\n",
    "All of this is of course %-wise, relatively to the size of each respective gender category. It would be a mistake to compare absolute numbers here since in the case of men there's more data samples than in the case of women.\n",
    "\n",
    "This is demonstrated below:"
   ]
  },
  {
   "cell_type": "code",
   "execution_count": 84,
   "metadata": {},
   "outputs": [
    {
     "data": {
      "text/plain": [
       " Male      32650\n",
       " Female    16192\n",
       "Name: Sex, dtype: int64"
      ]
     },
     "execution_count": 84,
     "metadata": {},
     "output_type": "execute_result"
    },
    {
     "data": {
      "image/png": "[encoded data removed]",
      "text/plain": [
       "<Figure size 432x288 with 1 Axes>"
      ]
     },
     "metadata": {
      "needs_background": "light"
     },
     "output_type": "display_data"
    }
   ],
   "source": [
    "plt.title('Gender distribution in the dataset',fontsize=15)\n",
    "sns.countplot(train_test['Sex'])\n",
    "\n",
    "train_test['Sex'].value_counts()"
   ]
  },
  {
   "cell_type": "markdown",
   "metadata": {},
   "source": [
    "## How much do men and women make?"
   ]
  },
  {
   "cell_type": "code",
   "execution_count": 85,
   "metadata": {},
   "outputs": [
    {
     "data": {
      "text/plain": [
       "(array([    0.,  5000., 10000., 15000., 20000., 25000.]),\n",
       " <a list of 6 Text major ticklabel objects>)"
      ]
     },
     "execution_count": 85,
     "metadata": {},
     "output_type": "execute_result"
    },
    {
     "data": {
      "image/png": "[encoded data removed]",
      "text/plain": [
       "<Figure size 720x576 with 1 Axes>"
      ]
     },
     "metadata": {
      "needs_background": "light"
     },
     "output_type": "display_data"
    }
   ],
   "source": [
    "plt.figure(figsize=(10,8))\n",
    "sns.countplot(train_test['Income'],hue=train_test['Sex'])\n",
    "plt.title('Men and Women Income',fontsize=18)\n",
    "plt.legend(fontsize=14)\n",
    "plt.xticks(fontsize=13)\n",
    "plt.yticks(fontsize=13)"
   ]
  },
  {
   "cell_type": "code",
   "execution_count": 86,
   "metadata": {},
   "outputs": [
    {
     "name": "stdout",
     "output_type": "stream",
     "text": [
      "Male Income:\n",
      " <=50K    22732\n",
      " >50K      9918\n",
      "Name: Income, dtype: int64\n",
      "\n",
      "\n",
      "Female Income:\n",
      " <=50K    14423\n",
      " >50K      1769\n",
      "Name: Income, dtype: int64\n"
     ]
    }
   ],
   "source": [
    "print('Male Income:')\n",
    "print(train_test[train_test['Sex'] == ' Male']['Income'].value_counts())\n",
    "\n",
    "print('\\n')\n",
    "\n",
    "print('Female Income:')\n",
    "print(train_test[train_test['Sex'] == ' Female']['Income'].value_counts())"
   ]
  },
  {
   "cell_type": "code",
   "execution_count": 87,
   "metadata": {},
   "outputs": [
    {
     "name": "stdout",
     "output_type": "stream",
     "text": [
      "MALE AND FEMALE INCOME (%):\n",
      "Out of all men,  30.38 % earn over 50k.\n",
      "Out of all women,  10.93 % earn over 50k.\n"
     ]
    }
   ],
   "source": [
    "men_over_50k_percent = np.round(100*(train_test[train_test['Sex'] == ' Male']['Income'].value_counts()[1])/len(train_test[train_test['Sex'] == ' Male']['Income']),2)\n",
    "women_over_50k_percent = np.round(100*(train_test[train_test['Sex'] == ' Female']['Income'].value_counts()[1])/len(train_test[train_test['Sex'] == ' Female']['Income']),2)\n",
    "\n",
    "print('MALE AND FEMALE INCOME (%):')\n",
    "print('Out of all men, ', men_over_50k_percent, '% earn over 50k.')\n",
    "print('Out of all women, ', women_over_50k_percent, '% earn over 50k.')"
   ]
  },
  {
   "cell_type": "code",
   "execution_count": 88,
   "metadata": {},
   "outputs": [
    {
     "data": {
      "image/png": "[encoded data removed]",
      "text/plain": [
       "<Figure size 432x288 with 1 Axes>"
      ]
     },
     "metadata": {},
     "output_type": "display_data"
    }
   ],
   "source": [
    "income_gender_metrics = pd.DataFrame({'Men': men_over_50k_percent,\n",
    "                                     'Women': women_over_50k_percent},\n",
    "                                    index=['Income'])\n",
    "\n",
    "sns.set(font_scale=1.5)\n",
    "income_gender_metrics.T.plot.bar(title='% of Men and Women earning >50k',legend=False)\n",
    "sns.set()"
   ]
  },
  {
   "cell_type": "markdown",
   "metadata": {},
   "source": [
    "Generally for the whole population, people tend to earn less than 50k. However, when we break this down, we can see that in the case of men the % of people earning over 50k is around 3x larger than in the case of women. This can be correlated with what has been demonstrated before: the fact that men tend to work longer hours but also with a higher hour rate for men. However, since there's no data on the hour rate, let's only make a connection between the earnings and the working hours."
   ]
  },
  {
   "cell_type": "markdown",
   "metadata": {},
   "source": [
    "## Does race influence earnings?"
   ]
  },
  {
   "cell_type": "code",
   "execution_count": 89,
   "metadata": {},
   "outputs": [
    {
     "data": {
      "text/plain": [
       "array([' White', ' Black', ' Asian-Pac-Islander', ' Amer-Indian-Eskimo',\n",
       "       ' Other'], dtype=object)"
      ]
     },
     "execution_count": 89,
     "metadata": {},
     "output_type": "execute_result"
    }
   ],
   "source": [
    "train_test['Race'].unique()"
   ]
  },
  {
   "cell_type": "markdown",
   "metadata": {},
   "source": [
    "First, let's look at the race distribution in the dataset. This is particularly important since in the case of the races with very few examples the data is not as telling as when we have more data samples to work with. For example, if one group has 50k+ examples and the other only 2k, the other group's sample set is simply not large enough to form conclusions with the same certainty as in the bigger sample set. "
   ]
  },
  {
   "cell_type": "code",
   "execution_count": 90,
   "metadata": {},
   "outputs": [
    {
     "data": {
      "text/plain": [
       "<matplotlib.axes._subplots.AxesSubplot at 0x1ba158c5ac0>"
      ]
     },
     "execution_count": 90,
     "metadata": {},
     "output_type": "execute_result"
    },
    {
     "data": {
      "image/png": "[encoded data removed]",
      "text/plain": [
       "<Figure size 1152x432 with 1 Axes>"
      ]
     },
     "metadata": {},
     "output_type": "display_data"
    }
   ],
   "source": [
    "# Race distribution in the dataset\n",
    "\n",
    "plt.figure(figsize=(16,6))\n",
    "plt.title('Race distribution',fontsize=15)\n",
    "sns.countplot(y=train['Race'])"
   ]
  },
  {
   "cell_type": "code",
   "execution_count": 91,
   "metadata": {},
   "outputs": [
    {
     "name": "stdout",
     "output_type": "stream",
     "text": [
      "White people that earn over 50k:\n",
      "10607\n",
      "Total number of White people in the dataset:\n",
      "41762\n",
      "White people that earn over 50k (%):\n",
      "25.4 %\n",
      "\n",
      "\n",
      "Black people that earn over 50k:\n",
      "566\n",
      "Total number of Black people in the dataset:\n",
      "4685\n",
      "Black people that earn over 50k (%):\n",
      "12.08 %\n",
      "\n",
      "\n",
      "Asian-Pac-Islander people that earn over 50k:\n",
      "409\n",
      "Total number of Asian-Pac-Islander people in the dataset:\n",
      "1519\n",
      "Asian-Pac-Islander people that earn over 50k (%):\n",
      "26.93 %\n",
      "\n",
      "\n",
      "Amer-Indian-Eskimo people that earn over 50k:\n",
      "55\n",
      "Total number of Amer-Indian-Eskimo people in the dataset:\n",
      "470\n",
      "Amer-Indian-Eskimo people that earn over 50k (%):\n",
      "11.7 %\n",
      "\n",
      "\n",
      "Other people that earn over 50k:\n",
      "50\n",
      "Total number of Other people in the dataset:\n",
      "406\n",
      "Other people that earn over 50k (%):\n",
      "12.32 %\n"
     ]
    }
   ],
   "source": [
    "# White people\n",
    "\n",
    "print('White people that earn over 50k:')\n",
    "white_over_50k_nom = train_test[train_test['Race'] == ' White']['Income'].value_counts()[1]\n",
    "print(white_over_50k_nom)\n",
    "print('Total number of White people in the dataset:')\n",
    "white_total = len(train_test[train_test['Race'] == ' White'])\n",
    "print(white_total)\n",
    "print('White people that earn over 50k (%):')\n",
    "white_over_50k_per = np.round(100*(white_over_50k_nom/white_total),2)\n",
    "print(white_over_50k_per, '%')\n",
    "\n",
    "print('\\n')\n",
    "\n",
    "# Black people\n",
    "\n",
    "print('Black people that earn over 50k:')\n",
    "black_over_50k_nom = train_test[train_test['Race'] == ' Black']['Income'].value_counts()[1]\n",
    "print(black_over_50k_nom)\n",
    "print('Total number of Black people in the dataset:')\n",
    "black_total = len(train_test[train_test['Race'] == ' Black'])\n",
    "print(black_total)\n",
    "print('Black people that earn over 50k (%):')\n",
    "black_over_50k_per = np.round(100*(black_over_50k_nom/black_total),2)\n",
    "print(black_over_50k_per, '%')\n",
    "\n",
    "print('\\n')\n",
    "\n",
    "# Asian-Pac-Islander\n",
    "\n",
    "print('Asian-Pac-Islander people that earn over 50k:')\n",
    "asian_over_50k_nom = train_test[train_test['Race'] == ' Asian-Pac-Islander']['Income'].value_counts()[1]\n",
    "print(asian_over_50k_nom)\n",
    "print('Total number of Asian-Pac-Islander people in the dataset:')\n",
    "asian_total = len(train_test[train_test['Race'] == ' Asian-Pac-Islander'])\n",
    "print(asian_total)\n",
    "print('Asian-Pac-Islander people that earn over 50k (%):')\n",
    "asian_over_50k_per = np.round(100*(asian_over_50k_nom/asian_total),2)\n",
    "print(asian_over_50k_per, '%')\n",
    "\n",
    "print('\\n')\n",
    "\n",
    "# Amer-Indian-Eskimo\n",
    "\n",
    "print('Amer-Indian-Eskimo people that earn over 50k:')\n",
    "amer_over_50k_nom = train_test[train_test['Race'] == ' Amer-Indian-Eskimo']['Income'].value_counts()[1]\n",
    "print(amer_over_50k_nom)\n",
    "print('Total number of Amer-Indian-Eskimo people in the dataset:')\n",
    "amer_total = len(train_test[train_test['Race'] == ' Amer-Indian-Eskimo'])\n",
    "print(amer_total)\n",
    "print('Amer-Indian-Eskimo people that earn over 50k (%):')\n",
    "amer_over_50k_per = np.round(100*(amer_over_50k_nom/amer_total),2)\n",
    "print(amer_over_50k_per, '%')\n",
    "\n",
    "print('\\n')\n",
    "\n",
    "# Other\n",
    "\n",
    "print('Other people that earn over 50k:')\n",
    "other_over_50k_nom = train_test[train_test['Race'] == ' Other']['Income'].value_counts()[1]\n",
    "print(other_over_50k_nom)\n",
    "print('Total number of Other people in the dataset:')\n",
    "other_total = len(train_test[train_test['Race'] == ' Other'])\n",
    "print(other_total)\n",
    "print('Other people that earn over 50k (%):')\n",
    "other_over_50k_per = np.round(100*(other_over_50k_nom/other_total),2)\n",
    "print(other_over_50k_per, '%')"
   ]
  },
  {
   "cell_type": "code",
   "execution_count": 92,
   "metadata": {},
   "outputs": [
    {
     "data": {
      "image/png": "[encoded data removed]",
      "text/plain": [
       "<Figure size 432x288 with 1 Axes>"
      ]
     },
     "metadata": {},
     "output_type": "display_data"
    }
   ],
   "source": [
    "income_metrics = pd.DataFrame({'White': white_over_50k_per,\n",
    "                             'Black': black_over_50k_per,\n",
    "                             'Asian-Pac-Islander': asian_over_50k_per,\n",
    "                             'Amer-Indian-Eskimo': amer_over_50k_per,\n",
    "                             'Other': other_over_50k_per},\n",
    "                             index=['% (>50k)'])\n",
    "sns.set(font_scale=1.5)\n",
    "income_metrics.T.plot.bar(title='% of population earning >50k',legend=False)\n",
    "sns.set()"
   ]
  },
  {
   "cell_type": "markdown",
   "metadata": {},
   "source": [
    "This could also be presented in tabular form:"
   ]
  },
  {
   "cell_type": "code",
   "execution_count": 93,
   "metadata": {},
   "outputs": [
    {
     "data": {
      "text/html": [
       "<div>\n",
       "<style scoped>\n",
       "    .dataframe tbody tr th:only-of-type {\n",
       "        vertical-align: middle;\n",
       "    }\n",
       "\n",
       "    .dataframe tbody tr th {\n",
       "        vertical-align: top;\n",
       "    }\n",
       "\n",
       "    .dataframe thead th {\n",
       "        text-align: right;\n",
       "    }\n",
       "</style>\n",
       "<table border=\"1\" class=\"dataframe\">\n",
       "  <thead>\n",
       "    <tr style=\"text-align: right;\">\n",
       "      <th></th>\n",
       "      <th>% (&gt;50k)</th>\n",
       "    </tr>\n",
       "  </thead>\n",
       "  <tbody>\n",
       "    <tr>\n",
       "      <th>Asian-Pac-Islander</th>\n",
       "      <td>26.93</td>\n",
       "    </tr>\n",
       "    <tr>\n",
       "      <th>White</th>\n",
       "      <td>25.40</td>\n",
       "    </tr>\n",
       "    <tr>\n",
       "      <th>Other</th>\n",
       "      <td>12.32</td>\n",
       "    </tr>\n",
       "    <tr>\n",
       "      <th>Black</th>\n",
       "      <td>12.08</td>\n",
       "    </tr>\n",
       "    <tr>\n",
       "      <th>Amer-Indian-Eskimo</th>\n",
       "      <td>11.70</td>\n",
       "    </tr>\n",
       "  </tbody>\n",
       "</table>\n",
       "</div>"
      ],
      "text/plain": [
       "                    % (>50k)\n",
       "Asian-Pac-Islander     26.93\n",
       "White                  25.40\n",
       "Other                  12.32\n",
       "Black                  12.08\n",
       "Amer-Indian-Eskimo     11.70"
      ]
     },
     "execution_count": 93,
     "metadata": {},
     "output_type": "execute_result"
    }
   ],
   "source": [
    "income_metrics.T.sort_values(by=['% (>50k)'],ascending=False)"
   ]
  },
  {
   "cell_type": "markdown",
   "metadata": {},
   "source": [
    "We can see that around 25% white and Asian-Pac-Islander people earn over 50k while Black, Amer-Indian-Eskimo and Other people are somewhere between 11-13%. \n",
    "\n",
    "It is very important to note how much data on each race we have and also take that into account. **In the case of Asian-Pac-Islander, Amer-Indian-Eskimo and Other people there's very little data in comparison to White and Black people (but White in particular) so the % we got for them should not be considered as seriously.**"
   ]
  },
  {
   "cell_type": "markdown",
   "metadata": {},
   "source": [
    "<a id='preprocess'></a>"
   ]
  },
  {
   "cell_type": "markdown",
   "metadata": {},
   "source": [
    "# Data preprocessing"
   ]
  },
  {
   "cell_type": "markdown",
   "metadata": {},
   "source": [
    "## Null objects and Outliers"
   ]
  },
  {
   "cell_type": "code",
   "execution_count": 94,
   "metadata": {},
   "outputs": [
    {
     "name": "stdout",
     "output_type": "stream",
     "text": [
      "<class 'pandas.core.frame.DataFrame'>\n",
      "Int64Index: 48842 entries, 0 to 16281\n",
      "Data columns (total 15 columns):\n",
      " #   Column          Non-Null Count  Dtype  \n",
      "---  ------          --------------  -----  \n",
      " 0   Age             48842 non-null  object \n",
      " 1   Workclass       48842 non-null  object \n",
      " 2   fnlwgt          48842 non-null  float64\n",
      " 3   Education       48842 non-null  object \n",
      " 4   Education-num   48842 non-null  float64\n",
      " 5   Marital-status  48842 non-null  object \n",
      " 6   Occupation      48842 non-null  object \n",
      " 7   Relationship    48842 non-null  object \n",
      " 8   Race            48842 non-null  object \n",
      " 9   Sex             48842 non-null  object \n",
      " 10  Capital-gain    48842 non-null  float64\n",
      " 11  Capital-loss    48842 non-null  float64\n",
      " 12  Hours-per-week  48842 non-null  float64\n",
      " 13  Native-country  48842 non-null  object \n",
      " 14  Income          48842 non-null  object \n",
      "dtypes: float64(5), object(10)\n",
      "memory usage: 7.2+ MB\n"
     ]
    }
   ],
   "source": [
    "train_test.info()"
   ]
  },
  {
   "cell_type": "markdown",
   "metadata": {},
   "source": [
    "There are no null objects/missing data in the dataset, however it seems there's a lot 0 values in the 'Capital-gain' and 'Capital-loss' categories."
   ]
  },
  {
   "cell_type": "code",
   "execution_count": 95,
   "metadata": {},
   "outputs": [
    {
     "name": "stdout",
     "output_type": "stream",
     "text": [
      "Number of 0 values in Capital-gain:  44807\n",
      "Total number of values in Capital-gain:  48842\n",
      "% of 0 values in Capital-gain:  91.74\n",
      "\n",
      "\n",
      "Number of 0 values in Capital-gain:  46560\n",
      "Total number of values in Capital-loss:  48842\n",
      "% of 0 values in Capital-loss:  95.33\n"
     ]
    }
   ],
   "source": [
    "print('Number of 0 values in Capital-gain: ', len(train_test[train_test['Capital-gain'] == 0]))\n",
    "print('Total number of values in Capital-gain: ', len(train_test))\n",
    "print('% of 0 values in Capital-gain: ', np.round(100*len(train_test[train_test['Capital-gain'] == 0])/len(train_test),2))\n",
    "\n",
    "print('\\n')\n",
    "\n",
    "print('Number of 0 values in Capital-gain: ', len(train_test[train_test['Capital-loss'] == 0]))\n",
    "print('Total number of values in Capital-loss: ', len(train_test))\n",
    "print('% of 0 values in Capital-loss: ', np.round(100*len(train_test[train_test['Capital-loss'] == 0])/len(train_test),2))"
   ]
  },
  {
   "cell_type": "code",
   "execution_count": 96,
   "metadata": {},
   "outputs": [
    {
     "data": {
      "text/plain": [
       "Text(0.5, 1.0, 'Capital-loss')"
      ]
     },
     "execution_count": 96,
     "metadata": {},
     "output_type": "execute_result"
    },
    {
     "data": {
      "image/png": "[encoded data removed]",
      "text/plain": [
       "<Figure size 1152x432 with 2 Axes>"
      ]
     },
     "metadata": {},
     "output_type": "display_data"
    }
   ],
   "source": [
    "plt.figure(figsize=(16,6))\n",
    "\n",
    "plt.subplot(1,2,1)\n",
    "train_test['Capital-gain'].plot.hist(bins=50)\n",
    "plt.title('Capital-gain',fontsize=15)\n",
    "train_test_cuts = pd.cut(train_test['Capital-gain'], 5)\n",
    "\n",
    "plt.subplot(1,2,2)\n",
    "train_test['Capital-loss'].plot.hist(bins=50)\n",
    "plt.title('Capital-loss',fontsize=15)"
   ]
  },
  {
   "cell_type": "markdown",
   "metadata": {},
   "source": [
    "There seem to be a lot of 0 values for Capital-gain and Capital-loss. With over 90% 0 values in both categories, it could be a case of missing data. If it really is missing data, usually both the Capital-gain and the Capital-loss categories would be dropped. For now, however, they are best left as they are."
   ]
  },
  {
   "cell_type": "markdown",
   "metadata": {},
   "source": [
    "## Features split - categorical and numerical"
   ]
  },
  {
   "cell_type": "code",
   "execution_count": 97,
   "metadata": {},
   "outputs": [],
   "source": [
    "# Splitting the data into numerical and categorical attributes\n",
    "\n",
    "train_test_num = train_test[['Age', 'fnlwgt', 'Education-num', 'Capital-gain', 'Capital-loss', 'Hours-per-week']]\n",
    "train_test_cat = train_test[['Workclass','Education','Marital-status','Occupation','Relationship','Race','Sex','Native-country','Income']]"
   ]
  },
  {
   "cell_type": "markdown",
   "metadata": {},
   "source": [
    "## Encoding the categorical data"
   ]
  },
  {
   "cell_type": "markdown",
   "metadata": {},
   "source": [
    "In otder for the ML algorithm to perform better, it's a good practice to encode the categorical data."
   ]
  },
  {
   "cell_type": "code",
   "execution_count": 98,
   "metadata": {},
   "outputs": [
    {
     "data": {
      "text/html": [
       "<div>\n",
       "<style scoped>\n",
       "    .dataframe tbody tr th:only-of-type {\n",
       "        vertical-align: middle;\n",
       "    }\n",
       "\n",
       "    .dataframe tbody tr th {\n",
       "        vertical-align: top;\n",
       "    }\n",
       "\n",
       "    .dataframe thead th {\n",
       "        text-align: right;\n",
       "    }\n",
       "</style>\n",
       "<table border=\"1\" class=\"dataframe\">\n",
       "  <thead>\n",
       "    <tr style=\"text-align: right;\">\n",
       "      <th></th>\n",
       "      <th>Workclass</th>\n",
       "      <th>Education</th>\n",
       "      <th>Marital-status</th>\n",
       "      <th>Occupation</th>\n",
       "      <th>Relationship</th>\n",
       "      <th>Race</th>\n",
       "      <th>Sex</th>\n",
       "      <th>Native-country</th>\n",
       "      <th>Income</th>\n",
       "    </tr>\n",
       "  </thead>\n",
       "  <tbody>\n",
       "    <tr>\n",
       "      <th>0</th>\n",
       "      <td>State-gov</td>\n",
       "      <td>Bachelors</td>\n",
       "      <td>Never-married</td>\n",
       "      <td>Adm-clerical</td>\n",
       "      <td>Not-in-family</td>\n",
       "      <td>White</td>\n",
       "      <td>Male</td>\n",
       "      <td>United-States</td>\n",
       "      <td>&lt;=50K</td>\n",
       "    </tr>\n",
       "    <tr>\n",
       "      <th>1</th>\n",
       "      <td>Self-emp-not-inc</td>\n",
       "      <td>Bachelors</td>\n",
       "      <td>Married-civ-spouse</td>\n",
       "      <td>Exec-managerial</td>\n",
       "      <td>Husband</td>\n",
       "      <td>White</td>\n",
       "      <td>Male</td>\n",
       "      <td>United-States</td>\n",
       "      <td>&lt;=50K</td>\n",
       "    </tr>\n",
       "    <tr>\n",
       "      <th>2</th>\n",
       "      <td>Private</td>\n",
       "      <td>HS-grad</td>\n",
       "      <td>Divorced</td>\n",
       "      <td>Handlers-cleaners</td>\n",
       "      <td>Not-in-family</td>\n",
       "      <td>White</td>\n",
       "      <td>Male</td>\n",
       "      <td>United-States</td>\n",
       "      <td>&lt;=50K</td>\n",
       "    </tr>\n",
       "    <tr>\n",
       "      <th>3</th>\n",
       "      <td>Private</td>\n",
       "      <td>11th</td>\n",
       "      <td>Married-civ-spouse</td>\n",
       "      <td>Handlers-cleaners</td>\n",
       "      <td>Husband</td>\n",
       "      <td>Black</td>\n",
       "      <td>Male</td>\n",
       "      <td>United-States</td>\n",
       "      <td>&lt;=50K</td>\n",
       "    </tr>\n",
       "    <tr>\n",
       "      <th>4</th>\n",
       "      <td>Private</td>\n",
       "      <td>Bachelors</td>\n",
       "      <td>Married-civ-spouse</td>\n",
       "      <td>Prof-specialty</td>\n",
       "      <td>Wife</td>\n",
       "      <td>Black</td>\n",
       "      <td>Female</td>\n",
       "      <td>Cuba</td>\n",
       "      <td>&lt;=50K</td>\n",
       "    </tr>\n",
       "    <tr>\n",
       "      <th>...</th>\n",
       "      <td>...</td>\n",
       "      <td>...</td>\n",
       "      <td>...</td>\n",
       "      <td>...</td>\n",
       "      <td>...</td>\n",
       "      <td>...</td>\n",
       "      <td>...</td>\n",
       "      <td>...</td>\n",
       "      <td>...</td>\n",
       "    </tr>\n",
       "    <tr>\n",
       "      <th>16277</th>\n",
       "      <td>Private</td>\n",
       "      <td>Bachelors</td>\n",
       "      <td>Divorced</td>\n",
       "      <td>Prof-specialty</td>\n",
       "      <td>Not-in-family</td>\n",
       "      <td>White</td>\n",
       "      <td>Female</td>\n",
       "      <td>United-States</td>\n",
       "      <td>&lt;=50K</td>\n",
       "    </tr>\n",
       "    <tr>\n",
       "      <th>16278</th>\n",
       "      <td>?</td>\n",
       "      <td>HS-grad</td>\n",
       "      <td>Widowed</td>\n",
       "      <td>?</td>\n",
       "      <td>Other-relative</td>\n",
       "      <td>Black</td>\n",
       "      <td>Male</td>\n",
       "      <td>United-States</td>\n",
       "      <td>&lt;=50K</td>\n",
       "    </tr>\n",
       "    <tr>\n",
       "      <th>16279</th>\n",
       "      <td>Private</td>\n",
       "      <td>Bachelors</td>\n",
       "      <td>Married-civ-spouse</td>\n",
       "      <td>Prof-specialty</td>\n",
       "      <td>Husband</td>\n",
       "      <td>White</td>\n",
       "      <td>Male</td>\n",
       "      <td>United-States</td>\n",
       "      <td>&lt;=50K</td>\n",
       "    </tr>\n",
       "    <tr>\n",
       "      <th>16280</th>\n",
       "      <td>Private</td>\n",
       "      <td>Bachelors</td>\n",
       "      <td>Divorced</td>\n",
       "      <td>Adm-clerical</td>\n",
       "      <td>Own-child</td>\n",
       "      <td>Asian-Pac-Islander</td>\n",
       "      <td>Male</td>\n",
       "      <td>United-States</td>\n",
       "      <td>&lt;=50K</td>\n",
       "    </tr>\n",
       "    <tr>\n",
       "      <th>16281</th>\n",
       "      <td>Self-emp-inc</td>\n",
       "      <td>Bachelors</td>\n",
       "      <td>Married-civ-spouse</td>\n",
       "      <td>Exec-managerial</td>\n",
       "      <td>Husband</td>\n",
       "      <td>White</td>\n",
       "      <td>Male</td>\n",
       "      <td>United-States</td>\n",
       "      <td>&gt;50K</td>\n",
       "    </tr>\n",
       "  </tbody>\n",
       "</table>\n",
       "<p>48842 rows × 9 columns</p>\n",
       "</div>"
      ],
      "text/plain": [
       "               Workclass   Education       Marital-status          Occupation  \\\n",
       "0              State-gov   Bachelors        Never-married        Adm-clerical   \n",
       "1       Self-emp-not-inc   Bachelors   Married-civ-spouse     Exec-managerial   \n",
       "2                Private     HS-grad             Divorced   Handlers-cleaners   \n",
       "3                Private        11th   Married-civ-spouse   Handlers-cleaners   \n",
       "4                Private   Bachelors   Married-civ-spouse      Prof-specialty   \n",
       "...                  ...         ...                  ...                 ...   \n",
       "16277            Private   Bachelors             Divorced      Prof-specialty   \n",
       "16278                  ?     HS-grad              Widowed                   ?   \n",
       "16279            Private   Bachelors   Married-civ-spouse      Prof-specialty   \n",
       "16280            Private   Bachelors             Divorced        Adm-clerical   \n",
       "16281       Self-emp-inc   Bachelors   Married-civ-spouse     Exec-managerial   \n",
       "\n",
       "          Relationship                 Race      Sex  Native-country  Income  \n",
       "0        Not-in-family                White     Male   United-States   <=50K  \n",
       "1              Husband                White     Male   United-States   <=50K  \n",
       "2        Not-in-family                White     Male   United-States   <=50K  \n",
       "3              Husband                Black     Male   United-States   <=50K  \n",
       "4                 Wife                Black   Female            Cuba   <=50K  \n",
       "...                ...                  ...      ...             ...     ...  \n",
       "16277    Not-in-family                White   Female   United-States   <=50K  \n",
       "16278   Other-relative                Black     Male   United-States   <=50K  \n",
       "16279          Husband                White     Male   United-States   <=50K  \n",
       "16280        Own-child   Asian-Pac-Islander     Male   United-States   <=50K  \n",
       "16281          Husband                White     Male   United-States    >50K  \n",
       "\n",
       "[48842 rows x 9 columns]"
      ]
     },
     "execution_count": 98,
     "metadata": {},
     "output_type": "execute_result"
    }
   ],
   "source": [
    "train_test_cat"
   ]
  },
  {
   "cell_type": "markdown",
   "metadata": {},
   "source": [
    "There are 2 ways in which we're going to encode the categorical data: label encoding and one-hot encoding. Upon analysing the categorical data, here's which features we are going to encode in what way:"
   ]
  },
  {
   "cell_type": "markdown",
   "metadata": {},
   "source": [
    "**Ordinal encoding:**\n",
    "\n",
    "Feature 1 - Education (ordinal feature, assign by yourself, not alphabetically)\n",
    "\n",
    "Feature 8 (output feature) - Income\n",
    "\n",
    "**One-hot encoding:**\n",
    "\n",
    "Feature 0 - Workclass\n",
    "\n",
    "Feature 2 - Marital-status\n",
    "\n",
    "Feature 3 - Occupation\n",
    "\n",
    "Feature 4 - Relationship *(we will not simplify this feature as it doesn't have that many unique classes)*\n",
    "\n",
    "Feature 5 - Race *(we will not simplify this feature as it doesn't have that many unique classes)*\n",
    "\n",
    "Feature 6 - Sex\n",
    "\n",
    "Feature 7 - Native-country"
   ]
  },
  {
   "cell_type": "markdown",
   "metadata": {},
   "source": [
    "To make the computations easier for the ML algorithm, the features with many unique classes should be simplified. The fewer classes, the better. Of course we don't want to oversimplify and lose important information in the process."
   ]
  },
  {
   "cell_type": "markdown",
   "metadata": {},
   "source": [
    "## Simplifying the features (for easier encoding and faster computation times)"
   ]
  },
  {
   "cell_type": "code",
   "execution_count": 99,
   "metadata": {},
   "outputs": [],
   "source": [
    "# Creating a data frame that will contain the simplified features (with fewer unique classes)\n",
    "\n",
    "train_test_bin = pd.DataFrame()"
   ]
  },
  {
   "cell_type": "code",
   "execution_count": 100,
   "metadata": {},
   "outputs": [],
   "source": [
    "# Simplifying Feature 0 - workclass\n",
    "\n",
    "train_test.loc[train_test['Workclass'] == ' Without-pay', 'Workclass'] = 'Non-worker'\n",
    "train_test.loc[train_test['Workclass'] == ' Never-worked', 'Workclass'] = 'Non-worker'\n",
    "train_test.loc[train_test['Workclass'] == ' State-gov', 'Workclass'] = 'Government'\n",
    "train_test.loc[train_test['Workclass'] == ' Federal-gov', 'Workclass'] = 'Government'\n",
    "train_test.loc[train_test['Workclass'] == ' Local-gov', 'Workclass'] = 'Government'\n",
    "train_test.loc[train_test['Workclass'] == ' Local-gov Workclass', 'Workclass'] = 'Government'\n",
    "train_test.loc[train_test['Workclass'] == ' Self-emp-not-inc', 'Workclass'] = 'Self-emp'\n",
    "train_test.loc[train_test['Workclass'] == ' Self-emp-inc', 'Workclass'] = 'Self-emp'\n",
    "train_test.loc[train_test['Workclass'] == ' ?', 'Workclass'] = 'Unknown-Workclass'\n",
    "\n",
    "train_test_bin['Workclass'] = train_test['Workclass']"
   ]
  },
  {
   "cell_type": "code",
   "execution_count": 101,
   "metadata": {},
   "outputs": [
    {
     "data": {
      "text/plain": [
       "Text(0.5, 1.0, 'Workclass - Simplified')"
      ]
     },
     "execution_count": 101,
     "metadata": {},
     "output_type": "execute_result"
    },
    {
     "data": {
      "image/png": "[encoded data removed]",
      "text/plain": [
       "<Figure size 864x864 with 2 Axes>"
      ]
     },
     "metadata": {},
     "output_type": "display_data"
    }
   ],
   "source": [
    "plt.figure(figsize=(12,12))\n",
    "\n",
    "plt.subplot(2,1,1)\n",
    "sns.countplot(train_test_cat['Workclass'])\n",
    "plt.title('Workclass', fontsize=15)\n",
    "\n",
    "plt.subplot(2,1,2)\n",
    "sns.countplot(train_test_bin['Workclass'])\n",
    "plt.title('Workclass - Simplified', fontsize=15)"
   ]
  },
  {
   "cell_type": "code",
   "execution_count": 102,
   "metadata": {},
   "outputs": [],
   "source": [
    "# Adding Feagure 1 - Education (we don't simplify this feature)\n",
    "\n",
    "train_test_bin['Education'] = train_test['Education']"
   ]
  },
  {
   "cell_type": "code",
   "execution_count": 103,
   "metadata": {},
   "outputs": [],
   "source": [
    "# Simplifying Feature 2 - Marital-status\n",
    "\n",
    "train_test.loc[train_test['Marital-status'] == ' Divorced', 'Marital-status'] = 'Separated'\n",
    "train_test.loc[train_test['Marital-status'] == ' Separated', 'Marital-status'] = 'Separated'\n",
    "train_test.loc[train_test['Marital-status'] == ' Married-civ-spouse', 'Marital-status'] = 'Married'\n",
    "train_test.loc[train_test['Marital-status'] == ' Married-AF-spouse', 'Marital-status'] = 'Married'\n",
    "\n",
    "train_test_bin['Marital-status'] = train_test['Marital-status']"
   ]
  },
  {
   "cell_type": "code",
   "execution_count": 104,
   "metadata": {},
   "outputs": [
    {
     "data": {
      "text/plain": [
       "Text(0.5, 1.0, 'Marital-status Simplified')"
      ]
     },
     "execution_count": 104,
     "metadata": {},
     "output_type": "execute_result"
    },
    {
     "data": {
      "image/png": "[encoded data removed]",
      "text/plain": [
       "<Figure size 864x864 with 2 Axes>"
      ]
     },
     "metadata": {},
     "output_type": "display_data"
    }
   ],
   "source": [
    "plt.figure(figsize=(12,12))\n",
    "\n",
    "plt.subplot(2,1,1)\n",
    "sns.countplot(train_test_cat['Marital-status'])\n",
    "plt.title('Marital-status',fontsize=15)\n",
    "\n",
    "plt.subplot(2,1,2)\n",
    "sns.countplot(train_test_bin['Marital-status'])\n",
    "plt.title('Marital-status Simplified',fontsize=15)"
   ]
  },
  {
   "cell_type": "code",
   "execution_count": 105,
   "metadata": {},
   "outputs": [],
   "source": [
    "# Simplifying feature 3 - Occupation\n",
    "\n",
    "train_test.loc[train_test['Occupation'] == ' Adm-clerical', 'Occupation'] = 'Admin'\n",
    "train_test.loc[train_test['Occupation'] == ' Armed-Forces', 'Occupation'] = 'Military'\n",
    "train_test.loc[train_test['Occupation'] == ' Protective-serv', 'Occupation'] = 'Military'\n",
    "train_test.loc[train_test['Occupation'] == ' Exec-managerial', 'Occupation'] = 'Office'\n",
    "train_test.loc[train_test['Occupation'] == ' Tech-support', 'Occupation'] = 'Office'\n",
    "train_test.loc[train_test['Occupation'] == ' Sales', 'Occupation'] = 'Office'\n",
    "train_test.loc[train_test['Occupation'] == ' Craft-repair', 'Occupation'] = 'Manual'\n",
    "train_test.loc[train_test['Occupation'] == ' Farming-fishing', 'Occupation'] = 'Manual'\n",
    "train_test.loc[train_test['Occupation'] == ' Handlers-cleaners', 'Occupation'] = 'Manual'\n",
    "train_test.loc[train_test['Occupation'] == ' Machine-op-inspct', 'Occupation'] = 'Manual'\n",
    "train_test.loc[train_test['Occupation'] == ' Transport-moving', 'Occupation'] = 'Manual'\n",
    "train_test.loc[train_test['Occupation'] == ' Other-service', 'Occupation'] = 'Service'\n",
    "train_test.loc[train_test['Occupation'] == ' Priv-house-serv', 'Occupation'] = 'Service'\n",
    "train_test.loc[train_test['Occupation'] == ' Prof-specialty', 'Occupation'] = 'Professional'\n",
    "train_test.loc[train_test['Occupation'] == ' ?', 'Occupation'] = 'Unknown-Occupation'\n",
    "\n",
    "train_test_bin['Occupation'] = train_test['Occupation']"
   ]
  },
  {
   "cell_type": "code",
   "execution_count": 106,
   "metadata": {},
   "outputs": [
    {
     "data": {
      "text/plain": [
       "Text(0.5, 1.0, 'Occupation Simplified')"
      ]
     },
     "execution_count": 106,
     "metadata": {},
     "output_type": "execute_result"
    },
    {
     "data": {
      "image/png": "[encoded data removed]",
      "text/plain": [
       "<Figure size 864x864 with 2 Axes>"
      ]
     },
     "metadata": {},
     "output_type": "display_data"
    }
   ],
   "source": [
    "plt.figure(figsize=(12,12))\n",
    "\n",
    "plt.subplot(2,1,1)\n",
    "sns.countplot(y=train_test_cat['Occupation'])\n",
    "plt.title('Occupation', fontsize=15)\n",
    "\n",
    "plt.subplot(2,1,2)\n",
    "sns.countplot(train_test_bin['Occupation'])\n",
    "plt.title('Occupation Simplified', fontsize=15)"
   ]
  },
  {
   "cell_type": "code",
   "execution_count": 107,
   "metadata": {},
   "outputs": [],
   "source": [
    "# Adding feature 4 - Relationship\n",
    "\n",
    "train_test_bin['Relationship'] = train_test_cat['Relationship']\n",
    "\n",
    "# Adding feature 5 - Race\n",
    "\n",
    "train_test_bin['Race'] = train_test_cat['Race']\n",
    "\n",
    "# Adding feature 6 - Sex \n",
    "\n",
    "train_test_bin['Sex'] = train_test_cat['Sex']"
   ]
  },
  {
   "cell_type": "code",
   "execution_count": 108,
   "metadata": {},
   "outputs": [],
   "source": [
    "# Simplifying feature 7\n",
    "\n",
    "# USA (due to the relative importance in the dataset USA is not paired together with the rest of North-America)\n",
    "# Instead, it's a separate category.\n",
    "train_test.loc[train_test['Native-country'] == ' United-States', 'Native-country'] = 'USA'\n",
    "\n",
    "# Europe\n",
    "train_test.loc[train_test['Native-country'] == ' Germany', 'Native-country'] = 'Europe'\n",
    "train_test.loc[train_test['Native-country'] == ' England', 'Native-country'] = 'Europe'\n",
    "train_test.loc[train_test['Native-country'] == ' Italy', 'Native-country'] = 'Europe'\n",
    "train_test.loc[train_test['Native-country'] == ' Poland', 'Native-country'] = 'Europe'\n",
    "train_test.loc[train_test['Native-country'] == ' Portugal', 'Native-country'] = 'Europe'\n",
    "train_test.loc[train_test['Native-country'] == ' Greece', 'Native-country'] = 'Europe'\n",
    "train_test.loc[train_test['Native-country'] == ' France', 'Native-country'] = 'Europe'\n",
    "train_test.loc[train_test['Native-country'] == ' Ireland', 'Native-country'] = 'Europe'\n",
    "train_test.loc[train_test['Native-country'] == ' Yugoslavia', 'Native-country'] = 'Europe'\n",
    "train_test.loc[train_test['Native-country'] == ' Hungary', 'Native-country'] = 'Europe'\n",
    "train_test.loc[train_test['Native-country'] == ' Scotland', 'Native-country'] = 'Europe'\n",
    "train_test.loc[train_test['Native-country'] == ' Holand-Netherlands', 'Native-country'] = 'Europe'\n",
    "\n",
    "# North America\n",
    "train_test.loc[train_test['Native-country'] == ' Mexico', 'Native-country'] = 'North-America'\n",
    "train_test.loc[train_test['Native-country'] == ' Canada', 'Native-country'] = 'North-America'\n",
    "train_test.loc[train_test['Native-country'] == ' Puerto-Rico', 'Native-country'] = 'North-America'\n",
    "train_test.loc[train_test['Native-country'] == ' Cuba', 'Native-country'] = 'North-America'\n",
    "train_test.loc[train_test['Native-country'] == ' Jamaica', 'Native-country'] = 'North-America'\n",
    "train_test.loc[train_test['Native-country'] == ' Dominican-Republic', 'Native-country'] = 'North-America'\n",
    "train_test.loc[train_test['Native-country'] == ' Outlying-US(Guam-USVI-etc)', 'Native-country'] = 'North-America'\n",
    "\n",
    "# South America (for the sake of simplicity, every country in Middle America falls uder this category too)\n",
    "train_test.loc[train_test['Native-country'] == ' El-Salvador', 'Native-country'] = 'South-America'\n",
    "train_test.loc[train_test['Native-country'] == ' Guatemala', 'Native-country'] = 'South-America'\n",
    "train_test.loc[train_test['Native-country'] == ' Columbia', 'Native-country'] = 'South-America'\n",
    "train_test.loc[train_test['Native-country'] == ' Haiti', 'Native-country'] = 'South-America'\n",
    "train_test.loc[train_test['Native-country'] == ' Nicaragua', 'Native-country'] = 'South-America'\n",
    "train_test.loc[train_test['Native-country'] == ' Peru', 'Native-country'] = 'South-America'\n",
    "train_test.loc[train_test['Native-country'] == ' Ecuador', 'Native-country'] = 'South-America'\n",
    "train_test.loc[train_test['Native-country'] == ' Trinadad&Tobago', 'Native-country'] = 'South-America'\n",
    "train_test.loc[train_test['Native-country'] == ' Honduras', 'Native-country'] = 'South-America'\n",
    "\n",
    "# Asia \n",
    "train_test.loc[train_test['Native-country'] == ' Philippines', 'Native-country'] = 'Asia'\n",
    "train_test.loc[train_test['Native-country'] == ' India', 'Native-country'] = 'Asia'\n",
    "train_test.loc[train_test['Native-country'] == ' South', 'Native-country'] = 'Asia' # we're assuming here it's South Korea\n",
    "train_test.loc[train_test['Native-country'] == ' China', 'Native-country'] = 'Asia'\n",
    "train_test.loc[train_test['Native-country'] == ' Vietnam', 'Native-country'] = 'Asia'\n",
    "train_test.loc[train_test['Native-country'] == ' Japan', 'Native-country'] = 'Asia'\n",
    "train_test.loc[train_test['Native-country'] == ' Taiwan', 'Native-country'] = 'Asia'\n",
    "train_test.loc[train_test['Native-country'] == ' Iran', 'Native-country'] = 'Asia'\n",
    "train_test.loc[train_test['Native-country'] == ' Hong', 'Native-country'] = 'Asia' # we're assuming here it's Hongkong\n",
    "train_test.loc[train_test['Native-country'] == ' Cambodia', 'Native-country'] = 'Asia'\n",
    "train_test.loc[train_test['Native-country'] == ' Laos', 'Native-country'] = 'Asia'\n",
    "train_test.loc[train_test['Native-country'] == ' Thailand', 'Native-country'] = 'Asia'\n",
    "\n",
    "train_test.loc[train_test['Native-country'] == ' ?', 'Native-country'] = 'Unknown-Country'\n",
    "\n",
    "train_test_bin['Native-country'] = train_test['Native-country']"
   ]
  },
  {
   "cell_type": "code",
   "execution_count": 109,
   "metadata": {},
   "outputs": [
    {
     "data": {
      "text/plain": [
       "Text(0.5, 1.0, 'Native country Simplified - USA and continents')"
      ]
     },
     "execution_count": 109,
     "metadata": {},
     "output_type": "execute_result"
    },
    {
     "data": {
      "image/png": "[encoded data removed]",
      "text/plain": [
       "<Figure size 864x864 with 2 Axes>"
      ]
     },
     "metadata": {},
     "output_type": "display_data"
    }
   ],
   "source": [
    "plt.figure(figsize=(12,12))\n",
    "\n",
    "plt.subplot(2,1,1)\n",
    "sns.countplot(y=train_test_cat['Native-country'])\n",
    "plt.title('Native country', fontsize=15)\n",
    "\n",
    "plt.subplot(2,1,2)\n",
    "sns.countplot(train_test_bin['Native-country'])\n",
    "plt.title('Native country Simplified - USA and continents',fontsize=15)"
   ]
  },
  {
   "cell_type": "code",
   "execution_count": 110,
   "metadata": {},
   "outputs": [],
   "source": [
    "# Adding Feature 8 - Income\n",
    "\n",
    "train_test_bin['Income'] = train_test_cat['Income']"
   ]
  },
  {
   "cell_type": "code",
   "execution_count": 111,
   "metadata": {},
   "outputs": [],
   "source": [
    "ct = ColumnTransformer([\n",
    "                        ('0_Workclass', OneHotEncoder(), ['Workclass']),\n",
    "                        ('1_Education', OrdinalEncoder(), ['Education']),\n",
    "                        ('2_Marital-status', OneHotEncoder(), ['Marital-status']),\n",
    "                        ('3_Occupation', OneHotEncoder(), ['Occupation']),\n",
    "                        ('4_Relationship', OneHotEncoder(), ['Relationship']),\n",
    "                        ('5_Race', OneHotEncoder(), ['Race']),\n",
    "                        ('6_Sex', OrdinalEncoder(), ['Sex']),\n",
    "                        ('7_Native-country', OneHotEncoder(), ['Native-country']),\n",
    "                        ('8_Income', OrdinalEncoder(), ['Income'])\n",
    "                        ])"
   ]
  },
  {
   "cell_type": "code",
   "execution_count": 112,
   "metadata": {},
   "outputs": [
    {
     "data": {
      "text/html": [
       "<div>\n",
       "<style scoped>\n",
       "    .dataframe tbody tr th:only-of-type {\n",
       "        vertical-align: middle;\n",
       "    }\n",
       "\n",
       "    .dataframe tbody tr th {\n",
       "        vertical-align: top;\n",
       "    }\n",
       "\n",
       "    .dataframe thead th {\n",
       "        text-align: right;\n",
       "    }\n",
       "</style>\n",
       "<table border=\"1\" class=\"dataframe\">\n",
       "  <thead>\n",
       "    <tr style=\"text-align: right;\">\n",
       "      <th></th>\n",
       "      <th>0</th>\n",
       "      <th>1</th>\n",
       "      <th>2</th>\n",
       "      <th>3</th>\n",
       "      <th>4</th>\n",
       "      <th>5</th>\n",
       "      <th>6</th>\n",
       "      <th>7</th>\n",
       "      <th>8</th>\n",
       "      <th>9</th>\n",
       "      <th>...</th>\n",
       "      <th>27</th>\n",
       "      <th>28</th>\n",
       "      <th>29</th>\n",
       "      <th>30</th>\n",
       "      <th>31</th>\n",
       "      <th>32</th>\n",
       "      <th>33</th>\n",
       "      <th>34</th>\n",
       "      <th>35</th>\n",
       "      <th>36</th>\n",
       "    </tr>\n",
       "  </thead>\n",
       "  <tbody>\n",
       "    <tr>\n",
       "      <th>0</th>\n",
       "      <td>0</td>\n",
       "      <td>1</td>\n",
       "      <td>0</td>\n",
       "      <td>0</td>\n",
       "      <td>0</td>\n",
       "      <td>9</td>\n",
       "      <td>0</td>\n",
       "      <td>1</td>\n",
       "      <td>0</td>\n",
       "      <td>0</td>\n",
       "      <td>...</td>\n",
       "      <td>0</td>\n",
       "      <td>1</td>\n",
       "      <td>1</td>\n",
       "      <td>0</td>\n",
       "      <td>0</td>\n",
       "      <td>0</td>\n",
       "      <td>0</td>\n",
       "      <td>1</td>\n",
       "      <td>0</td>\n",
       "      <td>0</td>\n",
       "    </tr>\n",
       "    <tr>\n",
       "      <th>1</th>\n",
       "      <td>0</td>\n",
       "      <td>0</td>\n",
       "      <td>0</td>\n",
       "      <td>1</td>\n",
       "      <td>0</td>\n",
       "      <td>9</td>\n",
       "      <td>0</td>\n",
       "      <td>0</td>\n",
       "      <td>0</td>\n",
       "      <td>1</td>\n",
       "      <td>...</td>\n",
       "      <td>0</td>\n",
       "      <td>1</td>\n",
       "      <td>1</td>\n",
       "      <td>0</td>\n",
       "      <td>0</td>\n",
       "      <td>0</td>\n",
       "      <td>0</td>\n",
       "      <td>1</td>\n",
       "      <td>0</td>\n",
       "      <td>0</td>\n",
       "    </tr>\n",
       "    <tr>\n",
       "      <th>2</th>\n",
       "      <td>1</td>\n",
       "      <td>0</td>\n",
       "      <td>0</td>\n",
       "      <td>0</td>\n",
       "      <td>0</td>\n",
       "      <td>11</td>\n",
       "      <td>0</td>\n",
       "      <td>0</td>\n",
       "      <td>0</td>\n",
       "      <td>0</td>\n",
       "      <td>...</td>\n",
       "      <td>0</td>\n",
       "      <td>1</td>\n",
       "      <td>1</td>\n",
       "      <td>0</td>\n",
       "      <td>0</td>\n",
       "      <td>0</td>\n",
       "      <td>0</td>\n",
       "      <td>1</td>\n",
       "      <td>0</td>\n",
       "      <td>0</td>\n",
       "    </tr>\n",
       "    <tr>\n",
       "      <th>3</th>\n",
       "      <td>1</td>\n",
       "      <td>0</td>\n",
       "      <td>0</td>\n",
       "      <td>0</td>\n",
       "      <td>0</td>\n",
       "      <td>1</td>\n",
       "      <td>0</td>\n",
       "      <td>0</td>\n",
       "      <td>0</td>\n",
       "      <td>1</td>\n",
       "      <td>...</td>\n",
       "      <td>0</td>\n",
       "      <td>0</td>\n",
       "      <td>1</td>\n",
       "      <td>0</td>\n",
       "      <td>0</td>\n",
       "      <td>0</td>\n",
       "      <td>0</td>\n",
       "      <td>1</td>\n",
       "      <td>0</td>\n",
       "      <td>0</td>\n",
       "    </tr>\n",
       "    <tr>\n",
       "      <th>4</th>\n",
       "      <td>1</td>\n",
       "      <td>0</td>\n",
       "      <td>0</td>\n",
       "      <td>0</td>\n",
       "      <td>0</td>\n",
       "      <td>9</td>\n",
       "      <td>0</td>\n",
       "      <td>0</td>\n",
       "      <td>0</td>\n",
       "      <td>1</td>\n",
       "      <td>...</td>\n",
       "      <td>0</td>\n",
       "      <td>0</td>\n",
       "      <td>0</td>\n",
       "      <td>0</td>\n",
       "      <td>0</td>\n",
       "      <td>1</td>\n",
       "      <td>0</td>\n",
       "      <td>0</td>\n",
       "      <td>0</td>\n",
       "      <td>0</td>\n",
       "    </tr>\n",
       "    <tr>\n",
       "      <th>5</th>\n",
       "      <td>1</td>\n",
       "      <td>0</td>\n",
       "      <td>0</td>\n",
       "      <td>0</td>\n",
       "      <td>0</td>\n",
       "      <td>12</td>\n",
       "      <td>0</td>\n",
       "      <td>0</td>\n",
       "      <td>0</td>\n",
       "      <td>1</td>\n",
       "      <td>...</td>\n",
       "      <td>0</td>\n",
       "      <td>1</td>\n",
       "      <td>0</td>\n",
       "      <td>0</td>\n",
       "      <td>0</td>\n",
       "      <td>0</td>\n",
       "      <td>0</td>\n",
       "      <td>1</td>\n",
       "      <td>0</td>\n",
       "      <td>0</td>\n",
       "    </tr>\n",
       "    <tr>\n",
       "      <th>6</th>\n",
       "      <td>1</td>\n",
       "      <td>0</td>\n",
       "      <td>0</td>\n",
       "      <td>0</td>\n",
       "      <td>0</td>\n",
       "      <td>6</td>\n",
       "      <td>1</td>\n",
       "      <td>0</td>\n",
       "      <td>0</td>\n",
       "      <td>0</td>\n",
       "      <td>...</td>\n",
       "      <td>0</td>\n",
       "      <td>0</td>\n",
       "      <td>0</td>\n",
       "      <td>0</td>\n",
       "      <td>0</td>\n",
       "      <td>1</td>\n",
       "      <td>0</td>\n",
       "      <td>0</td>\n",
       "      <td>0</td>\n",
       "      <td>0</td>\n",
       "    </tr>\n",
       "    <tr>\n",
       "      <th>7</th>\n",
       "      <td>0</td>\n",
       "      <td>0</td>\n",
       "      <td>0</td>\n",
       "      <td>1</td>\n",
       "      <td>0</td>\n",
       "      <td>11</td>\n",
       "      <td>0</td>\n",
       "      <td>0</td>\n",
       "      <td>0</td>\n",
       "      <td>1</td>\n",
       "      <td>...</td>\n",
       "      <td>0</td>\n",
       "      <td>1</td>\n",
       "      <td>1</td>\n",
       "      <td>0</td>\n",
       "      <td>0</td>\n",
       "      <td>0</td>\n",
       "      <td>0</td>\n",
       "      <td>1</td>\n",
       "      <td>0</td>\n",
       "      <td>1</td>\n",
       "    </tr>\n",
       "    <tr>\n",
       "      <th>8</th>\n",
       "      <td>1</td>\n",
       "      <td>0</td>\n",
       "      <td>0</td>\n",
       "      <td>0</td>\n",
       "      <td>0</td>\n",
       "      <td>12</td>\n",
       "      <td>0</td>\n",
       "      <td>1</td>\n",
       "      <td>0</td>\n",
       "      <td>0</td>\n",
       "      <td>...</td>\n",
       "      <td>0</td>\n",
       "      <td>1</td>\n",
       "      <td>0</td>\n",
       "      <td>0</td>\n",
       "      <td>0</td>\n",
       "      <td>0</td>\n",
       "      <td>0</td>\n",
       "      <td>1</td>\n",
       "      <td>0</td>\n",
       "      <td>1</td>\n",
       "    </tr>\n",
       "    <tr>\n",
       "      <th>9</th>\n",
       "      <td>1</td>\n",
       "      <td>0</td>\n",
       "      <td>0</td>\n",
       "      <td>0</td>\n",
       "      <td>0</td>\n",
       "      <td>9</td>\n",
       "      <td>0</td>\n",
       "      <td>0</td>\n",
       "      <td>0</td>\n",
       "      <td>1</td>\n",
       "      <td>...</td>\n",
       "      <td>0</td>\n",
       "      <td>1</td>\n",
       "      <td>1</td>\n",
       "      <td>0</td>\n",
       "      <td>0</td>\n",
       "      <td>0</td>\n",
       "      <td>0</td>\n",
       "      <td>1</td>\n",
       "      <td>0</td>\n",
       "      <td>1</td>\n",
       "    </tr>\n",
       "  </tbody>\n",
       "</table>\n",
       "<p>10 rows × 37 columns</p>\n",
       "</div>"
      ],
      "text/plain": [
       "   0   1   2   3   4   5   6   7   8   9   ...  27  28  29  30  31  32  33  \\\n",
       "0   0   1   0   0   0   9   0   1   0   0  ...   0   1   1   0   0   0   0   \n",
       "1   0   0   0   1   0   9   0   0   0   1  ...   0   1   1   0   0   0   0   \n",
       "2   1   0   0   0   0  11   0   0   0   0  ...   0   1   1   0   0   0   0   \n",
       "3   1   0   0   0   0   1   0   0   0   1  ...   0   0   1   0   0   0   0   \n",
       "4   1   0   0   0   0   9   0   0   0   1  ...   0   0   0   0   0   1   0   \n",
       "5   1   0   0   0   0  12   0   0   0   1  ...   0   1   0   0   0   0   0   \n",
       "6   1   0   0   0   0   6   1   0   0   0  ...   0   0   0   0   0   1   0   \n",
       "7   0   0   0   1   0  11   0   0   0   1  ...   0   1   1   0   0   0   0   \n",
       "8   1   0   0   0   0  12   0   1   0   0  ...   0   1   0   0   0   0   0   \n",
       "9   1   0   0   0   0   9   0   0   0   1  ...   0   1   1   0   0   0   0   \n",
       "\n",
       "   34  35  36  \n",
       "0   1   0   0  \n",
       "1   1   0   0  \n",
       "2   1   0   0  \n",
       "3   1   0   0  \n",
       "4   0   0   0  \n",
       "5   1   0   0  \n",
       "6   0   0   0  \n",
       "7   1   0   1  \n",
       "8   1   0   1  \n",
       "9   1   0   1  \n",
       "\n",
       "[10 rows x 37 columns]"
      ]
     },
     "execution_count": 112,
     "metadata": {},
     "output_type": "execute_result"
    }
   ],
   "source": [
    "train_test_bin_encoded = ct.fit_transform(train_test_bin)\n",
    "train_test_bin_encoded = train_test_bin_encoded.astype(int)\n",
    "\n",
    "# Create a DataFrame from a sparse matrix\n",
    "train_test_bin_encoded = pd.DataFrame.sparse.from_spmatrix(train_test_bin_encoded)\n",
    "\n",
    "# Preview the DataFrame\n",
    "train_test_bin_encoded.head(10)"
   ]
  },
  {
   "cell_type": "code",
   "execution_count": 113,
   "metadata": {},
   "outputs": [],
   "source": [
    "# Getting column names for the encoded data\n",
    "\n",
    "ordinal_indices = [1,6,8]\n",
    "one_hot_indices = [0,2,3,4,5,7]\n",
    "\n",
    "train_test_bin_encoded_col_names = []\n",
    "\n",
    "def get_encoded_col_names():\n",
    "\n",
    "    for i in range(len(train_test_bin.columns)):\n",
    "        \n",
    "        if i in one_hot_indices:\n",
    "            #train_test_bin_encoded_col_names.append(train_test_bin.iloc[:,i].unique())\n",
    "            n = train_test_bin.iloc[:,i].nunique()\n",
    "            for j in range(n):\n",
    "                train_test_bin_encoded_col_names.append(train_test_bin.iloc[:,i].unique()[j])\n",
    "            \n",
    "            \n",
    "        elif i in ordinal_indices:\n",
    "            train_test_bin_encoded_col_names.append(train_test_bin.columns[i])\n",
    "        \n",
    "        else:\n",
    "            print('Error')\n",
    "            \n",
    "    return train_test_bin_encoded_col_names"
   ]
  },
  {
   "cell_type": "code",
   "execution_count": 114,
   "metadata": {},
   "outputs": [],
   "source": [
    "train_test_bin_encoded.columns = get_encoded_col_names()"
   ]
  },
  {
   "cell_type": "code",
   "execution_count": 115,
   "metadata": {},
   "outputs": [
    {
     "data": {
      "text/html": [
       "<div>\n",
       "<style scoped>\n",
       "    .dataframe tbody tr th:only-of-type {\n",
       "        vertical-align: middle;\n",
       "    }\n",
       "\n",
       "    .dataframe tbody tr th {\n",
       "        vertical-align: top;\n",
       "    }\n",
       "\n",
       "    .dataframe thead th {\n",
       "        text-align: right;\n",
       "    }\n",
       "</style>\n",
       "<table border=\"1\" class=\"dataframe\">\n",
       "  <thead>\n",
       "    <tr style=\"text-align: right;\">\n",
       "      <th></th>\n",
       "      <th>Government</th>\n",
       "      <th>Self-emp</th>\n",
       "      <th>Private</th>\n",
       "      <th>Unknown-Workclass</th>\n",
       "      <th>Non-worker</th>\n",
       "      <th>Education</th>\n",
       "      <th>Never-married</th>\n",
       "      <th>Married</th>\n",
       "      <th>Separated</th>\n",
       "      <th>Married-spouse-absent</th>\n",
       "      <th>...</th>\n",
       "      <th>Amer-Indian-Eskimo</th>\n",
       "      <th>Other</th>\n",
       "      <th>Sex</th>\n",
       "      <th>USA</th>\n",
       "      <th>North-America</th>\n",
       "      <th>Asia</th>\n",
       "      <th>Unknown-Country</th>\n",
       "      <th>South-America</th>\n",
       "      <th>Europe</th>\n",
       "      <th>Income</th>\n",
       "    </tr>\n",
       "  </thead>\n",
       "  <tbody>\n",
       "    <tr>\n",
       "      <th>0</th>\n",
       "      <td>0</td>\n",
       "      <td>1</td>\n",
       "      <td>0</td>\n",
       "      <td>0</td>\n",
       "      <td>0</td>\n",
       "      <td>9</td>\n",
       "      <td>0</td>\n",
       "      <td>1</td>\n",
       "      <td>0</td>\n",
       "      <td>0</td>\n",
       "      <td>...</td>\n",
       "      <td>0</td>\n",
       "      <td>1</td>\n",
       "      <td>1</td>\n",
       "      <td>0</td>\n",
       "      <td>0</td>\n",
       "      <td>0</td>\n",
       "      <td>0</td>\n",
       "      <td>1</td>\n",
       "      <td>0</td>\n",
       "      <td>0</td>\n",
       "    </tr>\n",
       "    <tr>\n",
       "      <th>1</th>\n",
       "      <td>0</td>\n",
       "      <td>0</td>\n",
       "      <td>0</td>\n",
       "      <td>1</td>\n",
       "      <td>0</td>\n",
       "      <td>9</td>\n",
       "      <td>0</td>\n",
       "      <td>0</td>\n",
       "      <td>0</td>\n",
       "      <td>1</td>\n",
       "      <td>...</td>\n",
       "      <td>0</td>\n",
       "      <td>1</td>\n",
       "      <td>1</td>\n",
       "      <td>0</td>\n",
       "      <td>0</td>\n",
       "      <td>0</td>\n",
       "      <td>0</td>\n",
       "      <td>1</td>\n",
       "      <td>0</td>\n",
       "      <td>0</td>\n",
       "    </tr>\n",
       "    <tr>\n",
       "      <th>2</th>\n",
       "      <td>1</td>\n",
       "      <td>0</td>\n",
       "      <td>0</td>\n",
       "      <td>0</td>\n",
       "      <td>0</td>\n",
       "      <td>11</td>\n",
       "      <td>0</td>\n",
       "      <td>0</td>\n",
       "      <td>0</td>\n",
       "      <td>0</td>\n",
       "      <td>...</td>\n",
       "      <td>0</td>\n",
       "      <td>1</td>\n",
       "      <td>1</td>\n",
       "      <td>0</td>\n",
       "      <td>0</td>\n",
       "      <td>0</td>\n",
       "      <td>0</td>\n",
       "      <td>1</td>\n",
       "      <td>0</td>\n",
       "      <td>0</td>\n",
       "    </tr>\n",
       "    <tr>\n",
       "      <th>3</th>\n",
       "      <td>1</td>\n",
       "      <td>0</td>\n",
       "      <td>0</td>\n",
       "      <td>0</td>\n",
       "      <td>0</td>\n",
       "      <td>1</td>\n",
       "      <td>0</td>\n",
       "      <td>0</td>\n",
       "      <td>0</td>\n",
       "      <td>1</td>\n",
       "      <td>...</td>\n",
       "      <td>0</td>\n",
       "      <td>0</td>\n",
       "      <td>1</td>\n",
       "      <td>0</td>\n",
       "      <td>0</td>\n",
       "      <td>0</td>\n",
       "      <td>0</td>\n",
       "      <td>1</td>\n",
       "      <td>0</td>\n",
       "      <td>0</td>\n",
       "    </tr>\n",
       "    <tr>\n",
       "      <th>4</th>\n",
       "      <td>1</td>\n",
       "      <td>0</td>\n",
       "      <td>0</td>\n",
       "      <td>0</td>\n",
       "      <td>0</td>\n",
       "      <td>9</td>\n",
       "      <td>0</td>\n",
       "      <td>0</td>\n",
       "      <td>0</td>\n",
       "      <td>1</td>\n",
       "      <td>...</td>\n",
       "      <td>0</td>\n",
       "      <td>0</td>\n",
       "      <td>0</td>\n",
       "      <td>0</td>\n",
       "      <td>0</td>\n",
       "      <td>1</td>\n",
       "      <td>0</td>\n",
       "      <td>0</td>\n",
       "      <td>0</td>\n",
       "      <td>0</td>\n",
       "    </tr>\n",
       "    <tr>\n",
       "      <th>5</th>\n",
       "      <td>1</td>\n",
       "      <td>0</td>\n",
       "      <td>0</td>\n",
       "      <td>0</td>\n",
       "      <td>0</td>\n",
       "      <td>12</td>\n",
       "      <td>0</td>\n",
       "      <td>0</td>\n",
       "      <td>0</td>\n",
       "      <td>1</td>\n",
       "      <td>...</td>\n",
       "      <td>0</td>\n",
       "      <td>1</td>\n",
       "      <td>0</td>\n",
       "      <td>0</td>\n",
       "      <td>0</td>\n",
       "      <td>0</td>\n",
       "      <td>0</td>\n",
       "      <td>1</td>\n",
       "      <td>0</td>\n",
       "      <td>0</td>\n",
       "    </tr>\n",
       "    <tr>\n",
       "      <th>6</th>\n",
       "      <td>1</td>\n",
       "      <td>0</td>\n",
       "      <td>0</td>\n",
       "      <td>0</td>\n",
       "      <td>0</td>\n",
       "      <td>6</td>\n",
       "      <td>1</td>\n",
       "      <td>0</td>\n",
       "      <td>0</td>\n",
       "      <td>0</td>\n",
       "      <td>...</td>\n",
       "      <td>0</td>\n",
       "      <td>0</td>\n",
       "      <td>0</td>\n",
       "      <td>0</td>\n",
       "      <td>0</td>\n",
       "      <td>1</td>\n",
       "      <td>0</td>\n",
       "      <td>0</td>\n",
       "      <td>0</td>\n",
       "      <td>0</td>\n",
       "    </tr>\n",
       "    <tr>\n",
       "      <th>7</th>\n",
       "      <td>0</td>\n",
       "      <td>0</td>\n",
       "      <td>0</td>\n",
       "      <td>1</td>\n",
       "      <td>0</td>\n",
       "      <td>11</td>\n",
       "      <td>0</td>\n",
       "      <td>0</td>\n",
       "      <td>0</td>\n",
       "      <td>1</td>\n",
       "      <td>...</td>\n",
       "      <td>0</td>\n",
       "      <td>1</td>\n",
       "      <td>1</td>\n",
       "      <td>0</td>\n",
       "      <td>0</td>\n",
       "      <td>0</td>\n",
       "      <td>0</td>\n",
       "      <td>1</td>\n",
       "      <td>0</td>\n",
       "      <td>1</td>\n",
       "    </tr>\n",
       "    <tr>\n",
       "      <th>8</th>\n",
       "      <td>1</td>\n",
       "      <td>0</td>\n",
       "      <td>0</td>\n",
       "      <td>0</td>\n",
       "      <td>0</td>\n",
       "      <td>12</td>\n",
       "      <td>0</td>\n",
       "      <td>1</td>\n",
       "      <td>0</td>\n",
       "      <td>0</td>\n",
       "      <td>...</td>\n",
       "      <td>0</td>\n",
       "      <td>1</td>\n",
       "      <td>0</td>\n",
       "      <td>0</td>\n",
       "      <td>0</td>\n",
       "      <td>0</td>\n",
       "      <td>0</td>\n",
       "      <td>1</td>\n",
       "      <td>0</td>\n",
       "      <td>1</td>\n",
       "    </tr>\n",
       "    <tr>\n",
       "      <th>9</th>\n",
       "      <td>1</td>\n",
       "      <td>0</td>\n",
       "      <td>0</td>\n",
       "      <td>0</td>\n",
       "      <td>0</td>\n",
       "      <td>9</td>\n",
       "      <td>0</td>\n",
       "      <td>0</td>\n",
       "      <td>0</td>\n",
       "      <td>1</td>\n",
       "      <td>...</td>\n",
       "      <td>0</td>\n",
       "      <td>1</td>\n",
       "      <td>1</td>\n",
       "      <td>0</td>\n",
       "      <td>0</td>\n",
       "      <td>0</td>\n",
       "      <td>0</td>\n",
       "      <td>1</td>\n",
       "      <td>0</td>\n",
       "      <td>1</td>\n",
       "    </tr>\n",
       "  </tbody>\n",
       "</table>\n",
       "<p>10 rows × 37 columns</p>\n",
       "</div>"
      ],
      "text/plain": [
       "   Government  Self-emp   Private  Unknown-Workclass  Non-worker  Education  \\\n",
       "0           0         1         0                  0           0          9   \n",
       "1           0         0         0                  1           0          9   \n",
       "2           1         0         0                  0           0         11   \n",
       "3           1         0         0                  0           0          1   \n",
       "4           1         0         0                  0           0          9   \n",
       "5           1         0         0                  0           0         12   \n",
       "6           1         0         0                  0           0          6   \n",
       "7           0         0         0                  1           0         11   \n",
       "8           1         0         0                  0           0         12   \n",
       "9           1         0         0                  0           0          9   \n",
       "\n",
       "    Never-married  Married  Separated   Married-spouse-absent  ...  \\\n",
       "0               0        1          0                       0  ...   \n",
       "1               0        0          0                       1  ...   \n",
       "2               0        0          0                       0  ...   \n",
       "3               0        0          0                       1  ...   \n",
       "4               0        0          0                       1  ...   \n",
       "5               0        0          0                       1  ...   \n",
       "6               1        0          0                       0  ...   \n",
       "7               0        0          0                       1  ...   \n",
       "8               0        1          0                       0  ...   \n",
       "9               0        0          0                       1  ...   \n",
       "\n",
       "    Amer-Indian-Eskimo   Other  Sex  USA  North-America  Asia  \\\n",
       "0                    0       1    1    0              0     0   \n",
       "1                    0       1    1    0              0     0   \n",
       "2                    0       1    1    0              0     0   \n",
       "3                    0       0    1    0              0     0   \n",
       "4                    0       0    0    0              0     1   \n",
       "5                    0       1    0    0              0     0   \n",
       "6                    0       0    0    0              0     1   \n",
       "7                    0       1    1    0              0     0   \n",
       "8                    0       1    0    0              0     0   \n",
       "9                    0       1    1    0              0     0   \n",
       "\n",
       "   Unknown-Country  South-America  Europe  Income  \n",
       "0                0              1       0       0  \n",
       "1                0              1       0       0  \n",
       "2                0              1       0       0  \n",
       "3                0              1       0       0  \n",
       "4                0              0       0       0  \n",
       "5                0              1       0       0  \n",
       "6                0              0       0       0  \n",
       "7                0              1       0       1  \n",
       "8                0              1       0       1  \n",
       "9                0              1       0       1  \n",
       "\n",
       "[10 rows x 37 columns]"
      ]
     },
     "execution_count": 115,
     "metadata": {},
     "output_type": "execute_result"
    }
   ],
   "source": [
    "train_test_bin_encoded.head(10)"
   ]
  },
  {
   "cell_type": "markdown",
   "metadata": {},
   "source": [
    "The labeled columns look much better now. However, there's still a problem: notice how there are at least 2 columns named \"?\". While in the majority of cases this is not a problem, in the case of XGBoost the features all need to have original names."
   ]
  },
  {
   "cell_type": "markdown",
   "metadata": {},
   "source": [
    "Upon inspecting the column names, it turns out there are 3 columns with the same name: \" ?\". Let's find them:"
   ]
  },
  {
   "cell_type": "markdown",
   "metadata": {},
   "source": [
    "Now every single column has an original name.\n",
    "\n",
    "The data presented in the matrix above is nice and easily digestable for the Machine learning algorithms. There are no words, only numbers. Let's now proceed to taking care of the numerical part of the dataset."
   ]
  },
  {
   "cell_type": "markdown",
   "metadata": {},
   "source": [
    "## Preparing the numerical data"
   ]
  },
  {
   "cell_type": "code",
   "execution_count": 116,
   "metadata": {},
   "outputs": [
    {
     "name": "stdout",
     "output_type": "stream",
     "text": [
      "<class 'pandas.core.frame.DataFrame'>\n",
      "Int64Index: 48842 entries, 0 to 16281\n",
      "Data columns (total 6 columns):\n",
      " #   Column          Non-Null Count  Dtype  \n",
      "---  ------          --------------  -----  \n",
      " 0   Age             48842 non-null  object \n",
      " 1   fnlwgt          48842 non-null  float64\n",
      " 2   Education-num   48842 non-null  float64\n",
      " 3   Capital-gain    48842 non-null  float64\n",
      " 4   Capital-loss    48842 non-null  float64\n",
      " 5   Hours-per-week  48842 non-null  float64\n",
      "dtypes: float64(5), object(1)\n",
      "memory usage: 3.9+ MB\n"
     ]
    }
   ],
   "source": [
    "train_test_num.info()"
   ]
  },
  {
   "cell_type": "markdown",
   "metadata": {},
   "source": [
    "Usually it's a good practice to start by looking at the missing values, however in this case as we can see above there really aren't any. Perhaps this is a bit unrealistic but since we're working with a dataset that's neatly prepared, the missing values problem has already been taken care for us."
   ]
  },
  {
   "cell_type": "markdown",
   "metadata": {},
   "source": [
    "**Scaling**"
   ]
  },
  {
   "cell_type": "code",
   "execution_count": 117,
   "metadata": {},
   "outputs": [
    {
     "data": {
      "text/html": [
       "<div>\n",
       "<style scoped>\n",
       "    .dataframe tbody tr th:only-of-type {\n",
       "        vertical-align: middle;\n",
       "    }\n",
       "\n",
       "    .dataframe tbody tr th {\n",
       "        vertical-align: top;\n",
       "    }\n",
       "\n",
       "    .dataframe thead th {\n",
       "        text-align: right;\n",
       "    }\n",
       "</style>\n",
       "<table border=\"1\" class=\"dataframe\">\n",
       "  <thead>\n",
       "    <tr style=\"text-align: right;\">\n",
       "      <th></th>\n",
       "      <th>Age</th>\n",
       "      <th>fnlwgt</th>\n",
       "      <th>Education-num</th>\n",
       "      <th>Capital-gain</th>\n",
       "      <th>Capital-loss</th>\n",
       "      <th>Hours-per-week</th>\n",
       "    </tr>\n",
       "  </thead>\n",
       "  <tbody>\n",
       "    <tr>\n",
       "      <th>0</th>\n",
       "      <td>39</td>\n",
       "      <td>77516.0</td>\n",
       "      <td>13.0</td>\n",
       "      <td>2174.0</td>\n",
       "      <td>0.0</td>\n",
       "      <td>40.0</td>\n",
       "    </tr>\n",
       "    <tr>\n",
       "      <th>1</th>\n",
       "      <td>50</td>\n",
       "      <td>83311.0</td>\n",
       "      <td>13.0</td>\n",
       "      <td>0.0</td>\n",
       "      <td>0.0</td>\n",
       "      <td>13.0</td>\n",
       "    </tr>\n",
       "    <tr>\n",
       "      <th>2</th>\n",
       "      <td>38</td>\n",
       "      <td>215646.0</td>\n",
       "      <td>9.0</td>\n",
       "      <td>0.0</td>\n",
       "      <td>0.0</td>\n",
       "      <td>40.0</td>\n",
       "    </tr>\n",
       "    <tr>\n",
       "      <th>3</th>\n",
       "      <td>53</td>\n",
       "      <td>234721.0</td>\n",
       "      <td>7.0</td>\n",
       "      <td>0.0</td>\n",
       "      <td>0.0</td>\n",
       "      <td>40.0</td>\n",
       "    </tr>\n",
       "    <tr>\n",
       "      <th>4</th>\n",
       "      <td>28</td>\n",
       "      <td>338409.0</td>\n",
       "      <td>13.0</td>\n",
       "      <td>0.0</td>\n",
       "      <td>0.0</td>\n",
       "      <td>40.0</td>\n",
       "    </tr>\n",
       "    <tr>\n",
       "      <th>...</th>\n",
       "      <td>...</td>\n",
       "      <td>...</td>\n",
       "      <td>...</td>\n",
       "      <td>...</td>\n",
       "      <td>...</td>\n",
       "      <td>...</td>\n",
       "    </tr>\n",
       "    <tr>\n",
       "      <th>16277</th>\n",
       "      <td>39</td>\n",
       "      <td>215419.0</td>\n",
       "      <td>13.0</td>\n",
       "      <td>0.0</td>\n",
       "      <td>0.0</td>\n",
       "      <td>36.0</td>\n",
       "    </tr>\n",
       "    <tr>\n",
       "      <th>16278</th>\n",
       "      <td>64</td>\n",
       "      <td>321403.0</td>\n",
       "      <td>9.0</td>\n",
       "      <td>0.0</td>\n",
       "      <td>0.0</td>\n",
       "      <td>40.0</td>\n",
       "    </tr>\n",
       "    <tr>\n",
       "      <th>16279</th>\n",
       "      <td>38</td>\n",
       "      <td>374983.0</td>\n",
       "      <td>13.0</td>\n",
       "      <td>0.0</td>\n",
       "      <td>0.0</td>\n",
       "      <td>50.0</td>\n",
       "    </tr>\n",
       "    <tr>\n",
       "      <th>16280</th>\n",
       "      <td>44</td>\n",
       "      <td>83891.0</td>\n",
       "      <td>13.0</td>\n",
       "      <td>5455.0</td>\n",
       "      <td>0.0</td>\n",
       "      <td>40.0</td>\n",
       "    </tr>\n",
       "    <tr>\n",
       "      <th>16281</th>\n",
       "      <td>35</td>\n",
       "      <td>182148.0</td>\n",
       "      <td>13.0</td>\n",
       "      <td>0.0</td>\n",
       "      <td>0.0</td>\n",
       "      <td>60.0</td>\n",
       "    </tr>\n",
       "  </tbody>\n",
       "</table>\n",
       "<p>48842 rows × 6 columns</p>\n",
       "</div>"
      ],
      "text/plain": [
       "      Age    fnlwgt  Education-num  Capital-gain  Capital-loss  Hours-per-week\n",
       "0      39   77516.0           13.0        2174.0           0.0            40.0\n",
       "1      50   83311.0           13.0           0.0           0.0            13.0\n",
       "2      38  215646.0            9.0           0.0           0.0            40.0\n",
       "3      53  234721.0            7.0           0.0           0.0            40.0\n",
       "4      28  338409.0           13.0           0.0           0.0            40.0\n",
       "...    ..       ...            ...           ...           ...             ...\n",
       "16277  39  215419.0           13.0           0.0           0.0            36.0\n",
       "16278  64  321403.0            9.0           0.0           0.0            40.0\n",
       "16279  38  374983.0           13.0           0.0           0.0            50.0\n",
       "16280  44   83891.0           13.0        5455.0           0.0            40.0\n",
       "16281  35  182148.0           13.0           0.0           0.0            60.0\n",
       "\n",
       "[48842 rows x 6 columns]"
      ]
     },
     "execution_count": 117,
     "metadata": {},
     "output_type": "execute_result"
    }
   ],
   "source": [
    "train_test_num"
   ]
  },
  {
   "cell_type": "code",
   "execution_count": 118,
   "metadata": {
    "scrolled": false
   },
   "outputs": [
    {
     "data": {
      "text/html": [
       "<div>\n",
       "<style scoped>\n",
       "    .dataframe tbody tr th:only-of-type {\n",
       "        vertical-align: middle;\n",
       "    }\n",
       "\n",
       "    .dataframe tbody tr th {\n",
       "        vertical-align: top;\n",
       "    }\n",
       "\n",
       "    .dataframe thead th {\n",
       "        text-align: right;\n",
       "    }\n",
       "</style>\n",
       "<table border=\"1\" class=\"dataframe\">\n",
       "  <thead>\n",
       "    <tr style=\"text-align: right;\">\n",
       "      <th></th>\n",
       "      <th>Age</th>\n",
       "      <th>fnlwgt</th>\n",
       "      <th>Education-num</th>\n",
       "      <th>Capital-gain</th>\n",
       "      <th>Capital-loss</th>\n",
       "      <th>Hours-per-week</th>\n",
       "    </tr>\n",
       "  </thead>\n",
       "  <tbody>\n",
       "    <tr>\n",
       "      <th>0</th>\n",
       "      <td>0.025996</td>\n",
       "      <td>-1.061979</td>\n",
       "      <td>1.136512</td>\n",
       "      <td>0.146932</td>\n",
       "      <td>-0.217127</td>\n",
       "      <td>-0.034087</td>\n",
       "    </tr>\n",
       "    <tr>\n",
       "      <th>1</th>\n",
       "      <td>0.828308</td>\n",
       "      <td>-1.007104</td>\n",
       "      <td>1.136512</td>\n",
       "      <td>-0.144804</td>\n",
       "      <td>-0.217127</td>\n",
       "      <td>-2.213032</td>\n",
       "    </tr>\n",
       "    <tr>\n",
       "      <th>2</th>\n",
       "      <td>-0.046942</td>\n",
       "      <td>0.246034</td>\n",
       "      <td>-0.419335</td>\n",
       "      <td>-0.144804</td>\n",
       "      <td>-0.217127</td>\n",
       "      <td>-0.034087</td>\n",
       "    </tr>\n",
       "    <tr>\n",
       "      <th>3</th>\n",
       "      <td>1.047121</td>\n",
       "      <td>0.426663</td>\n",
       "      <td>-1.197259</td>\n",
       "      <td>-0.144804</td>\n",
       "      <td>-0.217127</td>\n",
       "      <td>-0.034087</td>\n",
       "    </tr>\n",
       "    <tr>\n",
       "      <th>4</th>\n",
       "      <td>-0.776316</td>\n",
       "      <td>1.408530</td>\n",
       "      <td>1.136512</td>\n",
       "      <td>-0.144804</td>\n",
       "      <td>-0.217127</td>\n",
       "      <td>-0.034087</td>\n",
       "    </tr>\n",
       "    <tr>\n",
       "      <th>...</th>\n",
       "      <td>...</td>\n",
       "      <td>...</td>\n",
       "      <td>...</td>\n",
       "      <td>...</td>\n",
       "      <td>...</td>\n",
       "      <td>...</td>\n",
       "    </tr>\n",
       "    <tr>\n",
       "      <th>48837</th>\n",
       "      <td>0.025996</td>\n",
       "      <td>0.243884</td>\n",
       "      <td>1.136512</td>\n",
       "      <td>-0.144804</td>\n",
       "      <td>-0.217127</td>\n",
       "      <td>-0.356894</td>\n",
       "    </tr>\n",
       "    <tr>\n",
       "      <th>48838</th>\n",
       "      <td>1.849433</td>\n",
       "      <td>1.247492</td>\n",
       "      <td>-0.419335</td>\n",
       "      <td>-0.144804</td>\n",
       "      <td>-0.217127</td>\n",
       "      <td>-0.034087</td>\n",
       "    </tr>\n",
       "    <tr>\n",
       "      <th>48839</th>\n",
       "      <td>-0.046942</td>\n",
       "      <td>1.754865</td>\n",
       "      <td>1.136512</td>\n",
       "      <td>-0.144804</td>\n",
       "      <td>-0.217127</td>\n",
       "      <td>0.772930</td>\n",
       "    </tr>\n",
       "    <tr>\n",
       "      <th>48840</th>\n",
       "      <td>0.390683</td>\n",
       "      <td>-1.001612</td>\n",
       "      <td>1.136512</td>\n",
       "      <td>0.587220</td>\n",
       "      <td>-0.217127</td>\n",
       "      <td>-0.034087</td>\n",
       "    </tr>\n",
       "    <tr>\n",
       "      <th>48841</th>\n",
       "      <td>-0.265754</td>\n",
       "      <td>-0.071174</td>\n",
       "      <td>1.136512</td>\n",
       "      <td>-0.144804</td>\n",
       "      <td>-0.217127</td>\n",
       "      <td>1.579946</td>\n",
       "    </tr>\n",
       "  </tbody>\n",
       "</table>\n",
       "<p>48842 rows × 6 columns</p>\n",
       "</div>"
      ],
      "text/plain": [
       "            Age    fnlwgt  Education-num  Capital-gain  Capital-loss  \\\n",
       "0      0.025996 -1.061979       1.136512      0.146932     -0.217127   \n",
       "1      0.828308 -1.007104       1.136512     -0.144804     -0.217127   \n",
       "2     -0.046942  0.246034      -0.419335     -0.144804     -0.217127   \n",
       "3      1.047121  0.426663      -1.197259     -0.144804     -0.217127   \n",
       "4     -0.776316  1.408530       1.136512     -0.144804     -0.217127   \n",
       "...         ...       ...            ...           ...           ...   \n",
       "48837  0.025996  0.243884       1.136512     -0.144804     -0.217127   \n",
       "48838  1.849433  1.247492      -0.419335     -0.144804     -0.217127   \n",
       "48839 -0.046942  1.754865       1.136512     -0.144804     -0.217127   \n",
       "48840  0.390683 -1.001612       1.136512      0.587220     -0.217127   \n",
       "48841 -0.265754 -0.071174       1.136512     -0.144804     -0.217127   \n",
       "\n",
       "       Hours-per-week  \n",
       "0           -0.034087  \n",
       "1           -2.213032  \n",
       "2           -0.034087  \n",
       "3           -0.034087  \n",
       "4           -0.034087  \n",
       "...               ...  \n",
       "48837       -0.356894  \n",
       "48838       -0.034087  \n",
       "48839        0.772930  \n",
       "48840       -0.034087  \n",
       "48841        1.579946  \n",
       "\n",
       "[48842 rows x 6 columns]"
      ]
     },
     "execution_count": 118,
     "metadata": {},
     "output_type": "execute_result"
    }
   ],
   "source": [
    "ss = StandardScaler()\n",
    "train_test_num_scaled = ss.fit_transform(train_test_num)\n",
    "train_test_num_scaled = pd.DataFrame(train_test_num_scaled)\n",
    "train_test_num_scaled.columns = train_test_num.columns\n",
    "\n",
    "train_test_num_scaled"
   ]
  },
  {
   "cell_type": "markdown",
   "metadata": {},
   "source": [
    "Below we can see the data in its final form, the form we are going to feed it to the ML algorithm in:"
   ]
  },
  {
   "cell_type": "code",
   "execution_count": 119,
   "metadata": {},
   "outputs": [
    {
     "data": {
      "text/html": [
       "<div>\n",
       "<style scoped>\n",
       "    .dataframe tbody tr th:only-of-type {\n",
       "        vertical-align: middle;\n",
       "    }\n",
       "\n",
       "    .dataframe tbody tr th {\n",
       "        vertical-align: top;\n",
       "    }\n",
       "\n",
       "    .dataframe thead th {\n",
       "        text-align: right;\n",
       "    }\n",
       "</style>\n",
       "<table border=\"1\" class=\"dataframe\">\n",
       "  <thead>\n",
       "    <tr style=\"text-align: right;\">\n",
       "      <th></th>\n",
       "      <th>Government</th>\n",
       "      <th>Self-emp</th>\n",
       "      <th>Private</th>\n",
       "      <th>Unknown-Workclass</th>\n",
       "      <th>Non-worker</th>\n",
       "      <th>Education</th>\n",
       "      <th>Never-married</th>\n",
       "      <th>Married</th>\n",
       "      <th>Separated</th>\n",
       "      <th>Married-spouse-absent</th>\n",
       "      <th>...</th>\n",
       "      <th>Unknown-Country</th>\n",
       "      <th>South-America</th>\n",
       "      <th>Europe</th>\n",
       "      <th>Income</th>\n",
       "      <th>Age</th>\n",
       "      <th>fnlwgt</th>\n",
       "      <th>Education-num</th>\n",
       "      <th>Capital-gain</th>\n",
       "      <th>Capital-loss</th>\n",
       "      <th>Hours-per-week</th>\n",
       "    </tr>\n",
       "  </thead>\n",
       "  <tbody>\n",
       "    <tr>\n",
       "      <th>0</th>\n",
       "      <td>0</td>\n",
       "      <td>1</td>\n",
       "      <td>0</td>\n",
       "      <td>0</td>\n",
       "      <td>0</td>\n",
       "      <td>9</td>\n",
       "      <td>0</td>\n",
       "      <td>1</td>\n",
       "      <td>0</td>\n",
       "      <td>0</td>\n",
       "      <td>...</td>\n",
       "      <td>0</td>\n",
       "      <td>1</td>\n",
       "      <td>0</td>\n",
       "      <td>0</td>\n",
       "      <td>0.025996</td>\n",
       "      <td>-1.061979</td>\n",
       "      <td>1.136512</td>\n",
       "      <td>0.146932</td>\n",
       "      <td>-0.217127</td>\n",
       "      <td>-0.034087</td>\n",
       "    </tr>\n",
       "    <tr>\n",
       "      <th>1</th>\n",
       "      <td>0</td>\n",
       "      <td>0</td>\n",
       "      <td>0</td>\n",
       "      <td>1</td>\n",
       "      <td>0</td>\n",
       "      <td>9</td>\n",
       "      <td>0</td>\n",
       "      <td>0</td>\n",
       "      <td>0</td>\n",
       "      <td>1</td>\n",
       "      <td>...</td>\n",
       "      <td>0</td>\n",
       "      <td>1</td>\n",
       "      <td>0</td>\n",
       "      <td>0</td>\n",
       "      <td>0.828308</td>\n",
       "      <td>-1.007104</td>\n",
       "      <td>1.136512</td>\n",
       "      <td>-0.144804</td>\n",
       "      <td>-0.217127</td>\n",
       "      <td>-2.213032</td>\n",
       "    </tr>\n",
       "    <tr>\n",
       "      <th>2</th>\n",
       "      <td>1</td>\n",
       "      <td>0</td>\n",
       "      <td>0</td>\n",
       "      <td>0</td>\n",
       "      <td>0</td>\n",
       "      <td>11</td>\n",
       "      <td>0</td>\n",
       "      <td>0</td>\n",
       "      <td>0</td>\n",
       "      <td>0</td>\n",
       "      <td>...</td>\n",
       "      <td>0</td>\n",
       "      <td>1</td>\n",
       "      <td>0</td>\n",
       "      <td>0</td>\n",
       "      <td>-0.046942</td>\n",
       "      <td>0.246034</td>\n",
       "      <td>-0.419335</td>\n",
       "      <td>-0.144804</td>\n",
       "      <td>-0.217127</td>\n",
       "      <td>-0.034087</td>\n",
       "    </tr>\n",
       "    <tr>\n",
       "      <th>3</th>\n",
       "      <td>1</td>\n",
       "      <td>0</td>\n",
       "      <td>0</td>\n",
       "      <td>0</td>\n",
       "      <td>0</td>\n",
       "      <td>1</td>\n",
       "      <td>0</td>\n",
       "      <td>0</td>\n",
       "      <td>0</td>\n",
       "      <td>1</td>\n",
       "      <td>...</td>\n",
       "      <td>0</td>\n",
       "      <td>1</td>\n",
       "      <td>0</td>\n",
       "      <td>0</td>\n",
       "      <td>1.047121</td>\n",
       "      <td>0.426663</td>\n",
       "      <td>-1.197259</td>\n",
       "      <td>-0.144804</td>\n",
       "      <td>-0.217127</td>\n",
       "      <td>-0.034087</td>\n",
       "    </tr>\n",
       "    <tr>\n",
       "      <th>4</th>\n",
       "      <td>1</td>\n",
       "      <td>0</td>\n",
       "      <td>0</td>\n",
       "      <td>0</td>\n",
       "      <td>0</td>\n",
       "      <td>9</td>\n",
       "      <td>0</td>\n",
       "      <td>0</td>\n",
       "      <td>0</td>\n",
       "      <td>1</td>\n",
       "      <td>...</td>\n",
       "      <td>0</td>\n",
       "      <td>0</td>\n",
       "      <td>0</td>\n",
       "      <td>0</td>\n",
       "      <td>-0.776316</td>\n",
       "      <td>1.408530</td>\n",
       "      <td>1.136512</td>\n",
       "      <td>-0.144804</td>\n",
       "      <td>-0.217127</td>\n",
       "      <td>-0.034087</td>\n",
       "    </tr>\n",
       "    <tr>\n",
       "      <th>5</th>\n",
       "      <td>1</td>\n",
       "      <td>0</td>\n",
       "      <td>0</td>\n",
       "      <td>0</td>\n",
       "      <td>0</td>\n",
       "      <td>12</td>\n",
       "      <td>0</td>\n",
       "      <td>0</td>\n",
       "      <td>0</td>\n",
       "      <td>1</td>\n",
       "      <td>...</td>\n",
       "      <td>0</td>\n",
       "      <td>1</td>\n",
       "      <td>0</td>\n",
       "      <td>0</td>\n",
       "      <td>-0.119879</td>\n",
       "      <td>0.898818</td>\n",
       "      <td>1.525474</td>\n",
       "      <td>-0.144804</td>\n",
       "      <td>-0.217127</td>\n",
       "      <td>-0.034087</td>\n",
       "    </tr>\n",
       "    <tr>\n",
       "      <th>6</th>\n",
       "      <td>1</td>\n",
       "      <td>0</td>\n",
       "      <td>0</td>\n",
       "      <td>0</td>\n",
       "      <td>0</td>\n",
       "      <td>6</td>\n",
       "      <td>1</td>\n",
       "      <td>0</td>\n",
       "      <td>0</td>\n",
       "      <td>0</td>\n",
       "      <td>...</td>\n",
       "      <td>0</td>\n",
       "      <td>0</td>\n",
       "      <td>0</td>\n",
       "      <td>0</td>\n",
       "      <td>0.755371</td>\n",
       "      <td>-0.279132</td>\n",
       "      <td>-1.975183</td>\n",
       "      <td>-0.144804</td>\n",
       "      <td>-0.217127</td>\n",
       "      <td>-1.970927</td>\n",
       "    </tr>\n",
       "    <tr>\n",
       "      <th>7</th>\n",
       "      <td>0</td>\n",
       "      <td>0</td>\n",
       "      <td>0</td>\n",
       "      <td>1</td>\n",
       "      <td>0</td>\n",
       "      <td>11</td>\n",
       "      <td>0</td>\n",
       "      <td>0</td>\n",
       "      <td>0</td>\n",
       "      <td>1</td>\n",
       "      <td>...</td>\n",
       "      <td>0</td>\n",
       "      <td>1</td>\n",
       "      <td>0</td>\n",
       "      <td>1</td>\n",
       "      <td>0.974183</td>\n",
       "      <td>0.189179</td>\n",
       "      <td>-0.419335</td>\n",
       "      <td>-0.144804</td>\n",
       "      <td>-0.217127</td>\n",
       "      <td>0.369421</td>\n",
       "    </tr>\n",
       "    <tr>\n",
       "      <th>8</th>\n",
       "      <td>1</td>\n",
       "      <td>0</td>\n",
       "      <td>0</td>\n",
       "      <td>0</td>\n",
       "      <td>0</td>\n",
       "      <td>12</td>\n",
       "      <td>0</td>\n",
       "      <td>1</td>\n",
       "      <td>0</td>\n",
       "      <td>0</td>\n",
       "      <td>...</td>\n",
       "      <td>0</td>\n",
       "      <td>1</td>\n",
       "      <td>0</td>\n",
       "      <td>1</td>\n",
       "      <td>-0.557504</td>\n",
       "      <td>-1.362492</td>\n",
       "      <td>1.525474</td>\n",
       "      <td>1.745173</td>\n",
       "      <td>-0.217127</td>\n",
       "      <td>0.772930</td>\n",
       "    </tr>\n",
       "    <tr>\n",
       "      <th>9</th>\n",
       "      <td>1</td>\n",
       "      <td>0</td>\n",
       "      <td>0</td>\n",
       "      <td>0</td>\n",
       "      <td>0</td>\n",
       "      <td>9</td>\n",
       "      <td>0</td>\n",
       "      <td>0</td>\n",
       "      <td>0</td>\n",
       "      <td>1</td>\n",
       "      <td>...</td>\n",
       "      <td>0</td>\n",
       "      <td>1</td>\n",
       "      <td>0</td>\n",
       "      <td>1</td>\n",
       "      <td>0.244808</td>\n",
       "      <td>-0.286120</td>\n",
       "      <td>1.136512</td>\n",
       "      <td>0.550049</td>\n",
       "      <td>-0.217127</td>\n",
       "      <td>-0.034087</td>\n",
       "    </tr>\n",
       "  </tbody>\n",
       "</table>\n",
       "<p>10 rows × 43 columns</p>\n",
       "</div>"
      ],
      "text/plain": [
       "   Government  Self-emp   Private  Unknown-Workclass  Non-worker  Education  \\\n",
       "0           0         1         0                  0           0          9   \n",
       "1           0         0         0                  1           0          9   \n",
       "2           1         0         0                  0           0         11   \n",
       "3           1         0         0                  0           0          1   \n",
       "4           1         0         0                  0           0          9   \n",
       "5           1         0         0                  0           0         12   \n",
       "6           1         0         0                  0           0          6   \n",
       "7           0         0         0                  1           0         11   \n",
       "8           1         0         0                  0           0         12   \n",
       "9           1         0         0                  0           0          9   \n",
       "\n",
       "    Never-married  Married  Separated   Married-spouse-absent  ...  \\\n",
       "0               0        1          0                       0  ...   \n",
       "1               0        0          0                       1  ...   \n",
       "2               0        0          0                       0  ...   \n",
       "3               0        0          0                       1  ...   \n",
       "4               0        0          0                       1  ...   \n",
       "5               0        0          0                       1  ...   \n",
       "6               1        0          0                       0  ...   \n",
       "7               0        0          0                       1  ...   \n",
       "8               0        1          0                       0  ...   \n",
       "9               0        0          0                       1  ...   \n",
       "\n",
       "   Unknown-Country  South-America  Europe  Income       Age    fnlwgt  \\\n",
       "0                0              1       0       0  0.025996 -1.061979   \n",
       "1                0              1       0       0  0.828308 -1.007104   \n",
       "2                0              1       0       0 -0.046942  0.246034   \n",
       "3                0              1       0       0  1.047121  0.426663   \n",
       "4                0              0       0       0 -0.776316  1.408530   \n",
       "5                0              1       0       0 -0.119879  0.898818   \n",
       "6                0              0       0       0  0.755371 -0.279132   \n",
       "7                0              1       0       1  0.974183  0.189179   \n",
       "8                0              1       0       1 -0.557504 -1.362492   \n",
       "9                0              1       0       1  0.244808 -0.286120   \n",
       "\n",
       "   Education-num  Capital-gain  Capital-loss  Hours-per-week  \n",
       "0       1.136512      0.146932     -0.217127       -0.034087  \n",
       "1       1.136512     -0.144804     -0.217127       -2.213032  \n",
       "2      -0.419335     -0.144804     -0.217127       -0.034087  \n",
       "3      -1.197259     -0.144804     -0.217127       -0.034087  \n",
       "4       1.136512     -0.144804     -0.217127       -0.034087  \n",
       "5       1.525474     -0.144804     -0.217127       -0.034087  \n",
       "6      -1.975183     -0.144804     -0.217127       -1.970927  \n",
       "7      -0.419335     -0.144804     -0.217127        0.369421  \n",
       "8       1.525474      1.745173     -0.217127        0.772930  \n",
       "9       1.136512      0.550049     -0.217127       -0.034087  \n",
       "\n",
       "[10 rows x 43 columns]"
      ]
     },
     "execution_count": 119,
     "metadata": {},
     "output_type": "execute_result"
    }
   ],
   "source": [
    "train_test_final = pd.concat([train_test_bin_encoded,train_test_num_scaled],axis=1)\n",
    "train_test_final.head(10)"
   ]
  },
  {
   "cell_type": "code",
   "execution_count": 120,
   "metadata": {},
   "outputs": [
    {
     "data": {
      "text/html": [
       "<div>\n",
       "<style scoped>\n",
       "    .dataframe tbody tr th:only-of-type {\n",
       "        vertical-align: middle;\n",
       "    }\n",
       "\n",
       "    .dataframe tbody tr th {\n",
       "        vertical-align: top;\n",
       "    }\n",
       "\n",
       "    .dataframe thead th {\n",
       "        text-align: right;\n",
       "    }\n",
       "</style>\n",
       "<table border=\"1\" class=\"dataframe\">\n",
       "  <thead>\n",
       "    <tr style=\"text-align: right;\">\n",
       "      <th></th>\n",
       "      <th>Government</th>\n",
       "      <th>Self-emp</th>\n",
       "      <th>Private</th>\n",
       "      <th>Unknown-Workclass</th>\n",
       "      <th>Non-worker</th>\n",
       "      <th>Education</th>\n",
       "      <th>Never-married</th>\n",
       "      <th>Married</th>\n",
       "      <th>Separated</th>\n",
       "      <th>Married-spouse-absent</th>\n",
       "      <th>...</th>\n",
       "      <th>Asia</th>\n",
       "      <th>Unknown-Country</th>\n",
       "      <th>South-America</th>\n",
       "      <th>Europe</th>\n",
       "      <th>Age</th>\n",
       "      <th>fnlwgt</th>\n",
       "      <th>Education-num</th>\n",
       "      <th>Capital-gain</th>\n",
       "      <th>Capital-loss</th>\n",
       "      <th>Hours-per-week</th>\n",
       "    </tr>\n",
       "  </thead>\n",
       "  <tbody>\n",
       "    <tr>\n",
       "      <th>0</th>\n",
       "      <td>0</td>\n",
       "      <td>1</td>\n",
       "      <td>0</td>\n",
       "      <td>0</td>\n",
       "      <td>0</td>\n",
       "      <td>9</td>\n",
       "      <td>0</td>\n",
       "      <td>1</td>\n",
       "      <td>0</td>\n",
       "      <td>0</td>\n",
       "      <td>...</td>\n",
       "      <td>0</td>\n",
       "      <td>0</td>\n",
       "      <td>1</td>\n",
       "      <td>0</td>\n",
       "      <td>0.025996</td>\n",
       "      <td>-1.061979</td>\n",
       "      <td>1.136512</td>\n",
       "      <td>0.146932</td>\n",
       "      <td>-0.217127</td>\n",
       "      <td>-0.034087</td>\n",
       "    </tr>\n",
       "    <tr>\n",
       "      <th>1</th>\n",
       "      <td>0</td>\n",
       "      <td>0</td>\n",
       "      <td>0</td>\n",
       "      <td>1</td>\n",
       "      <td>0</td>\n",
       "      <td>9</td>\n",
       "      <td>0</td>\n",
       "      <td>0</td>\n",
       "      <td>0</td>\n",
       "      <td>1</td>\n",
       "      <td>...</td>\n",
       "      <td>0</td>\n",
       "      <td>0</td>\n",
       "      <td>1</td>\n",
       "      <td>0</td>\n",
       "      <td>0.828308</td>\n",
       "      <td>-1.007104</td>\n",
       "      <td>1.136512</td>\n",
       "      <td>-0.144804</td>\n",
       "      <td>-0.217127</td>\n",
       "      <td>-2.213032</td>\n",
       "    </tr>\n",
       "    <tr>\n",
       "      <th>2</th>\n",
       "      <td>1</td>\n",
       "      <td>0</td>\n",
       "      <td>0</td>\n",
       "      <td>0</td>\n",
       "      <td>0</td>\n",
       "      <td>11</td>\n",
       "      <td>0</td>\n",
       "      <td>0</td>\n",
       "      <td>0</td>\n",
       "      <td>0</td>\n",
       "      <td>...</td>\n",
       "      <td>0</td>\n",
       "      <td>0</td>\n",
       "      <td>1</td>\n",
       "      <td>0</td>\n",
       "      <td>-0.046942</td>\n",
       "      <td>0.246034</td>\n",
       "      <td>-0.419335</td>\n",
       "      <td>-0.144804</td>\n",
       "      <td>-0.217127</td>\n",
       "      <td>-0.034087</td>\n",
       "    </tr>\n",
       "    <tr>\n",
       "      <th>3</th>\n",
       "      <td>1</td>\n",
       "      <td>0</td>\n",
       "      <td>0</td>\n",
       "      <td>0</td>\n",
       "      <td>0</td>\n",
       "      <td>1</td>\n",
       "      <td>0</td>\n",
       "      <td>0</td>\n",
       "      <td>0</td>\n",
       "      <td>1</td>\n",
       "      <td>...</td>\n",
       "      <td>0</td>\n",
       "      <td>0</td>\n",
       "      <td>1</td>\n",
       "      <td>0</td>\n",
       "      <td>1.047121</td>\n",
       "      <td>0.426663</td>\n",
       "      <td>-1.197259</td>\n",
       "      <td>-0.144804</td>\n",
       "      <td>-0.217127</td>\n",
       "      <td>-0.034087</td>\n",
       "    </tr>\n",
       "    <tr>\n",
       "      <th>4</th>\n",
       "      <td>1</td>\n",
       "      <td>0</td>\n",
       "      <td>0</td>\n",
       "      <td>0</td>\n",
       "      <td>0</td>\n",
       "      <td>9</td>\n",
       "      <td>0</td>\n",
       "      <td>0</td>\n",
       "      <td>0</td>\n",
       "      <td>1</td>\n",
       "      <td>...</td>\n",
       "      <td>1</td>\n",
       "      <td>0</td>\n",
       "      <td>0</td>\n",
       "      <td>0</td>\n",
       "      <td>-0.776316</td>\n",
       "      <td>1.408530</td>\n",
       "      <td>1.136512</td>\n",
       "      <td>-0.144804</td>\n",
       "      <td>-0.217127</td>\n",
       "      <td>-0.034087</td>\n",
       "    </tr>\n",
       "    <tr>\n",
       "      <th>...</th>\n",
       "      <td>...</td>\n",
       "      <td>...</td>\n",
       "      <td>...</td>\n",
       "      <td>...</td>\n",
       "      <td>...</td>\n",
       "      <td>...</td>\n",
       "      <td>...</td>\n",
       "      <td>...</td>\n",
       "      <td>...</td>\n",
       "      <td>...</td>\n",
       "      <td>...</td>\n",
       "      <td>...</td>\n",
       "      <td>...</td>\n",
       "      <td>...</td>\n",
       "      <td>...</td>\n",
       "      <td>...</td>\n",
       "      <td>...</td>\n",
       "      <td>...</td>\n",
       "      <td>...</td>\n",
       "      <td>...</td>\n",
       "      <td>...</td>\n",
       "    </tr>\n",
       "    <tr>\n",
       "      <th>48837</th>\n",
       "      <td>1</td>\n",
       "      <td>0</td>\n",
       "      <td>0</td>\n",
       "      <td>0</td>\n",
       "      <td>0</td>\n",
       "      <td>9</td>\n",
       "      <td>0</td>\n",
       "      <td>0</td>\n",
       "      <td>0</td>\n",
       "      <td>0</td>\n",
       "      <td>...</td>\n",
       "      <td>0</td>\n",
       "      <td>0</td>\n",
       "      <td>1</td>\n",
       "      <td>0</td>\n",
       "      <td>0.025996</td>\n",
       "      <td>0.243884</td>\n",
       "      <td>1.136512</td>\n",
       "      <td>-0.144804</td>\n",
       "      <td>-0.217127</td>\n",
       "      <td>-0.356894</td>\n",
       "    </tr>\n",
       "    <tr>\n",
       "      <th>48838</th>\n",
       "      <td>0</td>\n",
       "      <td>0</td>\n",
       "      <td>0</td>\n",
       "      <td>0</td>\n",
       "      <td>1</td>\n",
       "      <td>11</td>\n",
       "      <td>0</td>\n",
       "      <td>0</td>\n",
       "      <td>1</td>\n",
       "      <td>0</td>\n",
       "      <td>...</td>\n",
       "      <td>0</td>\n",
       "      <td>0</td>\n",
       "      <td>1</td>\n",
       "      <td>0</td>\n",
       "      <td>1.849433</td>\n",
       "      <td>1.247492</td>\n",
       "      <td>-0.419335</td>\n",
       "      <td>-0.144804</td>\n",
       "      <td>-0.217127</td>\n",
       "      <td>-0.034087</td>\n",
       "    </tr>\n",
       "    <tr>\n",
       "      <th>48839</th>\n",
       "      <td>1</td>\n",
       "      <td>0</td>\n",
       "      <td>0</td>\n",
       "      <td>0</td>\n",
       "      <td>0</td>\n",
       "      <td>9</td>\n",
       "      <td>0</td>\n",
       "      <td>0</td>\n",
       "      <td>0</td>\n",
       "      <td>1</td>\n",
       "      <td>...</td>\n",
       "      <td>0</td>\n",
       "      <td>0</td>\n",
       "      <td>1</td>\n",
       "      <td>0</td>\n",
       "      <td>-0.046942</td>\n",
       "      <td>1.754865</td>\n",
       "      <td>1.136512</td>\n",
       "      <td>-0.144804</td>\n",
       "      <td>-0.217127</td>\n",
       "      <td>0.772930</td>\n",
       "    </tr>\n",
       "    <tr>\n",
       "      <th>48840</th>\n",
       "      <td>1</td>\n",
       "      <td>0</td>\n",
       "      <td>0</td>\n",
       "      <td>0</td>\n",
       "      <td>0</td>\n",
       "      <td>9</td>\n",
       "      <td>0</td>\n",
       "      <td>0</td>\n",
       "      <td>0</td>\n",
       "      <td>0</td>\n",
       "      <td>...</td>\n",
       "      <td>0</td>\n",
       "      <td>0</td>\n",
       "      <td>1</td>\n",
       "      <td>0</td>\n",
       "      <td>0.390683</td>\n",
       "      <td>-1.001612</td>\n",
       "      <td>1.136512</td>\n",
       "      <td>0.587220</td>\n",
       "      <td>-0.217127</td>\n",
       "      <td>-0.034087</td>\n",
       "    </tr>\n",
       "    <tr>\n",
       "      <th>48841</th>\n",
       "      <td>0</td>\n",
       "      <td>0</td>\n",
       "      <td>0</td>\n",
       "      <td>1</td>\n",
       "      <td>0</td>\n",
       "      <td>9</td>\n",
       "      <td>0</td>\n",
       "      <td>0</td>\n",
       "      <td>0</td>\n",
       "      <td>1</td>\n",
       "      <td>...</td>\n",
       "      <td>0</td>\n",
       "      <td>0</td>\n",
       "      <td>1</td>\n",
       "      <td>0</td>\n",
       "      <td>-0.265754</td>\n",
       "      <td>-0.071174</td>\n",
       "      <td>1.136512</td>\n",
       "      <td>-0.144804</td>\n",
       "      <td>-0.217127</td>\n",
       "      <td>1.579946</td>\n",
       "    </tr>\n",
       "  </tbody>\n",
       "</table>\n",
       "<p>48842 rows × 42 columns</p>\n",
       "</div>"
      ],
      "text/plain": [
       "       Government  Self-emp   Private  Unknown-Workclass  Non-worker  \\\n",
       "0               0         1         0                  0           0   \n",
       "1               0         0         0                  1           0   \n",
       "2               1         0         0                  0           0   \n",
       "3               1         0         0                  0           0   \n",
       "4               1         0         0                  0           0   \n",
       "...           ...       ...       ...                ...         ...   \n",
       "48837           1         0         0                  0           0   \n",
       "48838           0         0         0                  0           1   \n",
       "48839           1         0         0                  0           0   \n",
       "48840           1         0         0                  0           0   \n",
       "48841           0         0         0                  1           0   \n",
       "\n",
       "       Education   Never-married  Married  Separated   Married-spouse-absent  \\\n",
       "0              9               0        1          0                       0   \n",
       "1              9               0        0          0                       1   \n",
       "2             11               0        0          0                       0   \n",
       "3              1               0        0          0                       1   \n",
       "4              9               0        0          0                       1   \n",
       "...          ...             ...      ...        ...                     ...   \n",
       "48837          9               0        0          0                       0   \n",
       "48838         11               0        0          1                       0   \n",
       "48839          9               0        0          0                       1   \n",
       "48840          9               0        0          0                       0   \n",
       "48841          9               0        0          0                       1   \n",
       "\n",
       "       ...  Asia  Unknown-Country  South-America  Europe       Age    fnlwgt  \\\n",
       "0      ...     0                0              1       0  0.025996 -1.061979   \n",
       "1      ...     0                0              1       0  0.828308 -1.007104   \n",
       "2      ...     0                0              1       0 -0.046942  0.246034   \n",
       "3      ...     0                0              1       0  1.047121  0.426663   \n",
       "4      ...     1                0              0       0 -0.776316  1.408530   \n",
       "...    ...   ...              ...            ...     ...       ...       ...   \n",
       "48837  ...     0                0              1       0  0.025996  0.243884   \n",
       "48838  ...     0                0              1       0  1.849433  1.247492   \n",
       "48839  ...     0                0              1       0 -0.046942  1.754865   \n",
       "48840  ...     0                0              1       0  0.390683 -1.001612   \n",
       "48841  ...     0                0              1       0 -0.265754 -0.071174   \n",
       "\n",
       "       Education-num  Capital-gain  Capital-loss  Hours-per-week  \n",
       "0           1.136512      0.146932     -0.217127       -0.034087  \n",
       "1           1.136512     -0.144804     -0.217127       -2.213032  \n",
       "2          -0.419335     -0.144804     -0.217127       -0.034087  \n",
       "3          -1.197259     -0.144804     -0.217127       -0.034087  \n",
       "4           1.136512     -0.144804     -0.217127       -0.034087  \n",
       "...              ...           ...           ...             ...  \n",
       "48837       1.136512     -0.144804     -0.217127       -0.356894  \n",
       "48838      -0.419335     -0.144804     -0.217127       -0.034087  \n",
       "48839       1.136512     -0.144804     -0.217127        0.772930  \n",
       "48840       1.136512      0.587220     -0.217127       -0.034087  \n",
       "48841       1.136512     -0.144804     -0.217127        1.579946  \n",
       "\n",
       "[48842 rows x 42 columns]"
      ]
     },
     "execution_count": 120,
     "metadata": {},
     "output_type": "execute_result"
    }
   ],
   "source": [
    "X = train_test_final.drop('Income',axis=1)\n",
    "X"
   ]
  },
  {
   "cell_type": "code",
   "execution_count": 121,
   "metadata": {},
   "outputs": [
    {
     "data": {
      "text/plain": [
       "0        0\n",
       "1        0\n",
       "2        0\n",
       "3        0\n",
       "4        0\n",
       "        ..\n",
       "48837    0\n",
       "48838    0\n",
       "48839    0\n",
       "48840    0\n",
       "48841    1\n",
       "Name: Income, Length: 48842, dtype: Sparse[int32, 0]"
      ]
     },
     "execution_count": 121,
     "metadata": {},
     "output_type": "execute_result"
    }
   ],
   "source": [
    "y = train_test_final['Income']\n",
    "y"
   ]
  },
  {
   "cell_type": "markdown",
   "metadata": {},
   "source": [
    "<a id='train_test'></a>"
   ]
  },
  {
   "cell_type": "markdown",
   "metadata": {},
   "source": [
    "# Train test split"
   ]
  },
  {
   "cell_type": "markdown",
   "metadata": {},
   "source": [
    "Even though the data was already split at first, I had to join it together for the purpose of Exploratory Data Analysis and Preprocessing. Now I'm going to split it back again."
   ]
  },
  {
   "cell_type": "code",
   "execution_count": 122,
   "metadata": {},
   "outputs": [],
   "source": [
    "X_train, X_test, y_train, y_test = train_test_split(X, y, test_size=0.2)"
   ]
  },
  {
   "cell_type": "code",
   "execution_count": 123,
   "metadata": {},
   "outputs": [
    {
     "data": {
      "text/html": [
       "<div>\n",
       "<style scoped>\n",
       "    .dataframe tbody tr th:only-of-type {\n",
       "        vertical-align: middle;\n",
       "    }\n",
       "\n",
       "    .dataframe tbody tr th {\n",
       "        vertical-align: top;\n",
       "    }\n",
       "\n",
       "    .dataframe thead th {\n",
       "        text-align: right;\n",
       "    }\n",
       "</style>\n",
       "<table border=\"1\" class=\"dataframe\">\n",
       "  <thead>\n",
       "    <tr style=\"text-align: right;\">\n",
       "      <th></th>\n",
       "      <th>Government</th>\n",
       "      <th>Self-emp</th>\n",
       "      <th>Private</th>\n",
       "      <th>Unknown-Workclass</th>\n",
       "      <th>Non-worker</th>\n",
       "      <th>Education</th>\n",
       "      <th>Never-married</th>\n",
       "      <th>Married</th>\n",
       "      <th>Separated</th>\n",
       "      <th>Married-spouse-absent</th>\n",
       "      <th>...</th>\n",
       "      <th>Asia</th>\n",
       "      <th>Unknown-Country</th>\n",
       "      <th>South-America</th>\n",
       "      <th>Europe</th>\n",
       "      <th>Age</th>\n",
       "      <th>fnlwgt</th>\n",
       "      <th>Education-num</th>\n",
       "      <th>Capital-gain</th>\n",
       "      <th>Capital-loss</th>\n",
       "      <th>Hours-per-week</th>\n",
       "    </tr>\n",
       "  </thead>\n",
       "  <tbody>\n",
       "    <tr>\n",
       "      <th>18086</th>\n",
       "      <td>1</td>\n",
       "      <td>0</td>\n",
       "      <td>0</td>\n",
       "      <td>0</td>\n",
       "      <td>0</td>\n",
       "      <td>15</td>\n",
       "      <td>0</td>\n",
       "      <td>1</td>\n",
       "      <td>0</td>\n",
       "      <td>0</td>\n",
       "      <td>...</td>\n",
       "      <td>0</td>\n",
       "      <td>0</td>\n",
       "      <td>1</td>\n",
       "      <td>0</td>\n",
       "      <td>-0.849254</td>\n",
       "      <td>-0.913404</td>\n",
       "      <td>-0.030373</td>\n",
       "      <td>-0.144804</td>\n",
       "      <td>-0.217127</td>\n",
       "      <td>-0.034087</td>\n",
       "    </tr>\n",
       "    <tr>\n",
       "      <th>17424</th>\n",
       "      <td>1</td>\n",
       "      <td>0</td>\n",
       "      <td>0</td>\n",
       "      <td>0</td>\n",
       "      <td>0</td>\n",
       "      <td>11</td>\n",
       "      <td>0</td>\n",
       "      <td>0</td>\n",
       "      <td>0</td>\n",
       "      <td>1</td>\n",
       "      <td>...</td>\n",
       "      <td>0</td>\n",
       "      <td>0</td>\n",
       "      <td>1</td>\n",
       "      <td>0</td>\n",
       "      <td>0.390683</td>\n",
       "      <td>0.523753</td>\n",
       "      <td>-0.419335</td>\n",
       "      <td>-0.144804</td>\n",
       "      <td>-0.217127</td>\n",
       "      <td>1.579946</td>\n",
       "    </tr>\n",
       "    <tr>\n",
       "      <th>28233</th>\n",
       "      <td>0</td>\n",
       "      <td>0</td>\n",
       "      <td>0</td>\n",
       "      <td>1</td>\n",
       "      <td>0</td>\n",
       "      <td>11</td>\n",
       "      <td>0</td>\n",
       "      <td>1</td>\n",
       "      <td>0</td>\n",
       "      <td>0</td>\n",
       "      <td>...</td>\n",
       "      <td>0</td>\n",
       "      <td>0</td>\n",
       "      <td>1</td>\n",
       "      <td>0</td>\n",
       "      <td>-0.703379</td>\n",
       "      <td>0.375717</td>\n",
       "      <td>-0.419335</td>\n",
       "      <td>-0.144804</td>\n",
       "      <td>-0.217127</td>\n",
       "      <td>0.772930</td>\n",
       "    </tr>\n",
       "    <tr>\n",
       "      <th>21457</th>\n",
       "      <td>1</td>\n",
       "      <td>0</td>\n",
       "      <td>0</td>\n",
       "      <td>0</td>\n",
       "      <td>0</td>\n",
       "      <td>15</td>\n",
       "      <td>0</td>\n",
       "      <td>0</td>\n",
       "      <td>0</td>\n",
       "      <td>1</td>\n",
       "      <td>...</td>\n",
       "      <td>0</td>\n",
       "      <td>0</td>\n",
       "      <td>1</td>\n",
       "      <td>0</td>\n",
       "      <td>1.047121</td>\n",
       "      <td>-0.366317</td>\n",
       "      <td>-0.030373</td>\n",
       "      <td>0.276161</td>\n",
       "      <td>-0.217127</td>\n",
       "      <td>-0.034087</td>\n",
       "    </tr>\n",
       "    <tr>\n",
       "      <th>16072</th>\n",
       "      <td>1</td>\n",
       "      <td>0</td>\n",
       "      <td>0</td>\n",
       "      <td>0</td>\n",
       "      <td>0</td>\n",
       "      <td>15</td>\n",
       "      <td>0</td>\n",
       "      <td>0</td>\n",
       "      <td>0</td>\n",
       "      <td>0</td>\n",
       "      <td>...</td>\n",
       "      <td>0</td>\n",
       "      <td>0</td>\n",
       "      <td>1</td>\n",
       "      <td>0</td>\n",
       "      <td>0.171871</td>\n",
       "      <td>-0.809335</td>\n",
       "      <td>-0.030373</td>\n",
       "      <td>-0.144804</td>\n",
       "      <td>-0.217127</td>\n",
       "      <td>1.579946</td>\n",
       "    </tr>\n",
       "  </tbody>\n",
       "</table>\n",
       "<p>5 rows × 42 columns</p>\n",
       "</div>"
      ],
      "text/plain": [
       "       Government  Self-emp   Private  Unknown-Workclass  Non-worker  \\\n",
       "18086           1         0         0                  0           0   \n",
       "17424           1         0         0                  0           0   \n",
       "28233           0         0         0                  1           0   \n",
       "21457           1         0         0                  0           0   \n",
       "16072           1         0         0                  0           0   \n",
       "\n",
       "       Education   Never-married  Married  Separated   Married-spouse-absent  \\\n",
       "18086         15               0        1          0                       0   \n",
       "17424         11               0        0          0                       1   \n",
       "28233         11               0        1          0                       0   \n",
       "21457         15               0        0          0                       1   \n",
       "16072         15               0        0          0                       0   \n",
       "\n",
       "       ...  Asia  Unknown-Country  South-America  Europe       Age    fnlwgt  \\\n",
       "18086  ...     0                0              1       0 -0.849254 -0.913404   \n",
       "17424  ...     0                0              1       0  0.390683  0.523753   \n",
       "28233  ...     0                0              1       0 -0.703379  0.375717   \n",
       "21457  ...     0                0              1       0  1.047121 -0.366317   \n",
       "16072  ...     0                0              1       0  0.171871 -0.809335   \n",
       "\n",
       "       Education-num  Capital-gain  Capital-loss  Hours-per-week  \n",
       "18086      -0.030373     -0.144804     -0.217127       -0.034087  \n",
       "17424      -0.419335     -0.144804     -0.217127        1.579946  \n",
       "28233      -0.419335     -0.144804     -0.217127        0.772930  \n",
       "21457      -0.030373      0.276161     -0.217127       -0.034087  \n",
       "16072      -0.030373     -0.144804     -0.217127        1.579946  \n",
       "\n",
       "[5 rows x 42 columns]"
      ]
     },
     "execution_count": 123,
     "metadata": {},
     "output_type": "execute_result"
    }
   ],
   "source": [
    "X_train.head()"
   ]
  },
  {
   "cell_type": "code",
   "execution_count": 124,
   "metadata": {},
   "outputs": [
    {
     "data": {
      "text/plain": [
       "18086    0\n",
       "17424    0\n",
       "28233    1\n",
       "21457    0\n",
       "16072    0\n",
       "Name: Income, dtype: Sparse[int32, 0]"
      ]
     },
     "execution_count": 124,
     "metadata": {},
     "output_type": "execute_result"
    }
   ],
   "source": [
    "y_train.head()"
   ]
  },
  {
   "cell_type": "markdown",
   "metadata": {},
   "source": [
    "<a id='selecting'></a>"
   ]
  },
  {
   "cell_type": "markdown",
   "metadata": {},
   "source": [
    "# Selecting the best ML algorithm"
   ]
  },
  {
   "cell_type": "markdown",
   "metadata": {},
   "source": [
    "Firsly, I'm going to quickly look at a selection of Machine Learning algorithms. I'm not going to do any hyperparameter tuning or in-depth analysis. \n",
    "\n",
    "For this I also won't use the test set (which will be used to verify hyperparameters later down the line). Instead, I'm going to use a cross-validation set, with a 5-fold cross validation."
   ]
  },
  {
   "cell_type": "markdown",
   "metadata": {},
   "source": [
    "### Logistic Regression"
   ]
  },
  {
   "cell_type": "code",
   "execution_count": 125,
   "metadata": {},
   "outputs": [
    {
     "data": {
      "text/plain": [
       "LogisticRegression()"
      ]
     },
     "execution_count": 125,
     "metadata": {},
     "output_type": "execute_result"
    }
   ],
   "source": [
    "log_reg = LogisticRegression()\n",
    "log_reg.fit(X_train,y_train)"
   ]
  },
  {
   "cell_type": "code",
   "execution_count": 126,
   "metadata": {},
   "outputs": [
    {
     "data": {
      "text/plain": [
       "array([0.84926424, 0.85732566, 0.84900832, 0.84694139, 0.8515485 ])"
      ]
     },
     "execution_count": 126,
     "metadata": {},
     "output_type": "execute_result"
    }
   ],
   "source": [
    "log_reg_cv_acc = cross_val_score(log_reg,X_train,y_train,cv=5,scoring='accuracy')\n",
    "log_reg_cv_acc"
   ]
  },
  {
   "cell_type": "code",
   "execution_count": 127,
   "metadata": {},
   "outputs": [
    {
     "data": {
      "text/plain": [
       "0.8508"
      ]
     },
     "execution_count": 127,
     "metadata": {},
     "output_type": "execute_result"
    }
   ],
   "source": [
    "log_reg_cv_acc_mean = np.round(np.mean(log_reg_cv_acc),4)\n",
    "log_reg_cv_acc_mean"
   ]
  },
  {
   "cell_type": "markdown",
   "metadata": {},
   "source": [
    "### SGD Classifier"
   ]
  },
  {
   "cell_type": "code",
   "execution_count": 128,
   "metadata": {},
   "outputs": [
    {
     "data": {
      "text/plain": [
       "SGDClassifier()"
      ]
     },
     "execution_count": 128,
     "metadata": {},
     "output_type": "execute_result"
    }
   ],
   "source": [
    "sgd_clf = SGDClassifier()\n",
    "sgd_clf.fit(X_train,y_train)"
   ]
  },
  {
   "cell_type": "code",
   "execution_count": 129,
   "metadata": {},
   "outputs": [
    {
     "data": {
      "text/plain": [
       "array([0.83262956, 0.85131158, 0.84644914, 0.84412593, 0.83107243])"
      ]
     },
     "execution_count": 129,
     "metadata": {},
     "output_type": "execute_result"
    }
   ],
   "source": [
    "sgd_clf_acc = cross_val_score(sgd_clf,X_train,y_train,cv=5,scoring='accuracy')\n",
    "sgd_clf_acc"
   ]
  },
  {
   "cell_type": "code",
   "execution_count": 130,
   "metadata": {},
   "outputs": [
    {
     "data": {
      "text/plain": [
       "0.8411"
      ]
     },
     "execution_count": 130,
     "metadata": {},
     "output_type": "execute_result"
    }
   ],
   "source": [
    "sgd_clf_acc_mean = np.round(np.mean(sgd_clf_acc),4)\n",
    "sgd_clf_acc_mean"
   ]
  },
  {
   "cell_type": "markdown",
   "metadata": {},
   "source": [
    "### KNeighbors Classifier"
   ]
  },
  {
   "cell_type": "code",
   "execution_count": 131,
   "metadata": {},
   "outputs": [
    {
     "data": {
      "text/plain": [
       "KNeighborsClassifier()"
      ]
     },
     "execution_count": 131,
     "metadata": {},
     "output_type": "execute_result"
    }
   ],
   "source": [
    "knn_clf = KNeighborsClassifier()\n",
    "knn_clf.fit(X_train,y_train)"
   ]
  },
  {
   "cell_type": "code",
   "execution_count": 132,
   "metadata": {},
   "outputs": [
    {
     "data": {
      "text/plain": [
       "array([0.82725528, 0.83122201, 0.83160589, 0.83030458, 0.83120041])"
      ]
     },
     "execution_count": 132,
     "metadata": {},
     "output_type": "execute_result"
    }
   ],
   "source": [
    "knn_clf_acc = cross_val_score(knn_clf,X_train,y_train,cv=5,scoring='accuracy')\n",
    "knn_clf_acc"
   ]
  },
  {
   "cell_type": "code",
   "execution_count": 133,
   "metadata": {},
   "outputs": [
    {
     "data": {
      "text/plain": [
       "0.8303"
      ]
     },
     "execution_count": 133,
     "metadata": {},
     "output_type": "execute_result"
    }
   ],
   "source": [
    "knn_clf_acc_mean = np.round(np.mean(knn_clf_acc),4)\n",
    "knn_clf_acc_mean"
   ]
  },
  {
   "cell_type": "markdown",
   "metadata": {},
   "source": [
    "### Decision tree"
   ]
  },
  {
   "cell_type": "code",
   "execution_count": 134,
   "metadata": {},
   "outputs": [
    {
     "data": {
      "text/plain": [
       "DecisionTreeClassifier()"
      ]
     },
     "execution_count": 134,
     "metadata": {},
     "output_type": "execute_result"
    }
   ],
   "source": [
    "dt_clf = DecisionTreeClassifier()\n",
    "dt_clf.fit(X_train,y_train)"
   ]
  },
  {
   "cell_type": "code",
   "execution_count": 135,
   "metadata": {},
   "outputs": [
    {
     "data": {
      "text/plain": [
       "array([0.81317978, 0.80716571, 0.81253999, 0.81725109, 0.82019452])"
      ]
     },
     "execution_count": 135,
     "metadata": {},
     "output_type": "execute_result"
    }
   ],
   "source": [
    "dt_clf_acc = cross_val_score(dt_clf,X_train,y_train,cv=5,scoring='accuracy')\n",
    "dt_clf_acc"
   ]
  },
  {
   "cell_type": "code",
   "execution_count": 136,
   "metadata": {},
   "outputs": [
    {
     "data": {
      "text/plain": [
       "0.8141"
      ]
     },
     "execution_count": 136,
     "metadata": {},
     "output_type": "execute_result"
    }
   ],
   "source": [
    "dt_clf_acc_mean = np.round(np.mean(dt_clf_acc),4)\n",
    "dt_clf_acc_mean"
   ]
  },
  {
   "cell_type": "markdown",
   "metadata": {},
   "source": [
    "### Random Forest"
   ]
  },
  {
   "cell_type": "code",
   "execution_count": 137,
   "metadata": {},
   "outputs": [
    {
     "data": {
      "text/plain": [
       "RandomForestClassifier()"
      ]
     },
     "execution_count": 137,
     "metadata": {},
     "output_type": "execute_result"
    }
   ],
   "source": [
    "rf_clf = RandomForestClassifier()\n",
    "rf_clf.fit(X_train,y_train)"
   ]
  },
  {
   "cell_type": "code",
   "execution_count": 138,
   "metadata": {},
   "outputs": [
    {
     "data": {
      "text/plain": [
       "array([0.84849648, 0.85476647, 0.85207933, 0.8495009 , 0.84975685])"
      ]
     },
     "execution_count": 138,
     "metadata": {},
     "output_type": "execute_result"
    }
   ],
   "source": [
    "rf_clf_acc = cross_val_score(rf_clf,X_train,y_train,cv=5,scoring='accuracy')\n",
    "rf_clf_acc"
   ]
  },
  {
   "cell_type": "code",
   "execution_count": 139,
   "metadata": {},
   "outputs": [
    {
     "data": {
      "text/plain": [
       "0.8509"
      ]
     },
     "execution_count": 139,
     "metadata": {},
     "output_type": "execute_result"
    }
   ],
   "source": [
    "rf_clf_acc_mean = np.round(np.mean(rf_clf_acc),4)\n",
    "rf_clf_acc_mean"
   ]
  },
  {
   "cell_type": "markdown",
   "metadata": {},
   "source": [
    "### Gradient Boosting"
   ]
  },
  {
   "cell_type": "code",
   "execution_count": 140,
   "metadata": {},
   "outputs": [
    {
     "data": {
      "text/plain": [
       "GradientBoostingClassifier()"
      ]
     },
     "execution_count": 140,
     "metadata": {},
     "output_type": "execute_result"
    }
   ],
   "source": [
    "gb_clf = GradientBoostingClassifier()\n",
    "gb_clf.fit(X_train,y_train)"
   ]
  },
  {
   "cell_type": "code",
   "execution_count": 141,
   "metadata": {},
   "outputs": [
    {
     "data": {
      "text/plain": [
       "array([0.86142035, 0.87037748, 0.86449136, 0.86639365, 0.86754543])"
      ]
     },
     "execution_count": 141,
     "metadata": {},
     "output_type": "execute_result"
    }
   ],
   "source": [
    "gb_clf_acc = cross_val_score(gb_clf,X_train,y_train,cv=5,scoring='accuracy')\n",
    "gb_clf_acc"
   ]
  },
  {
   "cell_type": "code",
   "execution_count": 142,
   "metadata": {},
   "outputs": [
    {
     "data": {
      "text/plain": [
       "0.866"
      ]
     },
     "execution_count": 142,
     "metadata": {},
     "output_type": "execute_result"
    }
   ],
   "source": [
    "gb_clf_acc_mean = np.round(np.mean(gb_clf_acc),4)\n",
    "gb_clf_acc_mean"
   ]
  },
  {
   "cell_type": "markdown",
   "metadata": {},
   "source": [
    "### XG Boost"
   ]
  },
  {
   "cell_type": "code",
   "execution_count": 143,
   "metadata": {},
   "outputs": [
    {
     "data": {
      "text/plain": [
       "XGBClassifier(base_score=0.5, booster='gbtree', colsample_bylevel=1,\n",
       "              colsample_bynode=1, colsample_bytree=1, gamma=0, gpu_id=-1,\n",
       "              importance_type='gain', interaction_constraints='',\n",
       "              learning_rate=0.300000012, max_delta_step=0, max_depth=6,\n",
       "              min_child_weight=1, missing=nan, monotone_constraints='()',\n",
       "              n_estimators=100, n_jobs=0, num_parallel_tree=1, random_state=0,\n",
       "              reg_alpha=0, reg_lambda=1, scale_pos_weight=1, subsample=1,\n",
       "              tree_method='exact', validate_parameters=1, verbosity=None)"
      ]
     },
     "execution_count": 143,
     "metadata": {},
     "output_type": "execute_result"
    }
   ],
   "source": [
    "xgb_clf = XGBClassifier()\n",
    "xgb_clf.fit(X_train,y_train)"
   ]
  },
  {
   "cell_type": "code",
   "execution_count": 144,
   "metadata": {},
   "outputs": [
    {
     "data": {
      "text/plain": [
       "array([0.86397953, 0.87549584, 0.86833013, 0.86933709, 0.87138469])"
      ]
     },
     "execution_count": 144,
     "metadata": {},
     "output_type": "execute_result"
    }
   ],
   "source": [
    "xgb_clf_acc = cross_val_score(xgb_clf,X_train,y_train,cv=5,scoring='accuracy')\n",
    "xgb_clf_acc"
   ]
  },
  {
   "cell_type": "code",
   "execution_count": 145,
   "metadata": {},
   "outputs": [
    {
     "data": {
      "text/plain": [
       "0.8697"
      ]
     },
     "execution_count": 145,
     "metadata": {},
     "output_type": "execute_result"
    }
   ],
   "source": [
    "xgb_clf_acc_mean = np.round(np.mean(xgb_clf_acc),4)\n",
    "xgb_clf_acc_mean"
   ]
  },
  {
   "cell_type": "markdown",
   "metadata": {},
   "source": [
    "### Preliminary analysis - Summary"
   ]
  },
  {
   "cell_type": "code",
   "execution_count": 146,
   "metadata": {},
   "outputs": [
    {
     "data": {
      "text/html": [
       "<div>\n",
       "<style scoped>\n",
       "    .dataframe tbody tr th:only-of-type {\n",
       "        vertical-align: middle;\n",
       "    }\n",
       "\n",
       "    .dataframe tbody tr th {\n",
       "        vertical-align: top;\n",
       "    }\n",
       "\n",
       "    .dataframe thead th {\n",
       "        text-align: right;\n",
       "    }\n",
       "</style>\n",
       "<table border=\"1\" class=\"dataframe\">\n",
       "  <thead>\n",
       "    <tr style=\"text-align: right;\">\n",
       "      <th></th>\n",
       "      <th>Score</th>\n",
       "    </tr>\n",
       "  </thead>\n",
       "  <tbody>\n",
       "    <tr>\n",
       "      <th>XGBoost</th>\n",
       "      <td>86.97</td>\n",
       "    </tr>\n",
       "    <tr>\n",
       "      <th>Gradient Boosting</th>\n",
       "      <td>86.60</td>\n",
       "    </tr>\n",
       "    <tr>\n",
       "      <th>Random Forest</th>\n",
       "      <td>85.09</td>\n",
       "    </tr>\n",
       "    <tr>\n",
       "      <th>Logistic Regression</th>\n",
       "      <td>85.08</td>\n",
       "    </tr>\n",
       "    <tr>\n",
       "      <th>SGD</th>\n",
       "      <td>84.11</td>\n",
       "    </tr>\n",
       "    <tr>\n",
       "      <th>KNeighbors</th>\n",
       "      <td>83.03</td>\n",
       "    </tr>\n",
       "    <tr>\n",
       "      <th>Decision tree</th>\n",
       "      <td>81.41</td>\n",
       "    </tr>\n",
       "  </tbody>\n",
       "</table>\n",
       "</div>"
      ],
      "text/plain": [
       "                     Score\n",
       "XGBoost              86.97\n",
       "Gradient Boosting    86.60\n",
       "Random Forest        85.09\n",
       "Logistic Regression  85.08\n",
       "SGD                  84.11\n",
       "KNeighbors           83.03\n",
       "Decision tree        81.41"
      ]
     },
     "execution_count": 146,
     "metadata": {},
     "output_type": "execute_result"
    }
   ],
   "source": [
    "model_accuracies = pd.DataFrame({'Logistic Regression':log_reg_cv_acc_mean,\n",
    "                                 'SGD':sgd_clf_acc_mean,\n",
    "                              'KNeighbors':knn_clf_acc_mean,\n",
    "                              'Decision tree':dt_clf_acc_mean,   \n",
    "                              'Random Forest':rf_clf_acc_mean,\n",
    "                                 'Gradient Boosting' :gb_clf_acc_mean,\n",
    "                                 'XGBoost' :xgb_clf_acc_mean\n",
    "                                },index=['Score'])\n",
    "\n",
    "model_accuracies = 100*model_accuracies.T.sort_values(by=['Score'],ascending=False)\n",
    "model_accuracies"
   ]
  },
  {
   "cell_type": "markdown",
   "metadata": {},
   "source": [
    "I'm going to tune the hyperparameters for top 4 best algorithms - XGBoost, Gradient Boosting, Logistic Regression and Random Forest."
   ]
  },
  {
   "cell_type": "markdown",
   "metadata": {},
   "source": [
    "<a id='tuning'></a>"
   ]
  },
  {
   "cell_type": "markdown",
   "metadata": {},
   "source": [
    "# Hyperparameter tuning"
   ]
  },
  {
   "cell_type": "markdown",
   "metadata": {},
   "source": [
    "### XGBoost"
   ]
  },
  {
   "cell_type": "code",
   "execution_count": 147,
   "metadata": {},
   "outputs": [
    {
     "name": "stdout",
     "output_type": "stream",
     "text": [
      "{'max_depth': 5, 'min_child_weight': 0.5}\n",
      "0.8710874767322986\n"
     ]
    }
   ],
   "source": [
    "params_xgb = [{'max_depth': np.linspace(3,10,8).astype(int),\n",
    "              'min_child_weight': [0,0.25,0.5,0.75,1,1.25]\n",
    "              }]\n",
    "\n",
    "gridsearch_xgb = GridSearchCV(xgb_clf,\n",
    "                             param_grid=params_xgb,\n",
    "                             scoring='accuracy'\n",
    "                             )\n",
    "\n",
    "xgb_clf_gridsearch = gridsearch_xgb.fit(X_train,y_train)\n",
    "\n",
    "print(xgb_clf_gridsearch.best_params_)\n",
    "print(xgb_clf_gridsearch.best_score_)"
   ]
  },
  {
   "cell_type": "code",
   "execution_count": 148,
   "metadata": {},
   "outputs": [
    {
     "name": "stdout",
     "output_type": "stream",
     "text": [
      "XGBOOST:\n",
      "                             Accuracy\n",
      "After hyperparameter tuning    0.8711\n",
      "Original model                 0.8697\n",
      "\n",
      "\n",
      "0.16 % performance improvement (with hyperparameter tuning).\n"
     ]
    }
   ],
   "source": [
    "# Putting together accuracies - before and after hyperparameter tuning\n",
    "\n",
    "xgb_clf_accuracies = pd.DataFrame({'Original model': xgb_clf_acc_mean,\n",
    "                                   'After hyperparameter tuning' : np.round(xgb_clf_gridsearch.best_score_,4),\n",
    "                                    },index=['Accuracy'])\n",
    "\n",
    "# Calculating accuracy improvement caused by hyperparameter tuning\n",
    "\n",
    "xgb_clf_improvement = 100*(np.round(xgb_clf_gridsearch.best_score_,4)-xgb_clf_acc_mean)/xgb_clf_acc_mean\n",
    "xgb_clf_improvement = np.round(xgb_clf_improvement,2)\n",
    "\n",
    "# Presenting the results\n",
    "\n",
    "print('XGBOOST:')\n",
    "print(xgb_clf_accuracies.T.sort_values(by='Accuracy',ascending=False))\n",
    "print('\\n')\n",
    "print(xgb_clf_improvement, '% performance improvement (with hyperparameter tuning).')"
   ]
  },
  {
   "cell_type": "markdown",
   "metadata": {},
   "source": [
    "### Gradient Boosting"
   ]
  },
  {
   "cell_type": "code",
   "execution_count": 149,
   "metadata": {},
   "outputs": [
    {
     "name": "stdout",
     "output_type": "stream",
     "text": [
      "{'learning_rate': 0.5, 'n_estimators': 90}\n",
      "0.8703452749228259\n"
     ]
    }
   ],
   "source": [
    "params_gb = [{'learning_rate' : [1, 0.5, 0.3, 0.1, 0.03, 0.01], \n",
    "              'n_estimators' : list(range(10, 131, 40))                \n",
    "            }]\n",
    "\n",
    "gridsearch_gb = GridSearchCV(gb_clf,\n",
    "                            param_grid=params_gb,\n",
    "                            scoring='accuracy'\n",
    "                            )\n",
    "\n",
    "gb_clf_gridsearch = gridsearch_gb.fit(X_train,y_train)\n",
    "\n",
    "print(gb_clf_gridsearch.best_params_)\n",
    "print(gb_clf_gridsearch.best_score_)"
   ]
  },
  {
   "cell_type": "code",
   "execution_count": 150,
   "metadata": {},
   "outputs": [
    {
     "name": "stdout",
     "output_type": "stream",
     "text": [
      "GRADIENT BOOSTING:\n",
      "                             Accuracy\n",
      "After hyperparameter tuning    0.8703\n",
      "Original model                 0.8660\n",
      "\n",
      "\n",
      "0.5 % pegbormance improvement (with hyperparameter tuning).\n"
     ]
    }
   ],
   "source": [
    "# Putting together accuracies - before and after hyperparameter tuning\n",
    "\n",
    "gb_clf_accuracies = pd.DataFrame({'Original model': gb_clf_acc_mean,\n",
    "                                   'After hyperparameter tuning' : np.round(gb_clf_gridsearch.best_score_,4),\n",
    "                                    },index=['Accuracy'])\n",
    "\n",
    "# Calculating accuracy improvement caused by hyperparameter tuning\n",
    "\n",
    "gb_clf_improvement = 100*(np.round(gb_clf_gridsearch.best_score_,4)-gb_clf_acc_mean)/gb_clf_acc_mean\n",
    "gb_clf_improvement = np.round(gb_clf_improvement,2)\n",
    "\n",
    "# Presenting the results\n",
    "\n",
    "print('GRADIENT BOOSTING:')\n",
    "print(gb_clf_accuracies.T.sort_values(by='Accuracy',ascending=False))\n",
    "print('\\n')\n",
    "print(gb_clf_improvement, '% pegbormance improvement (with hyperparameter tuning).')"
   ]
  },
  {
   "cell_type": "markdown",
   "metadata": {},
   "source": [
    "### Random Forest"
   ]
  },
  {
   "cell_type": "code",
   "execution_count": 151,
   "metadata": {},
   "outputs": [
    {
     "name": "stdout",
     "output_type": "stream",
     "text": [
      "{'max_features': 26, 'n_estimators': 70}\n",
      "0.854759030373654\n"
     ]
    }
   ],
   "source": [
    "params_rf = [{'n_estimators': list(range(50,101,5)),\n",
    "             'max_features': list(range(6,32,5))\n",
    "             }]\n",
    "\n",
    "gridsearch_rf = GridSearchCV(rf_clf,\n",
    "                            param_grid=params_rf,\n",
    "                            scoring='accuracy'\n",
    "                            )\n",
    "\n",
    "rf_clf_gridsearch = gridsearch_rf.fit(X_train,y_train)\n",
    "\n",
    "print(rf_clf_gridsearch.best_params_)\n",
    "print(rf_clf_gridsearch.best_score_)"
   ]
  },
  {
   "cell_type": "code",
   "execution_count": 152,
   "metadata": {},
   "outputs": [
    {
     "name": "stdout",
     "output_type": "stream",
     "text": [
      "RANDOM FOREST:\n",
      "                             Accuracy\n",
      "After hyperparameter tuning    0.8548\n",
      "Original model                 0.8509\n",
      "\n",
      "\n",
      "0.46 % performance improvement (with hyperparameter tuning).\n"
     ]
    }
   ],
   "source": [
    "# Putting together accuracies - before and after hyperparameter tuning\n",
    "\n",
    "rf_clf_accuracies = pd.DataFrame({'Original model': rf_clf_acc_mean,\n",
    "                                   'After hyperparameter tuning' : np.round(rf_clf_gridsearch.best_score_,4),\n",
    "                                    },index=['Accuracy'])\n",
    "\n",
    "# Calculating accuracy improvement caused by hyperparameter tuning\n",
    "\n",
    "rf_clf_improvement = 100*(np.round(rf_clf_gridsearch.best_score_,4)-rf_clf_acc_mean)/rf_clf_acc_mean\n",
    "rf_clf_improvement = np.round(rf_clf_improvement,2)\n",
    "\n",
    "# Presenting the results\n",
    "\n",
    "print('RANDOM FOREST:')\n",
    "print(rf_clf_accuracies.T.sort_values(by='Accuracy',ascending=False))\n",
    "print('\\n')\n",
    "print(rf_clf_improvement, '% performance improvement (with hyperparameter tuning).')"
   ]
  },
  {
   "cell_type": "markdown",
   "metadata": {},
   "source": [
    "### Logistic regression"
   ]
  },
  {
   "cell_type": "code",
   "execution_count": 153,
   "metadata": {},
   "outputs": [
    {
     "name": "stdout",
     "output_type": "stream",
     "text": [
      "{'C': 1.623776739188721, 'penalty': 'l1', 'solver': 'liblinear'}\n",
      "0.8508944016849853\n"
     ]
    }
   ],
   "source": [
    "params_GS =     [{'penalty':['l1','l2'],\n",
    "                  'C': np.logspace(-4,4,20),\n",
    "                  'solver':['liblinear']\n",
    "                }]\n",
    "\n",
    "gridsearch = GridSearchCV(log_reg,\n",
    "                          param_grid=params_GS,\n",
    "                          scoring='accuracy'\n",
    "                          )\n",
    "\n",
    "log_reg_GS = gridsearch.fit(X_train,y_train)\n",
    "\n",
    "print(log_reg_GS.best_params_)\n",
    "print(log_reg_GS.best_score_)"
   ]
  },
  {
   "cell_type": "code",
   "execution_count": 154,
   "metadata": {},
   "outputs": [
    {
     "name": "stdout",
     "output_type": "stream",
     "text": [
      "LOGISTIC REGRESSION:\n",
      "                             Accuracy\n",
      "After hyperparameter tuning    0.8509\n",
      "Original model                 0.8508\n",
      "\n",
      "\n",
      "0.01 % performance improvement (with hyperparameter tuning).\n"
     ]
    }
   ],
   "source": [
    "# Putting together accuracies - before and after hyperparameter tuning\n",
    "\n",
    "log_reg_accuracies = pd.DataFrame({'Original model': log_reg_cv_acc_mean,\n",
    "                                   'After hyperparameter tuning' : np.round(log_reg_GS.best_score_,4),\n",
    "                                    },index=['Accuracy'])\n",
    "\n",
    "# Calculating accuracy improvement caused by hyperparameter tuning\n",
    "\n",
    "log_reg_improvement = 100*(np.round(log_reg_GS.best_score_,4)-log_reg_cv_acc_mean)/log_reg_cv_acc_mean\n",
    "log_reg_improvement = np.round(log_reg_improvement,2)\n",
    "\n",
    "# Presenting the results\n",
    "\n",
    "print('LOGISTIC REGRESSION:')\n",
    "print(log_reg_accuracies.T.sort_values(by='Accuracy',ascending=False))\n",
    "print('\\n')\n",
    "print(log_reg_improvement, '% performance improvement (with hyperparameter tuning).')"
   ]
  },
  {
   "cell_type": "markdown",
   "metadata": {},
   "source": [
    "### Hyperparameter tuning - Summary"
   ]
  },
  {
   "cell_type": "code",
   "execution_count": 155,
   "metadata": {},
   "outputs": [
    {
     "data": {
      "text/html": [
       "<div>\n",
       "<style scoped>\n",
       "    .dataframe tbody tr th:only-of-type {\n",
       "        vertical-align: middle;\n",
       "    }\n",
       "\n",
       "    .dataframe tbody tr th {\n",
       "        vertical-align: top;\n",
       "    }\n",
       "\n",
       "    .dataframe thead th {\n",
       "        text-align: right;\n",
       "    }\n",
       "</style>\n",
       "<table border=\"1\" class=\"dataframe\">\n",
       "  <thead>\n",
       "    <tr style=\"text-align: right;\">\n",
       "      <th></th>\n",
       "      <th>Score</th>\n",
       "    </tr>\n",
       "  </thead>\n",
       "  <tbody>\n",
       "    <tr>\n",
       "      <th>XGBoost</th>\n",
       "      <td>87.11</td>\n",
       "    </tr>\n",
       "    <tr>\n",
       "      <th>Gradient Boosting</th>\n",
       "      <td>87.03</td>\n",
       "    </tr>\n",
       "    <tr>\n",
       "      <th>Random Forest</th>\n",
       "      <td>85.48</td>\n",
       "    </tr>\n",
       "    <tr>\n",
       "      <th>Logistic Regression</th>\n",
       "      <td>85.09</td>\n",
       "    </tr>\n",
       "  </tbody>\n",
       "</table>\n",
       "</div>"
      ],
      "text/plain": [
       "                     Score\n",
       "XGBoost              87.11\n",
       "Gradient Boosting    87.03\n",
       "Random Forest        85.48\n",
       "Logistic Regression  85.09"
      ]
     },
     "execution_count": 155,
     "metadata": {},
     "output_type": "execute_result"
    }
   ],
   "source": [
    "# Putting together the scores (after hyperparameter tuning)\n",
    "\n",
    "100*pd.DataFrame({'Logistic Regression' : np.round(log_reg_GS.best_score_,4),\n",
    "                 'Random Forest' : np.round(rf_clf_gridsearch.best_score_,4),\n",
    "                 'Gradient Boosting' : np.round(gb_clf_gridsearch.best_score_,4),\n",
    "                 'XGBoost' : np.round(xgb_clf_gridsearch.best_score_,4)},\n",
    "                 index=['Score']).T.sort_values(by='Score',ascending=False)"
   ]
  },
  {
   "cell_type": "markdown",
   "metadata": {},
   "source": [
    "<a id='ensemble'></a>"
   ]
  },
  {
   "cell_type": "markdown",
   "metadata": {},
   "source": [
    "# Ensemble Learning"
   ]
  },
  {
   "cell_type": "markdown",
   "metadata": {},
   "source": [
    "With all of the above algorithms trained and evaluated, I will now try to combine them all into one ensemble algorithm. For this, I will try both the Soft Voting Classifier and Stacking, and from that point on, I will go and use whichever out of the 2 performs better."
   ]
  },
  {
   "cell_type": "markdown",
   "metadata": {},
   "source": [
    "## Voting Classifier"
   ]
  },
  {
   "cell_type": "code",
   "execution_count": 156,
   "metadata": {},
   "outputs": [
    {
     "data": {
      "text/plain": [
       "array([0.8678183 , 0.87690339, 0.86602687, 0.86754543, 0.86972101])"
      ]
     },
     "execution_count": 156,
     "metadata": {},
     "output_type": "execute_result"
    }
   ],
   "source": [
    "v_clf = VotingClassifier([('Gradient Boosting',gridsearch_gb.best_estimator_),\n",
    "                         ('XGBoost',gridsearch_xgb.best_estimator_),\n",
    "                         ('Random Forest',gridsearch_rf.best_estimator_),\n",
    "                         ('Logistic regression',log_reg_GS.best_estimator_)],\n",
    "                         voting='hard')\n",
    "\n",
    "v_clf.fit(X_train,y_train)\n",
    "v_clf_acc = cross_val_score(v_clf,X_train,y_train,cv=5,scoring='accuracy')\n",
    "v_clf_acc"
   ]
  },
  {
   "cell_type": "code",
   "execution_count": 157,
   "metadata": {},
   "outputs": [
    {
     "data": {
      "text/plain": [
       "0.8696"
      ]
     },
     "execution_count": 157,
     "metadata": {},
     "output_type": "execute_result"
    }
   ],
   "source": [
    "v_clf_acc_mean = np.round(np.mean(v_clf_acc),4)\n",
    "v_clf_acc_mean"
   ]
  },
  {
   "cell_type": "markdown",
   "metadata": {},
   "source": [
    "AS demonstrated above, the voting classifier doesn't achieve higher accuracy than the individual classifiers. Perhaps it's Random forest and logistic regression that are weighing it down."
   ]
  },
  {
   "cell_type": "code",
   "execution_count": 158,
   "metadata": {},
   "outputs": [
    {
     "data": {
      "text/plain": [
       "array([0.86641075, 0.87805502, 0.87037748, 0.87061684, 0.87253647])"
      ]
     },
     "execution_count": 158,
     "metadata": {},
     "output_type": "execute_result"
    }
   ],
   "source": [
    "v_clf_boost = VotingClassifier([('Gradient Boosting',gridsearch_gb.best_estimator_),\n",
    "                             ('XGBoost',gridsearch_xgb.best_estimator_)],\n",
    "                             voting='soft')\n",
    "\n",
    "v_clf_boost.fit(X_train,y_train)\n",
    "v_clf_boost_acc = cross_val_score(v_clf_boost,X_train,y_train,cv=5,scoring='accuracy')\n",
    "v_clf_boost_acc"
   ]
  },
  {
   "cell_type": "code",
   "execution_count": 159,
   "metadata": {},
   "outputs": [
    {
     "data": {
      "text/plain": [
       "0.8716"
      ]
     },
     "execution_count": 159,
     "metadata": {},
     "output_type": "execute_result"
    }
   ],
   "source": [
    "v_clf_boost_acc_mean = np.round(np.mean(v_clf_boost_acc),4)\n",
    "v_clf_boost_acc_mean"
   ]
  },
  {
   "cell_type": "markdown",
   "metadata": {},
   "source": [
    "It turns out there's a small increase in performance when the model selection is narrowed down to only the best two. Also, instead of hard voting (based on binary outputs), soft voting (based on class probabilities) is used."
   ]
  },
  {
   "cell_type": "code",
   "execution_count": 160,
   "metadata": {},
   "outputs": [
    {
     "name": "stdout",
     "output_type": "stream",
     "text": [
      "ACCURACY COMPARISON:\n",
      "Gradient Boosting: 87.03 %\n",
      "Soft voting classifier: 87.16000000000001 %\n"
     ]
    }
   ],
   "source": [
    "print('ACCURACY COMPARISON:')\n",
    "print('Gradient Boosting:', 100*np.round(gb_clf_gridsearch.best_score_,4), '%')\n",
    "print('Soft voting classifier:', 100*v_clf_boost_acc_mean, '%')"
   ]
  },
  {
   "cell_type": "markdown",
   "metadata": {},
   "source": [
    "The increase in performance is very little and in my opinion does not in itself warrant using a Voting Classifier instead of simply going for Gradient Boosting with the hyperparameters tuned."
   ]
  },
  {
   "cell_type": "markdown",
   "metadata": {},
   "source": [
    "<a id='final'></a>"
   ]
  },
  {
   "cell_type": "markdown",
   "metadata": {},
   "source": [
    "# Final evaluation"
   ]
  },
  {
   "cell_type": "markdown",
   "metadata": {},
   "source": [
    "### Voting Classifier - Train Error"
   ]
  },
  {
   "cell_type": "code",
   "execution_count": 162,
   "metadata": {},
   "outputs": [
    {
     "name": "stdout",
     "output_type": "stream",
     "text": [
      "              precision    recall  f1-score   support\n",
      "\n",
      "           0       0.90      0.95      0.93     29691\n",
      "           1       0.81      0.68      0.74      9382\n",
      "\n",
      "    accuracy                           0.89     39073\n",
      "   macro avg       0.86      0.82      0.83     39073\n",
      "weighted avg       0.88      0.89      0.88     39073\n",
      "\n"
     ]
    }
   ],
   "source": [
    "v_train_predictions = v_clf_boost.predict(X_train)\n",
    "v_train_probabs = v_clf_boost.predict_proba(X_train)\n",
    "\n",
    "# Printing out the vclassifivcation report\n",
    "\n",
    "print(classification_report(y_train,v_train_predictions))"
   ]
  },
  {
   "cell_type": "code",
   "execution_count": 163,
   "metadata": {},
   "outputs": [
    {
     "data": {
      "text/plain": [
       "[<matplotlib.lines.Line2D at 0x1ba17ac38e0>]"
      ]
     },
     "execution_count": 163,
     "metadata": {},
     "output_type": "execute_result"
    },
    {
     "data": {
      "image/png": "[encoded data removed]",
      "text/plain": [
       "<Figure size 432x288 with 1 Axes>"
      ]
     },
     "metadata": {},
     "output_type": "display_data"
    }
   ],
   "source": [
    "plot_roc_curve(v_clf_boost, X_train, y_train)\n",
    "plt.title('Receiver Operating Characteristic (train set)',fontsize=14)\n",
    "plt.plot([0,1],[0,1],'r--')"
   ]
  },
  {
   "cell_type": "markdown",
   "metadata": {},
   "source": [
    "### Voting Classifier - Test Error"
   ]
  },
  {
   "cell_type": "code",
   "execution_count": 164,
   "metadata": {},
   "outputs": [
    {
     "name": "stdout",
     "output_type": "stream",
     "text": [
      "              precision    recall  f1-score   support\n",
      "\n",
      "           0       0.90      0.94      0.92      7464\n",
      "           1       0.77      0.66      0.71      2305\n",
      "\n",
      "    accuracy                           0.87      9769\n",
      "   macro avg       0.84      0.80      0.82      9769\n",
      "weighted avg       0.87      0.87      0.87      9769\n",
      "\n"
     ]
    }
   ],
   "source": [
    "v_test_predictions = v_clf_boost.predict(X_test)\n",
    "v_test_probabs = v_clf_boost.predict_proba(X_test)\n",
    "\n",
    "# Printing out the Classification report\n",
    "\n",
    "print(classification_report(y_test,v_test_predictions))"
   ]
  },
  {
   "cell_type": "code",
   "execution_count": 165,
   "metadata": {},
   "outputs": [
    {
     "data": {
      "text/plain": [
       "[<matplotlib.lines.Line2D at 0x1ba280bc940>]"
      ]
     },
     "execution_count": 165,
     "metadata": {},
     "output_type": "execute_result"
    },
    {
     "data": {
      "image/png": "[encoded data removed]",
      "text/plain": [
       "<Figure size 432x288 with 1 Axes>"
      ]
     },
     "metadata": {},
     "output_type": "display_data"
    }
   ],
   "source": [
    "plot_roc_curve(v_clf_boost, X_test, y_test)\n",
    "plt.title('Receiver Operating Characteristic (Test set)',fontsize=14)\n",
    "plt.plot([0,1],[0,1],'r--')"
   ]
  },
  {
   "cell_type": "code",
   "execution_count": 166,
   "metadata": {},
   "outputs": [
    {
     "name": "stdout",
     "output_type": "stream",
     "text": [
      "VOTING CLASSIFIER SUMMARY:\n",
      "Train set accuracy:  88.56 %\n",
      "Test set accuracy:  87.41 %\n",
      "Train set AUC:  0.94\n",
      "Test set AUC:  0.93\n"
     ]
    }
   ],
   "source": [
    "train_accuracy = np.round(100*accuracy_score(y_train, v_train_predictions),2)\n",
    "test_accuracy = np.round(100*accuracy_score(y_test, v_test_predictions),2)\n",
    "train_auc = np.round(roc_auc_score(y_train,v_train_probabs[:,1]),2)\n",
    "test_auc = np.round(roc_auc_score(y_test,v_test_probabs[:,1]),2)\n",
    "\n",
    "print('VOTING CLASSIFIER SUMMARY:')\n",
    "print('Train set accuracy: ', train_accuracy, '%')\n",
    "print('Test set accuracy: ', test_accuracy, '%')\n",
    "print('Train set AUC: ', train_auc)\n",
    "print('Test set AUC: ', test_auc)"
   ]
  },
  {
   "cell_type": "markdown",
   "metadata": {},
   "source": [
    "### Gradient Boosting - Train Error"
   ]
  },
  {
   "cell_type": "code",
   "execution_count": 167,
   "metadata": {},
   "outputs": [
    {
     "name": "stdout",
     "output_type": "stream",
     "text": [
      "              precision    recall  f1-score   support\n",
      "\n",
      "           0       0.90      0.95      0.92     29691\n",
      "           1       0.80      0.67      0.73      9382\n",
      "\n",
      "    accuracy                           0.88     39073\n",
      "   macro avg       0.85      0.81      0.83     39073\n",
      "weighted avg       0.88      0.88      0.88     39073\n",
      "\n"
     ]
    }
   ],
   "source": [
    "gb_train_predictions = gb_clf_gridsearch.predict(X_train)\n",
    "gb_train_probabs = gb_clf_gridsearch.predict_proba(X_train)\n",
    "\n",
    "# Printing out the Classification report\n",
    "\n",
    "print(classification_report(y_train,gb_train_predictions))"
   ]
  },
  {
   "cell_type": "code",
   "execution_count": 168,
   "metadata": {},
   "outputs": [
    {
     "data": {
      "text/plain": [
       "[<matplotlib.lines.Line2D at 0x1ba17b2da60>]"
      ]
     },
     "execution_count": 168,
     "metadata": {},
     "output_type": "execute_result"
    },
    {
     "data": {
      "image/png": "[encoded data removed]",
      "text/plain": [
       "<Figure size 432x288 with 1 Axes>"
      ]
     },
     "metadata": {},
     "output_type": "display_data"
    }
   ],
   "source": [
    "plot_roc_curve(gb_clf_gridsearch, X_train, y_train)\n",
    "plt.title('Receiver Operating Characteristic (train set)',fontsize=14)\n",
    "plt.plot([0,1],[0,1],'r--')"
   ]
  },
  {
   "cell_type": "markdown",
   "metadata": {},
   "source": [
    "It's time to confirm that the algorithm works well by generalizing it to data it has never seen before - the test set."
   ]
  },
  {
   "cell_type": "markdown",
   "metadata": {},
   "source": [
    "### Gradient Boosting - Test Error"
   ]
  },
  {
   "cell_type": "code",
   "execution_count": 169,
   "metadata": {},
   "outputs": [
    {
     "name": "stdout",
     "output_type": "stream",
     "text": [
      "              precision    recall  f1-score   support\n",
      "\n",
      "           0       0.90      0.94      0.92      7464\n",
      "           1       0.78      0.66      0.71      2305\n",
      "\n",
      "    accuracy                           0.87      9769\n",
      "   macro avg       0.84      0.80      0.82      9769\n",
      "weighted avg       0.87      0.87      0.87      9769\n",
      "\n"
     ]
    }
   ],
   "source": [
    "gb_test_predictions = gb_clf_gridsearch.predict(X_test)\n",
    "gb_test_probabs = gb_clf_gridsearch.predict_proba(X_test)\n",
    "\n",
    "# Printing out the Classification report\n",
    "\n",
    "print(classification_report(y_test,gb_test_predictions))"
   ]
  },
  {
   "cell_type": "code",
   "execution_count": 170,
   "metadata": {},
   "outputs": [
    {
     "data": {
      "text/plain": [
       "[<matplotlib.lines.Line2D at 0x1ba17d4c130>]"
      ]
     },
     "execution_count": 170,
     "metadata": {},
     "output_type": "execute_result"
    },
    {
     "data": {
      "image/png": "[encoded data removed]",
      "text/plain": [
       "<Figure size 432x288 with 1 Axes>"
      ]
     },
     "metadata": {},
     "output_type": "display_data"
    }
   ],
   "source": [
    "plot_roc_curve(gb_clf_gridsearch, X_test, y_test)\n",
    "plt.title('Receiver Operating Characteristic (Test set)',fontsize=14)\n",
    "plt.plot([0,1],[0,1],'r--')"
   ]
  },
  {
   "cell_type": "code",
   "execution_count": 171,
   "metadata": {},
   "outputs": [
    {
     "name": "stdout",
     "output_type": "stream",
     "text": [
      "GRADIENT BOOSTING CLASSIFIER SUMMARY:\n",
      "Train set accuracy:  88.07 %\n",
      "Test set accuracy:  87.43 %\n",
      "Train set AUC:  0.94\n",
      "Test set AUC:  0.93\n"
     ]
    }
   ],
   "source": [
    "train_accuracy = np.round(100*accuracy_score(y_train, gb_train_predictions),2)\n",
    "test_accuracy = np.round(100*accuracy_score(y_test, gb_test_predictions),2)\n",
    "train_auc = np.round(roc_auc_score(y_train,gb_train_probabs[:,1]),2)\n",
    "test_auc = np.round(roc_auc_score(y_test,gb_test_probabs[:,1]),2)\n",
    "\n",
    "print('GRADIENT BOOSTING CLASSIFIER SUMMARY:')\n",
    "print('Train set accuracy: ', train_accuracy, '%')\n",
    "print('Test set accuracy: ', test_accuracy, '%')\n",
    "print('Train set AUC: ', train_auc)\n",
    "print('Test set AUC: ', test_auc)"
   ]
  },
  {
   "cell_type": "markdown",
   "metadata": {},
   "source": [
    "As demonstrated above, the algorithm performs very similarly on the train and test set. That's a sign it doesn't overfit the training data. "
   ]
  },
  {
   "cell_type": "markdown",
   "metadata": {},
   "source": [
    "Both the voting classifier and Gradient Boosting perform very similarly. Due to the fact that for Gradient Boosting less computational power is required, it might be the better pick here."
   ]
  },
  {
   "cell_type": "markdown",
   "metadata": {},
   "source": [
    "<a id='feature_importance'></a>"
   ]
  },
  {
   "cell_type": "markdown",
   "metadata": {},
   "source": [
    "# Feature importance"
   ]
  },
  {
   "cell_type": "markdown",
   "metadata": {},
   "source": [
    "Before ending the project, it's a good idea to look into the relative importances that different models assigned to different features. This might help us get better insight into the data. This, in turn, might point us in the right direction when collecting further data - we could focus more on the most important data (perhaps split it even further into more different categories) and we could also stop collecting data that's not indicative of what we're trying to predict.\n",
    "\n",
    "I will take a look at the feature importances assigned by Gradient Boosting and XGBoost."
   ]
  },
  {
   "cell_type": "markdown",
   "metadata": {},
   "source": [
    "## Gradient Boosting"
   ]
  },
  {
   "cell_type": "code",
   "execution_count": 172,
   "metadata": {},
   "outputs": [
    {
     "name": "stdout",
     "output_type": "stream",
     "text": [
      "TOP 10 MOST IMPORTANT FEATURES FOR GRADIENT BOOSTING:\n"
     ]
    },
    {
     "data": {
      "text/html": [
       "<div>\n",
       "<style scoped>\n",
       "    .dataframe tbody tr th:only-of-type {\n",
       "        vertical-align: middle;\n",
       "    }\n",
       "\n",
       "    .dataframe tbody tr th {\n",
       "        vertical-align: top;\n",
       "    }\n",
       "\n",
       "    .dataframe thead th {\n",
       "        text-align: right;\n",
       "    }\n",
       "</style>\n",
       "<table border=\"1\" class=\"dataframe\">\n",
       "  <thead>\n",
       "    <tr style=\"text-align: right;\">\n",
       "      <th></th>\n",
       "      <th>Feature</th>\n",
       "      <th>Importance</th>\n",
       "    </tr>\n",
       "  </thead>\n",
       "  <tbody>\n",
       "    <tr>\n",
       "      <th>9</th>\n",
       "      <td>Married-spouse-absent</td>\n",
       "      <td>0.386984</td>\n",
       "    </tr>\n",
       "    <tr>\n",
       "      <th>39</th>\n",
       "      <td>Capital-gain</td>\n",
       "      <td>0.200167</td>\n",
       "    </tr>\n",
       "    <tr>\n",
       "      <th>38</th>\n",
       "      <td>Education-num</td>\n",
       "      <td>0.182252</td>\n",
       "    </tr>\n",
       "    <tr>\n",
       "      <th>40</th>\n",
       "      <td>Capital-loss</td>\n",
       "      <td>0.064067</td>\n",
       "    </tr>\n",
       "    <tr>\n",
       "      <th>36</th>\n",
       "      <td>Age</td>\n",
       "      <td>0.059426</td>\n",
       "    </tr>\n",
       "    <tr>\n",
       "      <th>41</th>\n",
       "      <td>Hours-per-week</td>\n",
       "      <td>0.040472</td>\n",
       "    </tr>\n",
       "    <tr>\n",
       "      <th>37</th>\n",
       "      <td>fnlwgt</td>\n",
       "      <td>0.013897</td>\n",
       "    </tr>\n",
       "    <tr>\n",
       "      <th>14</th>\n",
       "      <td>Professional</td>\n",
       "      <td>0.009546</td>\n",
       "    </tr>\n",
       "    <tr>\n",
       "      <th>15</th>\n",
       "      <td>Service</td>\n",
       "      <td>0.008565</td>\n",
       "    </tr>\n",
       "    <tr>\n",
       "      <th>12</th>\n",
       "      <td>Office</td>\n",
       "      <td>0.006898</td>\n",
       "    </tr>\n",
       "  </tbody>\n",
       "</table>\n",
       "</div>"
      ],
      "text/plain": [
       "                   Feature  Importance\n",
       "9    Married-spouse-absent    0.386984\n",
       "39            Capital-gain    0.200167\n",
       "38           Education-num    0.182252\n",
       "40            Capital-loss    0.064067\n",
       "36                     Age    0.059426\n",
       "41          Hours-per-week    0.040472\n",
       "37                  fnlwgt    0.013897\n",
       "14            Professional    0.009546\n",
       "15                 Service    0.008565\n",
       "12                  Office    0.006898"
      ]
     },
     "execution_count": 172,
     "metadata": {},
     "output_type": "execute_result"
    }
   ],
   "source": [
    "print('TOP 10 MOST IMPORTANT FEATURES FOR GRADIENT BOOSTING:')\n",
    "feature_importance_gb = pd.DataFrame(zip(X_test.columns, gb_clf_gridsearch.best_estimator_.feature_importances_),columns=['Feature','Importance'])\n",
    "feature_importance_gb.sort_values(by='Importance',ascending=False).head(10)"
   ]
  },
  {
   "cell_type": "markdown",
   "metadata": {},
   "source": [
    "## XGBoost"
   ]
  },
  {
   "cell_type": "code",
   "execution_count": 173,
   "metadata": {},
   "outputs": [
    {
     "name": "stdout",
     "output_type": "stream",
     "text": [
      "TOP 10 MOST IMPORTANT FEATURES FOR XGBOOST:\n"
     ]
    },
    {
     "data": {
      "text/html": [
       "<div>\n",
       "<style scoped>\n",
       "    .dataframe tbody tr th:only-of-type {\n",
       "        vertical-align: middle;\n",
       "    }\n",
       "\n",
       "    .dataframe tbody tr th {\n",
       "        vertical-align: top;\n",
       "    }\n",
       "\n",
       "    .dataframe thead th {\n",
       "        text-align: right;\n",
       "    }\n",
       "</style>\n",
       "<table border=\"1\" class=\"dataframe\">\n",
       "  <thead>\n",
       "    <tr style=\"text-align: right;\">\n",
       "      <th></th>\n",
       "      <th>Feature</th>\n",
       "      <th>Importance</th>\n",
       "    </tr>\n",
       "  </thead>\n",
       "  <tbody>\n",
       "    <tr>\n",
       "      <th>9</th>\n",
       "      <td>Married-spouse-absent</td>\n",
       "      <td>0.505383</td>\n",
       "    </tr>\n",
       "    <tr>\n",
       "      <th>38</th>\n",
       "      <td>Education-num</td>\n",
       "      <td>0.076367</td>\n",
       "    </tr>\n",
       "    <tr>\n",
       "      <th>21</th>\n",
       "      <td>Own-child</td>\n",
       "      <td>0.052075</td>\n",
       "    </tr>\n",
       "    <tr>\n",
       "      <th>39</th>\n",
       "      <td>Capital-gain</td>\n",
       "      <td>0.048466</td>\n",
       "    </tr>\n",
       "    <tr>\n",
       "      <th>16</th>\n",
       "      <td>Unknown-Occupation</td>\n",
       "      <td>0.040380</td>\n",
       "    </tr>\n",
       "    <tr>\n",
       "      <th>40</th>\n",
       "      <td>Capital-loss</td>\n",
       "      <td>0.022686</td>\n",
       "    </tr>\n",
       "    <tr>\n",
       "      <th>14</th>\n",
       "      <td>Professional</td>\n",
       "      <td>0.020824</td>\n",
       "    </tr>\n",
       "    <tr>\n",
       "      <th>12</th>\n",
       "      <td>Office</td>\n",
       "      <td>0.019714</td>\n",
       "    </tr>\n",
       "    <tr>\n",
       "      <th>36</th>\n",
       "      <td>Age</td>\n",
       "      <td>0.014722</td>\n",
       "    </tr>\n",
       "    <tr>\n",
       "      <th>19</th>\n",
       "      <td>Husband</td>\n",
       "      <td>0.013609</td>\n",
       "    </tr>\n",
       "  </tbody>\n",
       "</table>\n",
       "</div>"
      ],
      "text/plain": [
       "                   Feature  Importance\n",
       "9    Married-spouse-absent    0.505383\n",
       "38           Education-num    0.076367\n",
       "21               Own-child    0.052075\n",
       "39            Capital-gain    0.048466\n",
       "16      Unknown-Occupation    0.040380\n",
       "40            Capital-loss    0.022686\n",
       "14            Professional    0.020824\n",
       "12                  Office    0.019714\n",
       "36                     Age    0.014722\n",
       "19                 Husband    0.013609"
      ]
     },
     "execution_count": 173,
     "metadata": {},
     "output_type": "execute_result"
    }
   ],
   "source": [
    "print('TOP 10 MOST IMPORTANT FEATURES FOR XGBOOST:')\n",
    "feature_importance_xgb = pd.DataFrame(zip(X_test.columns, xgb_clf_gridsearch.best_estimator_.feature_importances_),columns=['Feature','Importance'])\n",
    "feature_importance_xgb.sort_values(by='Importance',ascending=False).head(10)"
   ]
  },
  {
   "cell_type": "markdown",
   "metadata": {},
   "source": [
    "Another way of checking how each feature contributed to the final prediction of the income is to check the correlation matrix."
   ]
  },
  {
   "cell_type": "code",
   "execution_count": 174,
   "metadata": {},
   "outputs": [
    {
     "name": "stdout",
     "output_type": "stream",
     "text": [
      "FEATURES CORRELATING WITH INCOME:\n"
     ]
    },
    {
     "data": {
      "text/plain": [
       " Married-spouse-absent    0.446292\n",
       " Not-in-family            0.403791\n",
       "Sex                       0.214628\n",
       "Service                   0.188793\n",
       "Professional              0.182664\n",
       " Other-relative           0.120484\n",
       "Unknown-Workclass         0.103570\n",
       " Other                    0.083710\n",
       "Education                 0.080091\n",
       "Self-emp                  0.063509\n",
       "South-America             0.032551\n",
       "Manual                    0.025167\n",
       "USA                       0.016767\n",
       "North-America             0.016599\n",
       " Black                    0.012587\n",
       "Europe                    0.005459\n",
       " Private                 -0.010323\n",
       " Amer-Indian-Eskimo      -0.024920\n",
       " White                   -0.028247\n",
       " Never-married           -0.039303\n",
       "Unknown-Country          -0.042688\n",
       "Asia                     -0.057464\n",
       "Separated                -0.065050\n",
       "Government               -0.075625\n",
       "Non-worker               -0.083567\n",
       "Military                 -0.083921\n",
       " Wife                    -0.085601\n",
       "Admin                    -0.086475\n",
       " Asian-Pac-Islander      -0.090448\n",
       "Office                   -0.109589\n",
       " Unmarried               -0.143642\n",
       " Widowed                 -0.152196\n",
       "Unknown-Occupation       -0.160561\n",
       " Husband                 -0.190372\n",
       " Own-child               -0.225691\n",
       "Married                  -0.318782\n",
       "Name: Income, dtype: float64"
      ]
     },
     "execution_count": 174,
     "metadata": {},
     "output_type": "execute_result"
    }
   ],
   "source": [
    "print('FEATURES CORRELATING WITH INCOME:')\n",
    "features_corr = train_test_bin_encoded.corr()['Income'].sort_values(ascending=False)[1:]\n",
    "features_corr"
   ]
  },
  {
   "cell_type": "code",
   "execution_count": 175,
   "metadata": {},
   "outputs": [
    {
     "data": {
      "text/plain": [
       "<matplotlib.axes._subplots.AxesSubplot at 0x1ba284dd220>"
      ]
     },
     "execution_count": 175,
     "metadata": {},
     "output_type": "execute_result"
    },
    {
     "data": {
      "image/png": "[encoded data removed]",
      "text/plain": [
       "<Figure size 864x576 with 2 Axes>"
      ]
     },
     "metadata": {},
     "output_type": "display_data"
    }
   ],
   "source": [
    "plt.figure(figsize=(12,8))\n",
    "plt.title('Features correlating with Income',fontsize=20)\n",
    "sns.heatmap(pd.DataFrame(features_corr),cmap='vlag')"
   ]
  },
  {
   "cell_type": "markdown",
   "metadata": {},
   "source": [
    "Keep in mind that in the case of correlation values closest to 0 should are negligible while large values - both positive AND NEGATIVE are key. We can see here that some of the important features correlating with Income seem to be:\n",
    "\n",
    "\n",
    "**POSITIVE CORRELATION (1 tends to correspond to Income > 50K, 0 tends to correspond to Income < 50K)**\n",
    "\n",
    "Married-spouse-absent\n",
    "Not-in-family\n",
    "Sex\n",
    "\n",
    "**NEGATIVE CORRELATION (1 tends to correspond to Income < 50 K, 0 tends to correspond to Income > 50K)**\n",
    "\n",
    "Married\n",
    "Own-child"
   ]
  },
  {
   "cell_type": "markdown",
   "metadata": {},
   "source": [
    "<a id='possible'></a>"
   ]
  },
  {
   "cell_type": "markdown",
   "metadata": {},
   "source": [
    "# Is it possible to improve the model? And how?"
   ]
  },
  {
   "cell_type": "markdown",
   "metadata": {},
   "source": [
    "Because the model performs very similarly on the training and test set, it doesn't overfit the data so high variance is not a problem here. The steps that could be taken are steps used in a high bias situation (though to be honest the evaluation metrics are not that bad so it's not like we're dealing with a serious high bias/underfitting issue here). \n",
    "\n",
    "Some of the steps that can be taken to improve the model's performance are:\n",
    "\n",
    "\n",
    "* Get more elaborate features. Create new, meaningful ones by combining or splitting the existing ones.\n",
    "\n",
    "* Get rid of the features that don't matter that much.\n",
    "\n",
    "* Try getting polynomial features.\n",
    "\n",
    "* Try a wider range of the regularization parameter, namely try decreasing the regularization (in the case of GradientBoosting this means INCREASING the C hyperparameter)."
   ]
  },
  {
   "cell_type": "markdown",
   "metadata": {},
   "source": [
    "Thanks for checking out my project!  :) \n",
    "\n",
    "~ Jakub"
   ]
  },
  {
   "cell_type": "markdown",
   "metadata": {},
   "source": [
    "________________________________"
   ]
  },
  {
   "cell_type": "markdown",
   "metadata": {},
   "source": [
    "*(If you want to work with me, check out my LinkedIn:\n",
    "https://www.linkedin.com/in/jakub-gil/ or drop me an e-mail! jakubgil.poczta@gmail.com)*"
   ]
  }
 ],
 "metadata": {
  "kernelspec": {
   "display_name": "Python 3",
   "language": "python",
   "name": "python3"
  },
  "language_info": {
   "codemirror_mode": {
    "name": "ipython",
    "version": 3
   },
   "file_extension": ".py",
   "mimetype": "text/x-python",
   "name": "python",
   "nbconvert_exporter": "python",
   "pygments_lexer": "ipython3",
   "version": "3.8.3"
  }
 },
 "nbformat": 4,
 "nbformat_minor": 4
}
